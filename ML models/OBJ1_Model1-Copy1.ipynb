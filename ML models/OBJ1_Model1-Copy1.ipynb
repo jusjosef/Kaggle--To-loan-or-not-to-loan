{
 "cells": [
  {
   "cell_type": "code",
   "execution_count": 2,
   "metadata": {
    "collapsed": true
   },
   "outputs": [],
   "source": [
    "import numpy as np\n",
    "import pandas as pd"
   ]
  },
  {
   "cell_type": "code",
   "execution_count": 3,
   "metadata": {
    "collapsed": true
   },
   "outputs": [],
   "source": [
    "data= pd.read_csv(\"Final data_without_transactions.csv\")"
   ]
  },
  {
   "cell_type": "code",
   "execution_count": 4,
   "metadata": {},
   "outputs": [
    {
     "data": {
      "text/html": [
       "<div>\n",
       "<style>\n",
       "    .dataframe thead tr:only-child th {\n",
       "        text-align: right;\n",
       "    }\n",
       "\n",
       "    .dataframe thead th {\n",
       "        text-align: left;\n",
       "    }\n",
       "\n",
       "    .dataframe tbody tr th {\n",
       "        vertical-align: top;\n",
       "    }\n",
       "</style>\n",
       "<table border=\"1\" class=\"dataframe\">\n",
       "  <thead>\n",
       "    <tr style=\"text-align: right;\">\n",
       "      <th></th>\n",
       "      <th>Unnamed: 0</th>\n",
       "      <th>loan_id</th>\n",
       "      <th>account_id</th>\n",
       "      <th>loan_date</th>\n",
       "      <th>loan_amount</th>\n",
       "      <th>duration</th>\n",
       "      <th>payments</th>\n",
       "      <th>status</th>\n",
       "      <th>district_id_bank</th>\n",
       "      <th>frequency_statements</th>\n",
       "      <th>...</th>\n",
       "      <th>no. of municipalities with inhabitants 2000-9999_y</th>\n",
       "      <th>no. of municipalities with inhabitants &gt;10000_y</th>\n",
       "      <th>no. of cities_y</th>\n",
       "      <th>ratio of urban inhabitants_y</th>\n",
       "      <th>average salary_y</th>\n",
       "      <th>unemployment rate 95_y</th>\n",
       "      <th>unemployment rate 96_y</th>\n",
       "      <th>no. of entrepreneurs per 1000 inhabitants_y</th>\n",
       "      <th>no. of committed crimes 95_y</th>\n",
       "      <th>no. of committed crimes 96_y</th>\n",
       "    </tr>\n",
       "  </thead>\n",
       "  <tbody>\n",
       "    <tr>\n",
       "      <th>0</th>\n",
       "      <td>0</td>\n",
       "      <td>5314</td>\n",
       "      <td>1787</td>\n",
       "      <td>930705</td>\n",
       "      <td>96396</td>\n",
       "      <td>12</td>\n",
       "      <td>8033.0</td>\n",
       "      <td>B</td>\n",
       "      <td>30</td>\n",
       "      <td>POPLATEK TYDNE</td>\n",
       "      <td>...</td>\n",
       "      <td>8</td>\n",
       "      <td>2</td>\n",
       "      <td>10</td>\n",
       "      <td>81.8</td>\n",
       "      <td>9650</td>\n",
       "      <td>3.38</td>\n",
       "      <td>3.67</td>\n",
       "      <td>100</td>\n",
       "      <td>2985</td>\n",
       "      <td>2804</td>\n",
       "    </tr>\n",
       "    <tr>\n",
       "      <th>1</th>\n",
       "      <td>1</td>\n",
       "      <td>5316</td>\n",
       "      <td>1801</td>\n",
       "      <td>930711</td>\n",
       "      <td>165960</td>\n",
       "      <td>36</td>\n",
       "      <td>4610.0</td>\n",
       "      <td>A</td>\n",
       "      <td>46</td>\n",
       "      <td>POPLATEK MESICNE</td>\n",
       "      <td>...</td>\n",
       "      <td>7</td>\n",
       "      <td>3</td>\n",
       "      <td>10</td>\n",
       "      <td>73.5</td>\n",
       "      <td>8369</td>\n",
       "      <td>1.79</td>\n",
       "      <td>2.31</td>\n",
       "      <td>117</td>\n",
       "      <td>2854</td>\n",
       "      <td>2618</td>\n",
       "    </tr>\n",
       "    <tr>\n",
       "      <th>2</th>\n",
       "      <td>2</td>\n",
       "      <td>6863</td>\n",
       "      <td>9188</td>\n",
       "      <td>930728</td>\n",
       "      <td>127080</td>\n",
       "      <td>60</td>\n",
       "      <td>2118.0</td>\n",
       "      <td>A</td>\n",
       "      <td>45</td>\n",
       "      <td>POPLATEK MESICNE</td>\n",
       "      <td>...</td>\n",
       "      <td>6</td>\n",
       "      <td>1</td>\n",
       "      <td>5</td>\n",
       "      <td>53.5</td>\n",
       "      <td>8390</td>\n",
       "      <td>2.28</td>\n",
       "      <td>2.89</td>\n",
       "      <td>132</td>\n",
       "      <td>2080</td>\n",
       "      <td>2122</td>\n",
       "    </tr>\n",
       "    <tr>\n",
       "      <th>3</th>\n",
       "      <td>3</td>\n",
       "      <td>5325</td>\n",
       "      <td>1843</td>\n",
       "      <td>930803</td>\n",
       "      <td>105804</td>\n",
       "      <td>36</td>\n",
       "      <td>2939.0</td>\n",
       "      <td>A</td>\n",
       "      <td>12</td>\n",
       "      <td>POPLATEK MESICNE</td>\n",
       "      <td>...</td>\n",
       "      <td>10</td>\n",
       "      <td>1</td>\n",
       "      <td>9</td>\n",
       "      <td>74.8</td>\n",
       "      <td>10045</td>\n",
       "      <td>1.42</td>\n",
       "      <td>1.71</td>\n",
       "      <td>135</td>\n",
       "      <td>6604</td>\n",
       "      <td>6295</td>\n",
       "    </tr>\n",
       "    <tr>\n",
       "      <th>4</th>\n",
       "      <td>4</td>\n",
       "      <td>7240</td>\n",
       "      <td>11013</td>\n",
       "      <td>930906</td>\n",
       "      <td>274740</td>\n",
       "      <td>60</td>\n",
       "      <td>4579.0</td>\n",
       "      <td>A</td>\n",
       "      <td>1</td>\n",
       "      <td>POPLATEK TYDNE</td>\n",
       "      <td>...</td>\n",
       "      <td>5</td>\n",
       "      <td>1</td>\n",
       "      <td>5</td>\n",
       "      <td>50.5</td>\n",
       "      <td>8288</td>\n",
       "      <td>3.79</td>\n",
       "      <td>4.52</td>\n",
       "      <td>110</td>\n",
       "      <td>1562</td>\n",
       "      <td>1460</td>\n",
       "    </tr>\n",
       "  </tbody>\n",
       "</table>\n",
       "<p>5 rows × 52 columns</p>\n",
       "</div>"
      ],
      "text/plain": [
       "   Unnamed: 0  loan_id  account_id  loan_date  loan_amount  duration  \\\n",
       "0           0     5314        1787     930705        96396        12   \n",
       "1           1     5316        1801     930711       165960        36   \n",
       "2           2     6863        9188     930728       127080        60   \n",
       "3           3     5325        1843     930803       105804        36   \n",
       "4           4     7240       11013     930906       274740        60   \n",
       "\n",
       "   payments status  district_id_bank frequency_statements  \\\n",
       "0    8033.0      B                30       POPLATEK TYDNE   \n",
       "1    4610.0      A                46     POPLATEK MESICNE   \n",
       "2    2118.0      A                45     POPLATEK MESICNE   \n",
       "3    2939.0      A                12     POPLATEK MESICNE   \n",
       "4    4579.0      A                 1       POPLATEK TYDNE   \n",
       "\n",
       "               ...               \\\n",
       "0              ...                \n",
       "1              ...                \n",
       "2              ...                \n",
       "3              ...                \n",
       "4              ...                \n",
       "\n",
       "   no. of municipalities with inhabitants 2000-9999_y  \\\n",
       "0                                                  8    \n",
       "1                                                  7    \n",
       "2                                                  6    \n",
       "3                                                 10    \n",
       "4                                                  5    \n",
       "\n",
       "   no. of municipalities with inhabitants >10000_y  no. of cities_y  \\\n",
       "0                                                2               10   \n",
       "1                                                3               10   \n",
       "2                                                1                5   \n",
       "3                                                1                9   \n",
       "4                                                1                5   \n",
       "\n",
       "  ratio of urban inhabitants_y  average salary_y unemployment rate 95_y  \\\n",
       "0                         81.8              9650                   3.38   \n",
       "1                         73.5              8369                   1.79   \n",
       "2                         53.5              8390                   2.28   \n",
       "3                         74.8             10045                   1.42   \n",
       "4                         50.5              8288                   3.79   \n",
       "\n",
       "  unemployment rate 96_y  no. of entrepreneurs per 1000 inhabitants_y  \\\n",
       "0                   3.67                                          100   \n",
       "1                   2.31                                          117   \n",
       "2                   2.89                                          132   \n",
       "3                   1.71                                          135   \n",
       "4                   4.52                                          110   \n",
       "\n",
       "   no. of committed crimes 95_y  no. of committed crimes 96_y  \n",
       "0                          2985                          2804  \n",
       "1                          2854                          2618  \n",
       "2                          2080                          2122  \n",
       "3                          6604                          6295  \n",
       "4                          1562                          1460  \n",
       "\n",
       "[5 rows x 52 columns]"
      ]
     },
     "execution_count": 4,
     "metadata": {},
     "output_type": "execute_result"
    }
   ],
   "source": [
    "data.head()"
   ]
  },
  {
   "cell_type": "code",
   "execution_count": 25,
   "metadata": {
    "collapsed": true
   },
   "outputs": [],
   "source": [
    "trans=pd.read_csv(\"trans_mod.csv\")"
   ]
  },
  {
   "cell_type": "code",
   "execution_count": 26,
   "metadata": {},
   "outputs": [
    {
     "data": {
      "text/html": [
       "<div>\n",
       "<style>\n",
       "    .dataframe thead tr:only-child th {\n",
       "        text-align: right;\n",
       "    }\n",
       "\n",
       "    .dataframe thead th {\n",
       "        text-align: left;\n",
       "    }\n",
       "\n",
       "    .dataframe tbody tr th {\n",
       "        vertical-align: top;\n",
       "    }\n",
       "</style>\n",
       "<table border=\"1\" class=\"dataframe\">\n",
       "  <thead>\n",
       "    <tr style=\"text-align: right;\">\n",
       "      <th></th>\n",
       "      <th>account_id</th>\n",
       "      <th>type</th>\n",
       "      <th>mode of transaction</th>\n",
       "      <th>amount</th>\n",
       "      <th>balance</th>\n",
       "      <th>transaction_character</th>\n",
       "      <th>to_bank</th>\n",
       "      <th>account_partner</th>\n",
       "      <th>Date</th>\n",
       "      <th>month</th>\n",
       "    </tr>\n",
       "  </thead>\n",
       "  <tbody>\n",
       "    <tr>\n",
       "      <th>0</th>\n",
       "      <td>2378</td>\n",
       "      <td>credit</td>\n",
       "      <td>credit in cash</td>\n",
       "      <td>700.0</td>\n",
       "      <td>700.0</td>\n",
       "      <td>NaN</td>\n",
       "      <td>NaN</td>\n",
       "      <td>NaN</td>\n",
       "      <td>01-01-1993</td>\n",
       "      <td>Jan-93</td>\n",
       "    </tr>\n",
       "    <tr>\n",
       "      <th>1</th>\n",
       "      <td>576</td>\n",
       "      <td>credit</td>\n",
       "      <td>credit in cash</td>\n",
       "      <td>900.0</td>\n",
       "      <td>900.0</td>\n",
       "      <td>NaN</td>\n",
       "      <td>NaN</td>\n",
       "      <td>NaN</td>\n",
       "      <td>01-01-1993</td>\n",
       "      <td>Jan-93</td>\n",
       "    </tr>\n",
       "    <tr>\n",
       "      <th>2</th>\n",
       "      <td>704</td>\n",
       "      <td>credit</td>\n",
       "      <td>credit in cash</td>\n",
       "      <td>1000.0</td>\n",
       "      <td>1000.0</td>\n",
       "      <td>NaN</td>\n",
       "      <td>NaN</td>\n",
       "      <td>NaN</td>\n",
       "      <td>01-01-1993</td>\n",
       "      <td>Jan-93</td>\n",
       "    </tr>\n",
       "    <tr>\n",
       "      <th>3</th>\n",
       "      <td>3818</td>\n",
       "      <td>credit</td>\n",
       "      <td>credit in cash</td>\n",
       "      <td>600.0</td>\n",
       "      <td>600.0</td>\n",
       "      <td>NaN</td>\n",
       "      <td>NaN</td>\n",
       "      <td>NaN</td>\n",
       "      <td>01-01-1993</td>\n",
       "      <td>Jan-93</td>\n",
       "    </tr>\n",
       "    <tr>\n",
       "      <th>4</th>\n",
       "      <td>1972</td>\n",
       "      <td>credit</td>\n",
       "      <td>credit in cash</td>\n",
       "      <td>400.0</td>\n",
       "      <td>400.0</td>\n",
       "      <td>NaN</td>\n",
       "      <td>NaN</td>\n",
       "      <td>NaN</td>\n",
       "      <td>02-01-1993</td>\n",
       "      <td>Jan-93</td>\n",
       "    </tr>\n",
       "  </tbody>\n",
       "</table>\n",
       "</div>"
      ],
      "text/plain": [
       "   account_id    type mode of transaction  amount  balance  \\\n",
       "0        2378  credit      credit in cash   700.0    700.0   \n",
       "1         576  credit      credit in cash   900.0    900.0   \n",
       "2         704  credit      credit in cash  1000.0   1000.0   \n",
       "3        3818  credit      credit in cash   600.0    600.0   \n",
       "4        1972  credit      credit in cash   400.0    400.0   \n",
       "\n",
       "  transaction_character to_bank  account_partner        Date   month  \n",
       "0                   NaN     NaN              NaN  01-01-1993  Jan-93  \n",
       "1                   NaN     NaN              NaN  01-01-1993  Jan-93  \n",
       "2                   NaN     NaN              NaN  01-01-1993  Jan-93  \n",
       "3                   NaN     NaN              NaN  01-01-1993  Jan-93  \n",
       "4                   NaN     NaN              NaN  02-01-1993  Jan-93  "
      ]
     },
     "execution_count": 26,
     "metadata": {},
     "output_type": "execute_result"
    }
   ],
   "source": [
    "trans.head()"
   ]
  },
  {
   "cell_type": "code",
   "execution_count": 27,
   "metadata": {},
   "outputs": [
    {
     "data": {
      "text/plain": [
       "(1048575, 10)"
      ]
     },
     "execution_count": 27,
     "metadata": {},
     "output_type": "execute_result"
    }
   ],
   "source": [
    "trans.shape"
   ]
  },
  {
   "cell_type": "code",
   "execution_count": null,
   "metadata": {
    "collapsed": true
   },
   "outputs": [],
   "source": []
  },
  {
   "cell_type": "code",
   "execution_count": 28,
   "metadata": {
    "collapsed": true
   },
   "outputs": [],
   "source": [
    "#TRANS EDIT (AGE, remove unwanted columns)"
   ]
  },
  {
   "cell_type": "code",
   "execution_count": 29,
   "metadata": {
    "collapsed": true
   },
   "outputs": [],
   "source": [
    "trans.drop(['account_partner','to_bank'],axis=1,inplace=True)"
   ]
  },
  {
   "cell_type": "code",
   "execution_count": 30,
   "metadata": {},
   "outputs": [
    {
     "data": {
      "text/html": [
       "<div>\n",
       "<style>\n",
       "    .dataframe thead tr:only-child th {\n",
       "        text-align: right;\n",
       "    }\n",
       "\n",
       "    .dataframe thead th {\n",
       "        text-align: left;\n",
       "    }\n",
       "\n",
       "    .dataframe tbody tr th {\n",
       "        vertical-align: top;\n",
       "    }\n",
       "</style>\n",
       "<table border=\"1\" class=\"dataframe\">\n",
       "  <thead>\n",
       "    <tr style=\"text-align: right;\">\n",
       "      <th></th>\n",
       "      <th>account_id</th>\n",
       "      <th>type</th>\n",
       "      <th>mode of transaction</th>\n",
       "      <th>amount</th>\n",
       "      <th>balance</th>\n",
       "      <th>transaction_character</th>\n",
       "      <th>Date</th>\n",
       "      <th>month</th>\n",
       "    </tr>\n",
       "  </thead>\n",
       "  <tbody>\n",
       "    <tr>\n",
       "      <th>0</th>\n",
       "      <td>2378</td>\n",
       "      <td>credit</td>\n",
       "      <td>credit in cash</td>\n",
       "      <td>700.0</td>\n",
       "      <td>700.0</td>\n",
       "      <td>NaN</td>\n",
       "      <td>01-01-1993</td>\n",
       "      <td>Jan-93</td>\n",
       "    </tr>\n",
       "    <tr>\n",
       "      <th>1</th>\n",
       "      <td>576</td>\n",
       "      <td>credit</td>\n",
       "      <td>credit in cash</td>\n",
       "      <td>900.0</td>\n",
       "      <td>900.0</td>\n",
       "      <td>NaN</td>\n",
       "      <td>01-01-1993</td>\n",
       "      <td>Jan-93</td>\n",
       "    </tr>\n",
       "    <tr>\n",
       "      <th>2</th>\n",
       "      <td>704</td>\n",
       "      <td>credit</td>\n",
       "      <td>credit in cash</td>\n",
       "      <td>1000.0</td>\n",
       "      <td>1000.0</td>\n",
       "      <td>NaN</td>\n",
       "      <td>01-01-1993</td>\n",
       "      <td>Jan-93</td>\n",
       "    </tr>\n",
       "    <tr>\n",
       "      <th>3</th>\n",
       "      <td>3818</td>\n",
       "      <td>credit</td>\n",
       "      <td>credit in cash</td>\n",
       "      <td>600.0</td>\n",
       "      <td>600.0</td>\n",
       "      <td>NaN</td>\n",
       "      <td>01-01-1993</td>\n",
       "      <td>Jan-93</td>\n",
       "    </tr>\n",
       "    <tr>\n",
       "      <th>4</th>\n",
       "      <td>1972</td>\n",
       "      <td>credit</td>\n",
       "      <td>credit in cash</td>\n",
       "      <td>400.0</td>\n",
       "      <td>400.0</td>\n",
       "      <td>NaN</td>\n",
       "      <td>02-01-1993</td>\n",
       "      <td>Jan-93</td>\n",
       "    </tr>\n",
       "  </tbody>\n",
       "</table>\n",
       "</div>"
      ],
      "text/plain": [
       "   account_id    type mode of transaction  amount  balance  \\\n",
       "0        2378  credit      credit in cash   700.0    700.0   \n",
       "1         576  credit      credit in cash   900.0    900.0   \n",
       "2         704  credit      credit in cash  1000.0   1000.0   \n",
       "3        3818  credit      credit in cash   600.0    600.0   \n",
       "4        1972  credit      credit in cash   400.0    400.0   \n",
       "\n",
       "  transaction_character        Date   month  \n",
       "0                   NaN  01-01-1993  Jan-93  \n",
       "1                   NaN  01-01-1993  Jan-93  \n",
       "2                   NaN  01-01-1993  Jan-93  \n",
       "3                   NaN  01-01-1993  Jan-93  \n",
       "4                   NaN  02-01-1993  Jan-93  "
      ]
     },
     "execution_count": 30,
     "metadata": {},
     "output_type": "execute_result"
    }
   ],
   "source": [
    "trans.head()"
   ]
  },
  {
   "cell_type": "code",
   "execution_count": 31,
   "metadata": {
    "collapsed": true
   },
   "outputs": [],
   "source": [
    "trans['trans_date'] =  pd.to_datetime( trans['Date'], format='%d-%m-%Y' )\n",
    "trans['today'] = pd.to_datetime('01-01-1999')\n",
    "trans['trans_age']= (trans['today'] - trans['trans_date']).dt.days"
   ]
  },
  {
   "cell_type": "code",
   "execution_count": 32,
   "metadata": {
    "collapsed": true
   },
   "outputs": [],
   "source": [
    "trans.drop(['trans_date','Date','today','month'],axis=1,inplace=True)"
   ]
  },
  {
   "cell_type": "code",
   "execution_count": 33,
   "metadata": {},
   "outputs": [
    {
     "data": {
      "text/html": [
       "<div>\n",
       "<style>\n",
       "    .dataframe thead tr:only-child th {\n",
       "        text-align: right;\n",
       "    }\n",
       "\n",
       "    .dataframe thead th {\n",
       "        text-align: left;\n",
       "    }\n",
       "\n",
       "    .dataframe tbody tr th {\n",
       "        vertical-align: top;\n",
       "    }\n",
       "</style>\n",
       "<table border=\"1\" class=\"dataframe\">\n",
       "  <thead>\n",
       "    <tr style=\"text-align: right;\">\n",
       "      <th></th>\n",
       "      <th>account_id</th>\n",
       "      <th>type</th>\n",
       "      <th>mode of transaction</th>\n",
       "      <th>amount</th>\n",
       "      <th>balance</th>\n",
       "      <th>transaction_character</th>\n",
       "      <th>trans_age</th>\n",
       "    </tr>\n",
       "  </thead>\n",
       "  <tbody>\n",
       "    <tr>\n",
       "      <th>0</th>\n",
       "      <td>2378</td>\n",
       "      <td>credit</td>\n",
       "      <td>credit in cash</td>\n",
       "      <td>700.0</td>\n",
       "      <td>700.0</td>\n",
       "      <td>NaN</td>\n",
       "      <td>2191</td>\n",
       "    </tr>\n",
       "    <tr>\n",
       "      <th>1</th>\n",
       "      <td>576</td>\n",
       "      <td>credit</td>\n",
       "      <td>credit in cash</td>\n",
       "      <td>900.0</td>\n",
       "      <td>900.0</td>\n",
       "      <td>NaN</td>\n",
       "      <td>2191</td>\n",
       "    </tr>\n",
       "    <tr>\n",
       "      <th>2</th>\n",
       "      <td>704</td>\n",
       "      <td>credit</td>\n",
       "      <td>credit in cash</td>\n",
       "      <td>1000.0</td>\n",
       "      <td>1000.0</td>\n",
       "      <td>NaN</td>\n",
       "      <td>2191</td>\n",
       "    </tr>\n",
       "    <tr>\n",
       "      <th>3</th>\n",
       "      <td>3818</td>\n",
       "      <td>credit</td>\n",
       "      <td>credit in cash</td>\n",
       "      <td>600.0</td>\n",
       "      <td>600.0</td>\n",
       "      <td>NaN</td>\n",
       "      <td>2191</td>\n",
       "    </tr>\n",
       "    <tr>\n",
       "      <th>4</th>\n",
       "      <td>1972</td>\n",
       "      <td>credit</td>\n",
       "      <td>credit in cash</td>\n",
       "      <td>400.0</td>\n",
       "      <td>400.0</td>\n",
       "      <td>NaN</td>\n",
       "      <td>2190</td>\n",
       "    </tr>\n",
       "  </tbody>\n",
       "</table>\n",
       "</div>"
      ],
      "text/plain": [
       "   account_id    type mode of transaction  amount  balance  \\\n",
       "0        2378  credit      credit in cash   700.0    700.0   \n",
       "1         576  credit      credit in cash   900.0    900.0   \n",
       "2         704  credit      credit in cash  1000.0   1000.0   \n",
       "3        3818  credit      credit in cash   600.0    600.0   \n",
       "4        1972  credit      credit in cash   400.0    400.0   \n",
       "\n",
       "  transaction_character  trans_age  \n",
       "0                   NaN       2191  \n",
       "1                   NaN       2191  \n",
       "2                   NaN       2191  \n",
       "3                   NaN       2191  \n",
       "4                   NaN       2190  "
      ]
     },
     "execution_count": 33,
     "metadata": {},
     "output_type": "execute_result"
    }
   ],
   "source": [
    "trans.head()"
   ]
  },
  {
   "cell_type": "code",
   "execution_count": null,
   "metadata": {
    "collapsed": true
   },
   "outputs": [],
   "source": []
  },
  {
   "cell_type": "code",
   "execution_count": 34,
   "metadata": {
    "collapsed": true
   },
   "outputs": [],
   "source": [
    "#DATA EDIT (AGE, remove unwanted columns)"
   ]
  },
  {
   "cell_type": "code",
   "execution_count": 99,
   "metadata": {},
   "outputs": [
    {
     "data": {
      "text/plain": [
       "Index(['Unnamed: 0', 'loan_id', 'account_id', 'loan_date', 'loan_amount',\n",
       "       'duration', 'payments', 'status', 'district_id_bank',\n",
       "       'frequency_statements', 'account_creation', 'disp_id', 'client_id',\n",
       "       'disp_type', 'card_id', 'card_type', 'card_issued',\n",
       "       'district_id_client', 'Year', 'Date', 'Month', 'Gender',\n",
       "       'district name_x', 'region_x', 'no. of inhabitants_x',\n",
       "       'no_of_municipalities_inhabitants < 499_x',\n",
       "       'no. of municipalities with inhabitants 500-1999_x',\n",
       "       'no. of municipalities with inhabitants 2000-9999_x',\n",
       "       'no. of municipalities with inhabitants >10000_x', 'no. of cities_x',\n",
       "       'ratio of urban inhabitants_x', 'average salary_x',\n",
       "       'unemployment rate 95_x', 'unemployment rate 96_x',\n",
       "       'no. of entrepreneurs per 1000 inhabitants_x',\n",
       "       'no. of committed crimes 95_x', 'no. of committed crimes 96_x',\n",
       "       'district name_y', 'region_y', 'no. of inhabitants_y',\n",
       "       'no_of_municipalities_inhabitants < 499_y',\n",
       "       'no. of municipalities with inhabitants 500-1999_y',\n",
       "       'no. of municipalities with inhabitants 2000-9999_y',\n",
       "       'no. of municipalities with inhabitants >10000_y', 'no. of cities_y',\n",
       "       'ratio of urban inhabitants_y', 'average salary_y',\n",
       "       'unemployment rate 95_y', 'unemployment rate 96_y',\n",
       "       'no. of entrepreneurs per 1000 inhabitants_y',\n",
       "       'no. of committed crimes 95_y', 'no. of committed crimes 96_y'],\n",
       "      dtype='object')"
      ]
     },
     "execution_count": 99,
     "metadata": {},
     "output_type": "execute_result"
    }
   ],
   "source": [
    "data.columns"
   ]
  },
  {
   "cell_type": "code",
   "execution_count": 100,
   "metadata": {},
   "outputs": [
    {
     "data": {
      "text/plain": [
       "0    930322\n",
       "1    930213\n",
       "2    930208\n",
       "3    930130\n",
       "4    930214\n",
       "Name: account_creation, dtype: int64"
      ]
     },
     "execution_count": 100,
     "metadata": {},
     "output_type": "execute_result"
    }
   ],
   "source": [
    "data['account_creation'].head()"
   ]
  },
  {
   "cell_type": "code",
   "execution_count": 101,
   "metadata": {
    "collapsed": true
   },
   "outputs": [],
   "source": [
    "data['add']='19'\n",
    "data['account_creation']= data['add']+ data['account_creation'].map(str)\n",
    "data['account_creation'] =  pd.to_datetime(data['account_creation'], format='%Y%m%d')\n",
    "data['today'] = pd.Timestamp('19990101')\n",
    "data['Account_age_days']= (data['today'] - data['account_creation']).dt.days"
   ]
  },
  {
   "cell_type": "code",
   "execution_count": 102,
   "metadata": {},
   "outputs": [
    {
     "data": {
      "text/plain": [
       "0    2111\n",
       "1    2148\n",
       "2    2153\n",
       "3    2162\n",
       "4    2147\n",
       "Name: Account_age_days, dtype: int64"
      ]
     },
     "execution_count": 102,
     "metadata": {},
     "output_type": "execute_result"
    }
   ],
   "source": [
    "data['Account_age_days'].head()"
   ]
  },
  {
   "cell_type": "code",
   "execution_count": 103,
   "metadata": {},
   "outputs": [
    {
     "data": {
      "text/plain": [
       "0    930705\n",
       "1    930711\n",
       "2    930728\n",
       "3    930803\n",
       "4    930906\n",
       "Name: loan_date, dtype: int64"
      ]
     },
     "execution_count": 103,
     "metadata": {},
     "output_type": "execute_result"
    }
   ],
   "source": [
    "data['loan_date'].head()"
   ]
  },
  {
   "cell_type": "code",
   "execution_count": 104,
   "metadata": {
    "collapsed": true
   },
   "outputs": [],
   "source": [
    "#data['add']='19'\n",
    "data['loan_date']= data['add']+ data['loan_date'].map(str)\n",
    "data['loan_date'] =  pd.to_datetime(data['loan_date'], format='%Y%m%d')\n",
    "#data['today'] = pd.Timestamp('19990101')\n",
    "data['loan_age_days']= (data['today'] - data['loan_date']).dt.days"
   ]
  },
  {
   "cell_type": "code",
   "execution_count": 105,
   "metadata": {},
   "outputs": [
    {
     "data": {
      "text/plain": [
       "0    2006\n",
       "1    2000\n",
       "2    1983\n",
       "3    1977\n",
       "4    1943\n",
       "Name: loan_age_days, dtype: int64"
      ]
     },
     "execution_count": 105,
     "metadata": {},
     "output_type": "execute_result"
    }
   ],
   "source": [
    "data['loan_age_days'].head()"
   ]
  },
  {
   "cell_type": "code",
   "execution_count": 106,
   "metadata": {},
   "outputs": [
    {
     "data": {
      "text/plain": [
       "0                NaN\n",
       "1                NaN\n",
       "2                NaN\n",
       "3    980911 00:00:00\n",
       "4    950502 00:00:00\n",
       "Name: card_issued, dtype: object"
      ]
     },
     "execution_count": 106,
     "metadata": {},
     "output_type": "execute_result"
    }
   ],
   "source": [
    "data['card_issued'].head()"
   ]
  },
  {
   "cell_type": "code",
   "execution_count": 107,
   "metadata": {},
   "outputs": [
    {
     "name": "stdout",
     "output_type": "stream",
     "text": [
      "0    990101\n",
      "1    990101\n",
      "2    990101\n",
      "3    980911\n",
      "4    950502\n",
      "Name: card_issued, dtype: object\n"
     ]
    }
   ],
   "source": [
    "data['card_issued']=data['card_issued'].str[:6]\n",
    "data['card_issued']=data['card_issued'].fillna('990101')\n",
    "print(data['card_issued'].head())\n",
    "#data['card_issued_1'] =  pd.to_datetime(data['card_issued'], format='%f')"
   ]
  },
  {
   "cell_type": "code",
   "execution_count": 108,
   "metadata": {
    "collapsed": true
   },
   "outputs": [],
   "source": [
    "data['card_issued']= data['add']+ data['card_issued'].map(str)\n",
    "data['card_issued'] =  pd.to_datetime(data['card_issued'], format='%Y%m%d')\n",
    "#data['today'] = pd.Timestamp('19990101')\n",
    "data['card_issued_days']= (data['today'] - data['card_issued']).dt.days"
   ]
  },
  {
   "cell_type": "code",
   "execution_count": 109,
   "metadata": {},
   "outputs": [
    {
     "data": {
      "text/plain": [
       "0       0\n",
       "1       0\n",
       "2       0\n",
       "3     112\n",
       "4    1340\n",
       "Name: card_issued_days, dtype: int64"
      ]
     },
     "execution_count": 109,
     "metadata": {},
     "output_type": "execute_result"
    }
   ],
   "source": [
    "data['card_issued_days'].head()"
   ]
  },
  {
   "cell_type": "code",
   "execution_count": 116,
   "metadata": {
    "collapsed": true
   },
   "outputs": [],
   "source": [
    "data['Year']= data['add']+ data['Year'].map(str)\n",
    "data['Client_bday'] = data['Year'].map(str)+data['Month'].map(str)+data['Date'].map(str)\n",
    "data['Client_bday'] =  pd.to_datetime(data['Client_bday'], format='%Y%m%d')\n",
    "data['Client_age']= (data['today'] - data['Client_bday']).dt.days\n",
    "data['Client_age']= (data['Client_age']/365).map(int)  \n",
    "data['Client_age'].head()"
   ]
  },
  {
   "cell_type": "code",
   "execution_count": 117,
   "metadata": {},
   "outputs": [
    {
     "data": {
      "text/plain": [
       "0    51\n",
       "1    30\n",
       "2    62\n",
       "3    58\n",
       "4    20\n",
       "Name: Client_age, dtype: int64"
      ]
     },
     "execution_count": 117,
     "metadata": {},
     "output_type": "execute_result"
    }
   ],
   "source": [
    "data['Client_age'].head()"
   ]
  },
  {
   "cell_type": "code",
   "execution_count": 118,
   "metadata": {},
   "outputs": [
    {
     "data": {
      "text/plain": [
       "Index(['Unnamed: 0', 'loan_id', 'account_id', 'loan_date', 'loan_amount',\n",
       "       'duration', 'payments', 'status', 'district_id_bank',\n",
       "       'frequency_statements', 'account_creation', 'disp_id', 'client_id',\n",
       "       'disp_type', 'card_id', 'card_type', 'card_issued',\n",
       "       'district_id_client', 'Year', 'Date', 'Month', 'Gender',\n",
       "       'district name_x', 'region_x', 'no. of inhabitants_x',\n",
       "       'no_of_municipalities_inhabitants < 499_x',\n",
       "       'no. of municipalities with inhabitants 500-1999_x',\n",
       "       'no. of municipalities with inhabitants 2000-9999_x',\n",
       "       'no. of municipalities with inhabitants >10000_x', 'no. of cities_x',\n",
       "       'ratio of urban inhabitants_x', 'average salary_x',\n",
       "       'unemployment rate 95_x', 'unemployment rate 96_x',\n",
       "       'no. of entrepreneurs per 1000 inhabitants_x',\n",
       "       'no. of committed crimes 95_x', 'no. of committed crimes 96_x',\n",
       "       'district name_y', 'region_y', 'no. of inhabitants_y',\n",
       "       'no_of_municipalities_inhabitants < 499_y',\n",
       "       'no. of municipalities with inhabitants 500-1999_y',\n",
       "       'no. of municipalities with inhabitants 2000-9999_y',\n",
       "       'no. of municipalities with inhabitants >10000_y', 'no. of cities_y',\n",
       "       'ratio of urban inhabitants_y', 'average salary_y',\n",
       "       'unemployment rate 95_y', 'unemployment rate 96_y',\n",
       "       'no. of entrepreneurs per 1000 inhabitants_y',\n",
       "       'no. of committed crimes 95_y', 'no. of committed crimes 96_y', 'add',\n",
       "       'today', 'Account_age_days', 'loan_age_days', 'card_issued_days',\n",
       "       'Client_bday', 'Client_age'],\n",
       "      dtype='object')"
      ]
     },
     "execution_count": 118,
     "metadata": {},
     "output_type": "execute_result"
    }
   ],
   "source": [
    "data.columns"
   ]
  },
  {
   "cell_type": "code",
   "execution_count": 120,
   "metadata": {
    "collapsed": true
   },
   "outputs": [],
   "source": [
    "data.drop(['loan_id','loan_date','district_id_bank','account_creation','disp_id', 'client_id',\n",
    "          'card_id','card_issued','district_id_client','Year', 'Date', 'Month','district name_x', 'region_x',\n",
    "          'district name_y', 'region_y','add','today'],axis=1,inplace=True)"
   ]
  },
  {
   "cell_type": "code",
   "execution_count": 121,
   "metadata": {},
   "outputs": [
    {
     "data": {
      "text/plain": [
       "Index(['Unnamed: 0', 'account_id', 'loan_amount', 'duration', 'payments',\n",
       "       'status', 'frequency_statements', 'disp_type', 'card_type', 'Gender',\n",
       "       'no. of inhabitants_x', 'no_of_municipalities_inhabitants < 499_x',\n",
       "       'no. of municipalities with inhabitants 500-1999_x',\n",
       "       'no. of municipalities with inhabitants 2000-9999_x',\n",
       "       'no. of municipalities with inhabitants >10000_x', 'no. of cities_x',\n",
       "       'ratio of urban inhabitants_x', 'average salary_x',\n",
       "       'unemployment rate 95_x', 'unemployment rate 96_x',\n",
       "       'no. of entrepreneurs per 1000 inhabitants_x',\n",
       "       'no. of committed crimes 95_x', 'no. of committed crimes 96_x',\n",
       "       'no. of inhabitants_y', 'no_of_municipalities_inhabitants < 499_y',\n",
       "       'no. of municipalities with inhabitants 500-1999_y',\n",
       "       'no. of municipalities with inhabitants 2000-9999_y',\n",
       "       'no. of municipalities with inhabitants >10000_y', 'no. of cities_y',\n",
       "       'ratio of urban inhabitants_y', 'average salary_y',\n",
       "       'unemployment rate 95_y', 'unemployment rate 96_y',\n",
       "       'no. of entrepreneurs per 1000 inhabitants_y',\n",
       "       'no. of committed crimes 95_y', 'no. of committed crimes 96_y',\n",
       "       'Account_age_days', 'loan_age_days', 'card_issued_days', 'Client_bday',\n",
       "       'Client_age'],\n",
       "      dtype='object')"
      ]
     },
     "execution_count": 121,
     "metadata": {},
     "output_type": "execute_result"
    }
   ],
   "source": [
    "data.columns"
   ]
  },
  {
   "cell_type": "code",
   "execution_count": 132,
   "metadata": {
    "collapsed": true
   },
   "outputs": [],
   "source": [
    "OBJ1_merged_data=pd.merge(trans, data, on='account_id', how='left')"
   ]
  },
  {
   "cell_type": "code",
   "execution_count": 133,
   "metadata": {},
   "outputs": [
    {
     "data": {
      "text/plain": [
       "Index(['account_id', 'type', 'mode of transaction', 'amount', 'balance',\n",
       "       'transaction_character', 'trans_age', 'Unnamed: 0', 'loan_amount',\n",
       "       'duration', 'payments', 'status', 'frequency_statements', 'disp_type',\n",
       "       'card_type', 'Gender', 'no. of inhabitants_x',\n",
       "       'no_of_municipalities_inhabitants < 499_x',\n",
       "       'no. of municipalities with inhabitants 500-1999_x',\n",
       "       'no. of municipalities with inhabitants 2000-9999_x',\n",
       "       'no. of municipalities with inhabitants >10000_x', 'no. of cities_x',\n",
       "       'ratio of urban inhabitants_x', 'average salary_x',\n",
       "       'unemployment rate 95_x', 'unemployment rate 96_x',\n",
       "       'no. of entrepreneurs per 1000 inhabitants_x',\n",
       "       'no. of committed crimes 95_x', 'no. of committed crimes 96_x',\n",
       "       'no. of inhabitants_y', 'no_of_municipalities_inhabitants < 499_y',\n",
       "       'no. of municipalities with inhabitants 500-1999_y',\n",
       "       'no. of municipalities with inhabitants 2000-9999_y',\n",
       "       'no. of municipalities with inhabitants >10000_y', 'no. of cities_y',\n",
       "       'ratio of urban inhabitants_y', 'average salary_y',\n",
       "       'unemployment rate 95_y', 'unemployment rate 96_y',\n",
       "       'no. of entrepreneurs per 1000 inhabitants_y',\n",
       "       'no. of committed crimes 95_y', 'no. of committed crimes 96_y',\n",
       "       'Account_age_days', 'loan_age_days', 'card_issued_days', 'Client_bday',\n",
       "       'Client_age'],\n",
       "      dtype='object')"
      ]
     },
     "execution_count": 133,
     "metadata": {},
     "output_type": "execute_result"
    }
   ],
   "source": [
    "OBJ1_merged_data.columns"
   ]
  },
  {
   "cell_type": "code",
   "execution_count": 135,
   "metadata": {
    "collapsed": true,
    "scrolled": true
   },
   "outputs": [],
   "source": [
    "OBJ1_merged_data.shape\n",
    "OBJ1_merged_data.to_csv(\"OBJ1_merged_data.csv\")"
   ]
  },
  {
   "cell_type": "code",
   "execution_count": null,
   "metadata": {
    "collapsed": true
   },
   "outputs": [],
   "source": []
  },
  {
   "cell_type": "code",
   "execution_count": 139,
   "metadata": {},
   "outputs": [
    {
     "name": "stderr",
     "output_type": "stream",
     "text": [
      "C:\\Users\\Justin.j\\AppData\\Local\\Continuum\\anaconda3\\lib\\site-packages\\IPython\\core\\interactiveshell.py:2698: DtypeWarning: Columns (25,28,38,41) have mixed types. Specify dtype option on import or set low_memory=False.\n",
      "  interactivity=interactivity, compiler=compiler, result=result)\n"
     ]
    }
   ],
   "source": [
    "OBJ1_merged_data=pd.read_csv(\"OBJ1_merged_data.csv\")"
   ]
  },
  {
   "cell_type": "code",
   "execution_count": 140,
   "metadata": {},
   "outputs": [
    {
     "data": {
      "text/html": [
       "<div>\n",
       "<style>\n",
       "    .dataframe thead tr:only-child th {\n",
       "        text-align: right;\n",
       "    }\n",
       "\n",
       "    .dataframe thead th {\n",
       "        text-align: left;\n",
       "    }\n",
       "\n",
       "    .dataframe tbody tr th {\n",
       "        vertical-align: top;\n",
       "    }\n",
       "</style>\n",
       "<table border=\"1\" class=\"dataframe\">\n",
       "  <thead>\n",
       "    <tr style=\"text-align: right;\">\n",
       "      <th></th>\n",
       "      <th>Unnamed: 0</th>\n",
       "      <th>account_id</th>\n",
       "      <th>type</th>\n",
       "      <th>mode of transaction</th>\n",
       "      <th>amount</th>\n",
       "      <th>balance</th>\n",
       "      <th>transaction_character</th>\n",
       "      <th>trans_age</th>\n",
       "      <th>Unnamed: 0.1</th>\n",
       "      <th>loan_amount</th>\n",
       "      <th>...</th>\n",
       "      <th>unemployment rate 95_y</th>\n",
       "      <th>unemployment rate 96_y</th>\n",
       "      <th>no. of entrepreneurs per 1000 inhabitants_y</th>\n",
       "      <th>no. of committed crimes 95_y</th>\n",
       "      <th>no. of committed crimes 96_y</th>\n",
       "      <th>Account_age_days</th>\n",
       "      <th>loan_age_days</th>\n",
       "      <th>card_issued_days</th>\n",
       "      <th>Client_bday</th>\n",
       "      <th>Client_age</th>\n",
       "    </tr>\n",
       "  </thead>\n",
       "  <tbody>\n",
       "    <tr>\n",
       "      <th>0</th>\n",
       "      <td>0</td>\n",
       "      <td>2378</td>\n",
       "      <td>credit</td>\n",
       "      <td>credit in cash</td>\n",
       "      <td>700.0</td>\n",
       "      <td>700.0</td>\n",
       "      <td>NaN</td>\n",
       "      <td>2191</td>\n",
       "      <td>NaN</td>\n",
       "      <td>NaN</td>\n",
       "      <td>...</td>\n",
       "      <td>NaN</td>\n",
       "      <td>NaN</td>\n",
       "      <td>NaN</td>\n",
       "      <td>NaN</td>\n",
       "      <td>NaN</td>\n",
       "      <td>NaN</td>\n",
       "      <td>NaN</td>\n",
       "      <td>NaN</td>\n",
       "      <td>NaN</td>\n",
       "      <td>NaN</td>\n",
       "    </tr>\n",
       "    <tr>\n",
       "      <th>1</th>\n",
       "      <td>1</td>\n",
       "      <td>576</td>\n",
       "      <td>credit</td>\n",
       "      <td>credit in cash</td>\n",
       "      <td>900.0</td>\n",
       "      <td>900.0</td>\n",
       "      <td>NaN</td>\n",
       "      <td>2191</td>\n",
       "      <td>NaN</td>\n",
       "      <td>NaN</td>\n",
       "      <td>...</td>\n",
       "      <td>NaN</td>\n",
       "      <td>NaN</td>\n",
       "      <td>NaN</td>\n",
       "      <td>NaN</td>\n",
       "      <td>NaN</td>\n",
       "      <td>NaN</td>\n",
       "      <td>NaN</td>\n",
       "      <td>NaN</td>\n",
       "      <td>NaN</td>\n",
       "      <td>NaN</td>\n",
       "    </tr>\n",
       "    <tr>\n",
       "      <th>2</th>\n",
       "      <td>2</td>\n",
       "      <td>704</td>\n",
       "      <td>credit</td>\n",
       "      <td>credit in cash</td>\n",
       "      <td>1000.0</td>\n",
       "      <td>1000.0</td>\n",
       "      <td>NaN</td>\n",
       "      <td>2191</td>\n",
       "      <td>NaN</td>\n",
       "      <td>NaN</td>\n",
       "      <td>...</td>\n",
       "      <td>NaN</td>\n",
       "      <td>NaN</td>\n",
       "      <td>NaN</td>\n",
       "      <td>NaN</td>\n",
       "      <td>NaN</td>\n",
       "      <td>NaN</td>\n",
       "      <td>NaN</td>\n",
       "      <td>NaN</td>\n",
       "      <td>NaN</td>\n",
       "      <td>NaN</td>\n",
       "    </tr>\n",
       "    <tr>\n",
       "      <th>3</th>\n",
       "      <td>3</td>\n",
       "      <td>3818</td>\n",
       "      <td>credit</td>\n",
       "      <td>credit in cash</td>\n",
       "      <td>600.0</td>\n",
       "      <td>600.0</td>\n",
       "      <td>NaN</td>\n",
       "      <td>2191</td>\n",
       "      <td>NaN</td>\n",
       "      <td>NaN</td>\n",
       "      <td>...</td>\n",
       "      <td>NaN</td>\n",
       "      <td>NaN</td>\n",
       "      <td>NaN</td>\n",
       "      <td>NaN</td>\n",
       "      <td>NaN</td>\n",
       "      <td>NaN</td>\n",
       "      <td>NaN</td>\n",
       "      <td>NaN</td>\n",
       "      <td>NaN</td>\n",
       "      <td>NaN</td>\n",
       "    </tr>\n",
       "    <tr>\n",
       "      <th>4</th>\n",
       "      <td>4</td>\n",
       "      <td>1972</td>\n",
       "      <td>credit</td>\n",
       "      <td>credit in cash</td>\n",
       "      <td>400.0</td>\n",
       "      <td>400.0</td>\n",
       "      <td>NaN</td>\n",
       "      <td>2190</td>\n",
       "      <td>NaN</td>\n",
       "      <td>NaN</td>\n",
       "      <td>...</td>\n",
       "      <td>NaN</td>\n",
       "      <td>NaN</td>\n",
       "      <td>NaN</td>\n",
       "      <td>NaN</td>\n",
       "      <td>NaN</td>\n",
       "      <td>NaN</td>\n",
       "      <td>NaN</td>\n",
       "      <td>NaN</td>\n",
       "      <td>NaN</td>\n",
       "      <td>NaN</td>\n",
       "    </tr>\n",
       "  </tbody>\n",
       "</table>\n",
       "<p>5 rows × 48 columns</p>\n",
       "</div>"
      ],
      "text/plain": [
       "   Unnamed: 0  account_id    type mode of transaction  amount  balance  \\\n",
       "0           0        2378  credit      credit in cash   700.0    700.0   \n",
       "1           1         576  credit      credit in cash   900.0    900.0   \n",
       "2           2         704  credit      credit in cash  1000.0   1000.0   \n",
       "3           3        3818  credit      credit in cash   600.0    600.0   \n",
       "4           4        1972  credit      credit in cash   400.0    400.0   \n",
       "\n",
       "  transaction_character  trans_age  Unnamed: 0.1  loan_amount     ...      \\\n",
       "0                   NaN       2191           NaN          NaN     ...       \n",
       "1                   NaN       2191           NaN          NaN     ...       \n",
       "2                   NaN       2191           NaN          NaN     ...       \n",
       "3                   NaN       2191           NaN          NaN     ...       \n",
       "4                   NaN       2190           NaN          NaN     ...       \n",
       "\n",
       "   unemployment rate 95_y  unemployment rate 96_y  \\\n",
       "0                     NaN                     NaN   \n",
       "1                     NaN                     NaN   \n",
       "2                     NaN                     NaN   \n",
       "3                     NaN                     NaN   \n",
       "4                     NaN                     NaN   \n",
       "\n",
       "  no. of entrepreneurs per 1000 inhabitants_y no. of committed crimes 95_y  \\\n",
       "0                                         NaN                          NaN   \n",
       "1                                         NaN                          NaN   \n",
       "2                                         NaN                          NaN   \n",
       "3                                         NaN                          NaN   \n",
       "4                                         NaN                          NaN   \n",
       "\n",
       "  no. of committed crimes 96_y Account_age_days loan_age_days  \\\n",
       "0                          NaN              NaN           NaN   \n",
       "1                          NaN              NaN           NaN   \n",
       "2                          NaN              NaN           NaN   \n",
       "3                          NaN              NaN           NaN   \n",
       "4                          NaN              NaN           NaN   \n",
       "\n",
       "   card_issued_days  Client_bday  Client_age  \n",
       "0               NaN          NaN         NaN  \n",
       "1               NaN          NaN         NaN  \n",
       "2               NaN          NaN         NaN  \n",
       "3               NaN          NaN         NaN  \n",
       "4               NaN          NaN         NaN  \n",
       "\n",
       "[5 rows x 48 columns]"
      ]
     },
     "execution_count": 140,
     "metadata": {},
     "output_type": "execute_result"
    }
   ],
   "source": [
    "OBJ1_merged_data.head()"
   ]
  },
  {
   "cell_type": "code",
   "execution_count": 141,
   "metadata": {},
   "outputs": [
    {
     "data": {
      "text/plain": [
       "Index(['Unnamed: 0', 'account_id', 'type', 'mode of transaction', 'amount',\n",
       "       'balance', 'transaction_character', 'trans_age', 'Unnamed: 0.1',\n",
       "       'loan_amount', 'duration', 'payments', 'status', 'frequency_statements',\n",
       "       'disp_type', 'card_type', 'Gender', 'no. of inhabitants_x',\n",
       "       'no_of_municipalities_inhabitants < 499_x',\n",
       "       'no. of municipalities with inhabitants 500-1999_x',\n",
       "       'no. of municipalities with inhabitants 2000-9999_x',\n",
       "       'no. of municipalities with inhabitants >10000_x', 'no. of cities_x',\n",
       "       'ratio of urban inhabitants_x', 'average salary_x',\n",
       "       'unemployment rate 95_x', 'unemployment rate 96_x',\n",
       "       'no. of entrepreneurs per 1000 inhabitants_x',\n",
       "       'no. of committed crimes 95_x', 'no. of committed crimes 96_x',\n",
       "       'no. of inhabitants_y', 'no_of_municipalities_inhabitants < 499_y',\n",
       "       'no. of municipalities with inhabitants 500-1999_y',\n",
       "       'no. of municipalities with inhabitants 2000-9999_y',\n",
       "       'no. of municipalities with inhabitants >10000_y', 'no. of cities_y',\n",
       "       'ratio of urban inhabitants_y', 'average salary_y',\n",
       "       'unemployment rate 95_y', 'unemployment rate 96_y',\n",
       "       'no. of entrepreneurs per 1000 inhabitants_y',\n",
       "       'no. of committed crimes 95_y', 'no. of committed crimes 96_y',\n",
       "       'Account_age_days', 'loan_age_days', 'card_issued_days', 'Client_bday',\n",
       "       'Client_age'],\n",
       "      dtype='object')"
      ]
     },
     "execution_count": 141,
     "metadata": {},
     "output_type": "execute_result"
    }
   ],
   "source": [
    "OBJ1_merged_data.columns"
   ]
  },
  {
   "cell_type": "code",
   "execution_count": 144,
   "metadata": {
    "collapsed": true
   },
   "outputs": [],
   "source": [
    "OBJ1_merged_data['loan_amount'].fillna(0, inplace=True)\n",
    "OBJ1_merged_data['duration'].fillna(0)\n",
    "OBJ1_merged_data['payments'].fillna(0)\n",
    "OBJ1_merged_data['no. of inhabitants_x'].fillna(0)\n",
    "OBJ1_merged_data['no_of_municipalities_inhabitants < 499_x'].fillna(0)\n",
    "OBJ1_merged_data['no. of municipalities with inhabitants 500-1999_x'].fillna(0)\n",
    "OBJ1_merged_data['no. of municipalities with inhabitants 2000-9999_x'].fillna(0)\n",
    "OBJ1_merged_data['no. of municipalities with inhabitants >10000_x'].fillna(0)\n",
    "OBJ1_merged_data['no. of cities_x'].fillna(0)\n",
    "OBJ1_merged_data['ratio of urban inhabitants_x'].fillna(0)\n",
    "OBJ1_merged_data['average salary_x'].fillna(0)\n",
    "OBJ1_merged_data['unemployment rate 95_x'].fillna(0)\n",
    "OBJ1_merged_data['unemployment rate 96_x'].fillna(0)\n",
    "OBJ1_merged_data['no. of entrepreneurs per 1000 inhabitants_x'].fillna(0)\n",
    "OBJ1_merged_data['no. of committed crimes 95_x'].fillna(0)\n",
    "OBJ1_merged_data['no. of committed crimes 96_x'].fillna(0)\n",
    "OBJ1_merged_data['no. of inhabitants_y'].fillna(0)\n",
    "OBJ1_merged_data['no_of_municipalities_inhabitants < 499_y'].fillna(0)\n",
    "OBJ1_merged_data['no. of municipalities with inhabitants 500-1999_y'].fillna(0)\n",
    "OBJ1_merged_data['no. of municipalities with inhabitants 2000-9999_y'].fillna(0)\n",
    "OBJ1_merged_data['no. of municipalities with inhabitants >10000_y'].fillna(0)\n",
    "OBJ1_merged_data['no. of cities_y'].fillna(0)\n",
    "OBJ1_merged_data['average salary_y'].fillna(0)\n",
    "OBJ1_merged_data['ratio of urban inhabitants_y'].fillna(0)\n",
    "OBJ1_merged_data['unemployment rate 95_y'].fillna(0)\n",
    "OBJ1_merged_data['unemployment rate 96_y'].fillna(0)\n",
    "OBJ1_merged_data['no. of entrepreneurs per 1000 inhabitants_y'].fillna(0)\n",
    "OBJ1_merged_data['no. of committed crimes 95_y'].fillna(0)\n",
    "OBJ1_merged_data['no. of committed crimes 96_y'].fillna(0)     "
   ]
  },
  {
   "cell_type": "code",
   "execution_count": 145,
   "metadata": {},
   "outputs": [
    {
     "data": {
      "text/plain": [
       "array([nan, 'A', 'B', 'D', 'C'], dtype=object)"
      ]
     },
     "execution_count": 145,
     "metadata": {},
     "output_type": "execute_result"
    }
   ],
   "source": [
    "OBJ1_merged_data['status'].unique()\n"
   ]
  },
  {
   "cell_type": "code",
   "execution_count": 147,
   "metadata": {
    "collapsed": true
   },
   "outputs": [],
   "source": [
    "#Deleting ones with no loan status\n",
    "OBJ1_merged_data_1= OBJ1_merged_data.dropna(subset=['status']) "
   ]
  },
  {
   "cell_type": "code",
   "execution_count": 150,
   "metadata": {},
   "outputs": [
    {
     "data": {
      "text/plain": [
       "(231874, 48)"
      ]
     },
     "execution_count": 150,
     "metadata": {},
     "output_type": "execute_result"
    }
   ],
   "source": [
    "OBJ1_merged_data_1.shape"
   ]
  },
  {
   "cell_type": "code",
   "execution_count": null,
   "metadata": {
    "collapsed": true
   },
   "outputs": [],
   "source": []
  },
  {
   "cell_type": "code",
   "execution_count": 151,
   "metadata": {},
   "outputs": [
    {
     "name": "stderr",
     "output_type": "stream",
     "text": [
      "C:\\Users\\Justin.j\\AppData\\Local\\Continuum\\anaconda3\\lib\\site-packages\\ipykernel_launcher.py:1: SettingWithCopyWarning: \n",
      "A value is trying to be set on a copy of a slice from a DataFrame\n",
      "\n",
      "See the caveats in the documentation: http://pandas.pydata.org/pandas-docs/stable/indexing.html#indexing-view-versus-copy\n",
      "  \"\"\"Entry point for launching an IPython kernel.\n"
     ]
    }
   ],
   "source": [
    "OBJ1_merged_data_1.drop('account_id', axis=1, inplace=True)"
   ]
  },
  {
   "cell_type": "code",
   "execution_count": 153,
   "metadata": {},
   "outputs": [
    {
     "data": {
      "text/plain": [
       "False"
      ]
     },
     "execution_count": 153,
     "metadata": {},
     "output_type": "execute_result"
    }
   ],
   "source": [
    "OBJ1_merged_data_1[['Account_age_days', 'loan_age_days', 'card_issued_days', 'Client_bday','Client_age']].isnull().values.any()"
   ]
  },
  {
   "cell_type": "code",
   "execution_count": 154,
   "metadata": {},
   "outputs": [
    {
     "data": {
      "text/plain": [
       "False"
      ]
     },
     "execution_count": 154,
     "metadata": {},
     "output_type": "execute_result"
    }
   ],
   "source": [
    "OBJ1_merged_data_1[['no. of inhabitants_x',\n",
    "       'no_of_municipalities_inhabitants < 499_x',\n",
    "       'no. of municipalities with inhabitants 500-1999_x',\n",
    "       'no. of municipalities with inhabitants 2000-9999_x',\n",
    "       'no. of municipalities with inhabitants >10000_x', 'no. of cities_x',\n",
    "       'ratio of urban inhabitants_x', 'average salary_x',\n",
    "       'unemployment rate 95_x', 'unemployment rate 96_x',\n",
    "       'no. of entrepreneurs per 1000 inhabitants_x',\n",
    "       'no. of committed crimes 95_x', 'no. of committed crimes 96_x',\n",
    "       'no. of inhabitants_y', 'no_of_municipalities_inhabitants < 499_y',\n",
    "       'no. of municipalities with inhabitants 500-1999_y',\n",
    "       'no. of municipalities with inhabitants 2000-9999_y',\n",
    "       'no. of municipalities with inhabitants >10000_y', 'no. of cities_y',\n",
    "       'ratio of urban inhabitants_y', 'average salary_y',\n",
    "       'unemployment rate 95_y', 'unemployment rate 96_y',\n",
    "       'no. of entrepreneurs per 1000 inhabitants_y',\n",
    "       'no. of committed crimes 95_y', 'no. of committed crimes 96_y']].isnull().values.any()"
   ]
  },
  {
   "cell_type": "code",
   "execution_count": 155,
   "metadata": {},
   "outputs": [
    {
     "data": {
      "text/plain": [
       "False"
      ]
     },
     "execution_count": 155,
     "metadata": {},
     "output_type": "execute_result"
    }
   ],
   "source": [
    "OBJ1_merged_data_1[['amount',\n",
    "       'balance', 'trans_age',\n",
    "       'loan_amount', 'duration', 'payments']].isnull().values.any()"
   ]
  },
  {
   "cell_type": "code",
   "execution_count": 156,
   "metadata": {
    "collapsed": true
   },
   "outputs": [],
   "source": [
    "OBJ1_merged_data_1.to_csv(\"OBJ1_merged_data_1.csv\")"
   ]
  },
  {
   "cell_type": "code",
   "execution_count": 158,
   "metadata": {},
   "outputs": [
    {
     "name": "stderr",
     "output_type": "stream",
     "text": [
      "C:\\Users\\Justin.j\\AppData\\Local\\Continuum\\anaconda3\\lib\\site-packages\\IPython\\core\\interactiveshell.py:2698: DtypeWarning: Columns (22,25,35,38) have mixed types. Specify dtype option on import or set low_memory=False.\n",
      "  interactivity=interactivity, compiler=compiler, result=result)\n"
     ]
    }
   ],
   "source": [
    "#Deleted unnamed columns in between \n",
    "OBJ1_merged_data_1=pd.read_csv(\"OBJ1_merged_data_1.csv\")"
   ]
  },
  {
   "cell_type": "code",
   "execution_count": 159,
   "metadata": {
    "collapsed": true
   },
   "outputs": [],
   "source": [
    "OBJ1_merged_data_dummied= pd.get_dummies(data=OBJ1_merged_data_1, columns=['frequency_statements', 'card_type', 'Gender', 'disp_type', 'type', 'mode of transaction', 'transaction_character'])"
   ]
  },
  {
   "cell_type": "code",
   "execution_count": 160,
   "metadata": {},
   "outputs": [
    {
     "data": {
      "text/plain": [
       "False"
      ]
     },
     "execution_count": 160,
     "metadata": {},
     "output_type": "execute_result"
    }
   ],
   "source": [
    "OBJ1_merged_data_dummied.isnull().values.any()"
   ]
  },
  {
   "cell_type": "code",
   "execution_count": 161,
   "metadata": {
    "collapsed": true
   },
   "outputs": [],
   "source": [
    "OBJ1_merged_data_dummied.to_csv(\"OBJ1_merged_data_dummied.csv\")"
   ]
  },
  {
   "cell_type": "code",
   "execution_count": null,
   "metadata": {
    "collapsed": true
   },
   "outputs": [],
   "source": [
    "# #these should be one hot encoded\n",
    "# 'frequency_statements', 'card_type', 'Gender', 'disp_type', 'type', 'mode of transaction', 'transaction_character'\n",
    "# 'frequency_statements'\n",
    "\n",
    "# #these to be deleted\n",
    "# #unnamed_0, account_id\n",
    "\n",
    "\n",
    "\n",
    "\n",
    "\n",
    "\n",
    "\n",
    "#check if they have nan (CHECKED, NO NULLS)\n",
    "#'Account_age_days', 'loan_age_days', 'card_issued_days', 'Client_bday','Client_age'\n",
    "\n",
    "#'no. of inhabitants_x',\n",
    "#        'no_of_municipalities_inhabitants < 499_x',\n",
    "#        'no. of municipalities with inhabitants 500-1999_x',\n",
    "#        'no. of municipalities with inhabitants 2000-9999_x',\n",
    "#        'no. of municipalities with inhabitants >10000_x', 'no. of cities_x',\n",
    "#        'ratio of urban inhabitants_x', 'average salary_x',\n",
    "#        'unemployment rate 95_x', 'unemployment rate 96_x',\n",
    "#        'no. of entrepreneurs per 1000 inhabitants_x',\n",
    "#        'no. of committed crimes 95_x', 'no. of committed crimes 96_x',\n",
    "#        'no. of inhabitants_y', 'no_of_municipalities_inhabitants < 499_y',\n",
    "#        'no. of municipalities with inhabitants 500-1999_y',\n",
    "#        'no. of municipalities with inhabitants 2000-9999_y',\n",
    "#        'no. of municipalities with inhabitants >10000_y', 'no. of cities_y',\n",
    "#        'ratio of urban inhabitants_y', 'average salary_y',\n",
    "#        'unemployment rate 95_y', 'unemployment rate 96_y',\n",
    "#        'no. of entrepreneurs per 1000 inhabitants_y',\n",
    "#        'no. of committed crimes 95_y', 'no. of committed crimes 96_y'\n",
    "\n",
    "#        'amount',\n",
    "#        'balance', 'trans_age',\n",
    "#        'loan_amount', 'duration', 'payments', "
   ]
  },
  {
   "cell_type": "code",
   "execution_count": null,
   "metadata": {
    "collapsed": true
   },
   "outputs": [],
   "source": []
  },
  {
   "cell_type": "code",
   "execution_count": 7,
   "metadata": {
    "collapsed": true
   },
   "outputs": [],
   "source": [
    "import pandas as pd\n",
    "from sklearn import datasets, linear_model\n",
    "from sklearn.model_selection import train_test_split\n",
    "from matplotlib import pyplot as plt\n",
    "import matplotlib.pylab as plt\n",
    "from scipy import interp\n",
    "from sklearn.ensemble import RandomForestClassifier\n",
    "from sklearn.metrics import roc_curve,auc\n",
    "from sklearn.model_selection import StratifiedKFold\n",
    "import matplotlib.patches as patches\n",
    "from sklearn import svm, datasets\n",
    "from sklearn import metrics\n",
    "from sklearn.linear_model import LogisticRegression\n",
    "from sklearn.model_selection import train_test_split\n",
    "from sklearn.datasets import load_breast_cancer\n",
    "import matplotlib.pyplot as plt\n",
    "from sklearn.metrics import (confusion_matrix, precision_recall_curve, auc,\n",
    "                             roc_curve, recall_score, classification_report, f1_score,\n",
    "                             precision_recall_fscore_support) \n",
    "import numpy as np"
   ]
  },
  {
   "cell_type": "code",
   "execution_count": 168,
   "metadata": {
    "collapsed": true
   },
   "outputs": [],
   "source": [
    "OBJ1_merged_data_dummied.loc[ (OBJ1_merged_data_dummied['status']=='A', 'status') ] =0\n",
    "OBJ1_merged_data_dummied.loc[ (OBJ1_merged_data_dummied['status']=='B', 'status') ] =1\n",
    "OBJ1_merged_data_dummied.loc[ (OBJ1_merged_data_dummied['status']=='C', 'status') ] =2\n",
    "OBJ1_merged_data_dummied.loc[ (OBJ1_merged_data_dummied['status']=='D', 'status') ] =3"
   ]
  },
  {
   "cell_type": "code",
   "execution_count": 169,
   "metadata": {
    "collapsed": true
   },
   "outputs": [],
   "source": [
    "OBJ1_merged_data_dummied['status']= OBJ1_merged_data_dummied['status'].astype('category')"
   ]
  },
  {
   "cell_type": "code",
   "execution_count": 172,
   "metadata": {
    "collapsed": true
   },
   "outputs": [],
   "source": [
    "OBJ1_merged_data_dummied.drop('Client_bday', axis=1, inplace=True)"
   ]
  },
  {
   "cell_type": "code",
   "execution_count": 174,
   "metadata": {
    "collapsed": true
   },
   "outputs": [],
   "source": [
    "OBJ1_merged_data_dummied.to_csv(\"OBJ1_merged_data_dummied.csv\")"
   ]
  },
  {
   "cell_type": "code",
   "execution_count": 2,
   "metadata": {},
   "outputs": [],
   "source": [
    "import pandas as pd\n",
    "#After Deleting ? in unemployment rate '95 \n",
    "OBJ1_merged_data_dummied= pd.read_csv(\"OBJ1_merged_data_dummied.csv\")"
   ]
  },
  {
   "cell_type": "code",
   "execution_count": null,
   "metadata": {
    "collapsed": true
   },
   "outputs": [],
   "source": []
  },
  {
   "cell_type": "code",
   "execution_count": 3,
   "metadata": {
    "collapsed": true
   },
   "outputs": [],
   "source": [
    "#simplifying to binary\n",
    "OBJ1_merged_data_dummied.loc[ (OBJ1_merged_data_dummied['status']==0, 'status') ] =0\n",
    "OBJ1_merged_data_dummied.loc[ (OBJ1_merged_data_dummied['status']==1, 'status') ] =1\n",
    "OBJ1_merged_data_dummied.loc[ (OBJ1_merged_data_dummied['status']==2, 'status') ] =0\n",
    "OBJ1_merged_data_dummied.loc[ (OBJ1_merged_data_dummied['status']==3, 'status') ] =1"
   ]
  },
  {
   "cell_type": "code",
   "execution_count": 8,
   "metadata": {},
   "outputs": [
    {
     "name": "stderr",
     "output_type": "stream",
     "text": [
      "C:\\Users\\Justin.j\\AppData\\Local\\Continuum\\anaconda3\\lib\\site-packages\\sklearn\\ensemble\\forest.py:248: FutureWarning: The default value of n_estimators will change from 10 in version 0.20 to 100 in 0.22.\n",
      "  \"10 in version 0.20 to 100 in 0.22.\", FutureWarning)\n"
     ]
    },
    {
     "name": "stdout",
     "output_type": "stream",
     "text": [
      "Accuracy 0.999913054819\n"
     ]
    }
   ],
   "source": [
    "#random forests classifier\n",
    "\n",
    "X = OBJ1_merged_data_dummied.loc[:, OBJ1_merged_data_dummied.columns != 'status']\n",
    "y = OBJ1_merged_data_dummied.loc[:,'status']\n",
    "X_train, X_test, y_train, y_test = train_test_split(X, y, test_size=0.2)\n",
    "\n",
    "random_state = np.random.RandomState(0)\n",
    "clf= RandomForestClassifier(random_state=random_state)\n",
    "clf.fit(X_train, y_train)\n",
    "# cv = StratifiedKFold(n_splits=5,shuffle=False)\n",
    "y_pred = clf.predict(X_test)\n",
    "print(\"Accuracy\", metrics.accuracy_score(y_test, y_pred))"
   ]
  },
  {
   "cell_type": "code",
   "execution_count": 12,
   "metadata": {
    "collapsed": true
   },
   "outputs": [],
   "source": [
    "conf_matrix = confusion_matrix(y_test, y_pred)"
   ]
  },
  {
   "cell_type": "code",
   "execution_count": 13,
   "metadata": {},
   "outputs": [
    {
     "name": "stdout",
     "output_type": "stream",
     "text": [
      "accuracy:  1.0\n",
      "precision:  1.0\n",
      "recall:  1.0\n",
      "f1:  1.0\n",
      "area under curve (auc):  1.0\n",
      "Confusion matrix [[41579     0]\n",
      " [    0  4427]]\n"
     ]
    }
   ],
   "source": [
    "print(\"accuracy: \", metrics.accuracy_score(y_test, y_pred))  \n",
    "print(\"precision: \", metrics.precision_score(y_test, y_pred))  \n",
    "print(\"recall: \", metrics.recall_score(y_test, y_pred))  \n",
    "print(\"f1: \", metrics.f1_score(y_test, y_pred))  \n",
    "print(\"area under curve (auc): \", metrics.roc_auc_score(y_test, y_pred))  \n",
    "print(\"Confusion matrix\",conf_matrix) "
   ]
  },
  {
   "cell_type": "code",
   "execution_count": 15,
   "metadata": {},
   "outputs": [
    {
     "data": {
      "image/png": "[encoded data removed]",
      "text/plain": [
       "<matplotlib.figure.Figure at 0x21b5c20fc88>"
      ]
     },
     "metadata": {},
     "output_type": "display_data"
    }
   ],
   "source": [
    "import matplotlib\n",
    "import matplotlib.pyplot as plt \n",
    "import seaborn as sns \n",
    "\n",
    "LABELS = [\"Not defaulter\", \"Defaulter\"]\n",
    "plt.figure(figsize=(5, 5))\n",
    "sns.heatmap(conf_matrix, xticklabels=LABELS, yticklabels=LABELS, annot=True, fmt=\"d\",cmap=\"YlGnBu\");\n",
    "plt.title(\"Confusion matrix\")\n",
    "plt.ylabel('True class')\n",
    "plt.xlabel('Predicted class')\n",
    "#plt.savefig(\"C:/Users/ann.maryvarghese/Desktop/ann_results/final/minmax_sig_ConfusionMatrix_oversampling_\"+str(nb_epoch)+\"_\"+str(batch_size)+\".png\")\n",
    "plt.show() \n"
   ]
  },
  {
   "cell_type": "code",
   "execution_count": null,
   "metadata": {
    "collapsed": true
   },
   "outputs": [],
   "source": []
  },
  {
   "cell_type": "code",
   "execution_count": 16,
   "metadata": {},
   "outputs": [
    {
     "data": {
      "text/plain": [
       "0    208078\n",
       "1     21950\n",
       "Name: status, dtype: int64"
      ]
     },
     "execution_count": 16,
     "metadata": {},
     "output_type": "execute_result"
    }
   ],
   "source": [
    "OBJ1_merged_data_dummied['status'].value_counts()"
   ]
  },
  {
   "cell_type": "code",
   "execution_count": 17,
   "metadata": {},
   "outputs": [
    {
     "name": "stdout",
     "output_type": "stream",
     "text": [
      "no of rows in data 416156\n",
      "no of minority class 208078\n"
     ]
    }
   ],
   "source": [
    "#SMOT!\n",
    "\n",
    "X = OBJ1_merged_data_dummied.loc[:, OBJ1_merged_data_dummied.columns != 'status']\n",
    "#print(X.columns)\n",
    "y = OBJ1_merged_data_dummied.loc[:,'status']\n",
    "\n",
    "import imblearn\n",
    "from imblearn.over_sampling import SMOTE\n",
    "sm = SMOTE(random_state=42)\n",
    "X_smot, y_smot = sm.fit_sample(X, y)\n",
    "print(\"no of rows in data\", len(X_smot))\n",
    "print(\"no of minority class\", y_smot.sum())"
   ]
  },
  {
   "cell_type": "code",
   "execution_count": 18,
   "metadata": {},
   "outputs": [
    {
     "data": {
      "text/plain": [
       "(416156, 61)"
      ]
     },
     "execution_count": 18,
     "metadata": {},
     "output_type": "execute_result"
    }
   ],
   "source": [
    "smot_df=pd.DataFrame(X_smot, columns = OBJ1_merged_data_dummied.drop('status',axis=1).columns)\n",
    "smot_df['status'] = y_smot\n",
    "smot_df.shape"
   ]
  },
  {
   "cell_type": "code",
   "execution_count": 19,
   "metadata": {},
   "outputs": [
    {
     "name": "stderr",
     "output_type": "stream",
     "text": [
      "C:\\Users\\Justin.j\\AppData\\Local\\Continuum\\anaconda3\\lib\\site-packages\\sklearn\\ensemble\\forest.py:248: FutureWarning: The default value of n_estimators will change from 10 in version 0.20 to 100 in 0.22.\n",
      "  \"10 in version 0.20 to 100 in 0.22.\", FutureWarning)\n"
     ]
    },
    {
     "name": "stdout",
     "output_type": "stream",
     "text": [
      "Accuracy 0.999963956171\n"
     ]
    }
   ],
   "source": [
    "smot_df_X = smot_df.loc[:, smot_df.columns != 'status']\n",
    "y = smot_df.loc[:,'status']\n",
    "X_train, X_test, y_train, y_test = train_test_split(smot_df_X, y, test_size=0.2)\n",
    "\n",
    "random_state = np.random.RandomState(0)\n",
    "clf= RandomForestClassifier(random_state=random_state)\n",
    "clf.fit(X_train, y_train)\n",
    "# cv = StratifiedKFold(n_splits=5,shuffle=False)\n",
    "y_pred = clf.predict(X_test)\n",
    "print(\"Accuracy\", metrics.accuracy_score(y_test, y_pred))"
   ]
  },
  {
   "cell_type": "code",
   "execution_count": 9,
   "metadata": {},
   "outputs": [
    {
     "name": "stdout",
     "output_type": "stream",
     "text": [
      "accuracy:  0.999913054819\n",
      "precision:  1.0\n",
      "recall:  0.999099504728\n",
      "f1:  0.99954954955\n",
      "area under curve (auc):  0.999549752364\n",
      "Confusion matrix [[41564     0]\n",
      " [    4  4438]]\n"
     ]
    }
   ],
   "source": [
    "conf_matrix = confusion_matrix(y_test, y_pred)\n",
    "print(\"accuracy: \", metrics.accuracy_score(y_test, y_pred))  \n",
    "print(\"precision: \", metrics.precision_score(y_test, y_pred))  \n",
    "print(\"recall: \", metrics.recall_score(y_test, y_pred))  \n",
    "print(\"f1: \", metrics.f1_score(y_test, y_pred))  \n",
    "print(\"area under curve (auc): \", metrics.roc_auc_score(y_test, y_pred))  \n",
    "print(\"Confusion matrix\",conf_matrix) "
   ]
  },
  {
   "cell_type": "code",
   "execution_count": 10,
   "metadata": {
    "scrolled": true
   },
   "outputs": [
    {
     "data": {
      "image/png": "[encoded data removed]",
      "text/plain": [
       "<Figure size 360x360 with 2 Axes>"
      ]
     },
     "metadata": {},
     "output_type": "display_data"
    }
   ],
   "source": [
    " #Plotting Confusion Matrix\n",
    "    \n",
    "import matplotlib\n",
    "import matplotlib.pyplot as plt \n",
    "import seaborn as sns \n",
    "\n",
    "LABELS = [\"Not defaulter\", \"Defaulter\"]\n",
    "plt.figure(figsize=(5, 5))\n",
    "sns.heatmap(conf_matrix, xticklabels=LABELS, yticklabels=LABELS, annot=True, fmt=\"d\",cmap=\"YlGnBu\");\n",
    "plt.title(\"Confusion matrix\")\n",
    "plt.ylabel('True class')\n",
    "plt.xlabel('Predicted class')\n",
    "plt.show() \n"
   ]
  },
  {
   "cell_type": "code",
   "execution_count": 191,
   "metadata": {
    "collapsed": true
   },
   "outputs": [],
   "source": [
    "#clf.fit(X_train, y_train)\n",
    "features=X_train.columns"
   ]
  },
  {
   "cell_type": "code",
   "execution_count": 193,
   "metadata": {},
   "outputs": [
    {
     "name": "stdout",
     "output_type": "stream",
     "text": [
      "Feature ranking:\n",
      "('balance', 3, 0.084699167391581925)\n",
      "('trans_age', 5, 0.08334616498780667)\n",
      "('loan_amount', 1, 0.060426085955891815)\n",
      "('duration', 33, 0.053226924104278706)\n",
      "('payments', 45, 0.049680783367612683)\n",
      "('no. of inhabitants_x', 32, 0.047039643900336117)\n",
      "('no_of_municipalities_inhabitants < 499_x', 52, 0.043285279734929197)\n",
      "('no. of municipalities with inhabitants 500-1999_x', 46, 0.040430536133735741)\n",
      "('no. of municipalities with inhabitants 2000-9999_x', 35, 0.039403028516731595)\n",
      "('no. of municipalities with inhabitants >10000_x', 4, 0.022299153227924771)\n",
      "                                             Feature  Feature_no  Importance\n",
      "0                                            balance         3.0    0.084699\n",
      "1                                          trans_age         5.0    0.083346\n",
      "2                                        loan_amount         1.0    0.060426\n",
      "3                                           duration        33.0    0.053227\n",
      "4                                           payments        45.0    0.049681\n",
      "5                               no. of inhabitants_x        32.0    0.047040\n",
      "6           no_of_municipalities_inhabitants < 499_x        52.0    0.043285\n",
      "7  no. of municipalities with inhabitants 500-1999_x        46.0    0.040431\n",
      "8  no. of municipalities with inhabitants 2000-99...        35.0    0.039403\n",
      "9    no. of municipalities with inhabitants >10000_x         4.0    0.022299\n"
     ]
    }
   ],
   "source": [
    "importances = clf.feature_importances_\n",
    "std = np.std([tree.feature_importances_ for tree in clf.estimators_],\n",
    "             axis=0)\n",
    "indices = np.argsort(importances)[::-1]\n",
    "\n",
    "# Print the feature ranking\n",
    "print(\"Feature ranking:\")\n",
    "\n",
    "count=0\n",
    "OBJ2_feature_df= pd.DataFrame()\n",
    "\n",
    "for f in range(X_train.shape[1]):\n",
    "    if(count<10):\n",
    "        OBJ2_feature_df = OBJ2_feature_df.append({'Feature' : features[f+1] , 'Feature_no' : indices[f], 'Importance':importances[indices[f]]} , ignore_index=True)\n",
    "        print( (features[f+1], indices[f], importances[indices[f]]))\n",
    "        count+=1\n",
    "\n",
    "print(OBJ2_feature_df)\n",
    "\n",
    "OBJ2_feature_df.to_csv(\"OBJ1_feature_df.csv\")\n",
    "\n",
    "# Plot the feature importances of the forest\n",
    "# plt.figure()\n",
    "# plt.title(\"Feature importances\")\n",
    "# plt.bar(range(X_train.shape[1]), importances[indices], color=\"r\", yerr=std[indices], align=\"center\")\n",
    "# plt.xticks(range(X_train.shape[1]), indices)\n",
    "# plt.xlim([-1, X_train.shape[1]])\n",
    "# # plt.savefig(\"OBJ2_featureimportance.png\")\n",
    "# plt.show()\n"
   ]
  },
  {
   "cell_type": "code",
   "execution_count": null,
   "metadata": {
    "collapsed": true
   },
   "outputs": [],
   "source": []
  },
  {
   "cell_type": "code",
   "execution_count": 13,
   "metadata": {},
   "outputs": [
    {
     "name": "stderr",
     "output_type": "stream",
     "text": [
      "C:\\Users\\Justin.j\\AppData\\Local\\Continuum\\anaconda3\\lib\\site-packages\\sklearn\\linear_model\\logistic.py:432: FutureWarning: Default solver will be changed to 'lbfgs' in 0.22. Specify a solver to silence this warning.\n",
      "  FutureWarning)\n"
     ]
    },
    {
     "name": "stdout",
     "output_type": "stream",
     "text": [
      "Accuracy 0.906512194062\n"
     ]
    }
   ],
   "source": [
    "# smot_df_X = smot_df.loc[:, smot_df.columns != 'status']\n",
    "# y = smot_df.loc[:,'status']\n",
    "# X_train, X_test, y_train, y_test = train_test_split(smot_df_X, y, test_size=0.2)\n",
    "\n",
    "#random_state = np.random.RandomState(0)\n",
    "clf= LogisticRegression()\n",
    "clf.fit(X_train, y_train)\n",
    "# cv = StratifiedKFold(n_splits=5,shuffle=False)\n",
    "y_pred = clf.predict(X_test)\n",
    "print(\"Accuracy\", metrics.accuracy_score(y_test, y_pred))"
   ]
  },
  {
   "cell_type": "code",
   "execution_count": 14,
   "metadata": {},
   "outputs": [
    {
     "name": "stdout",
     "output_type": "stream",
     "text": [
      "accuracy:  0.906512194062\n",
      "precision:  0.912280701754\n",
      "recall:  0.0351193156236\n",
      "f1:  0.0676349447214\n",
      "area under curve (auc):  0.517379213196\n",
      "Confusion matrix [[41549    15]\n",
      " [ 4286   156]]\n"
     ]
    }
   ],
   "source": [
    "conf_matrix = confusion_matrix(y_test, y_pred)\n",
    "print(\"accuracy: \", metrics.accuracy_score(y_test, y_pred))  \n",
    "print(\"precision: \", metrics.precision_score(y_test, y_pred))  \n",
    "print(\"recall: \", metrics.recall_score(y_test, y_pred))  \n",
    "print(\"f1: \", metrics.f1_score(y_test, y_pred))  \n",
    "print(\"area under curve (auc): \", metrics.roc_auc_score(y_test, y_pred))  \n",
    "print(\"Confusion matrix\",conf_matrix) "
   ]
  },
  {
   "cell_type": "code",
   "execution_count": 15,
   "metadata": {},
   "outputs": [
    {
     "data": {
      "image/png": "[encoded data removed]",
      "text/plain": [
       "<Figure size 360x360 with 2 Axes>"
      ]
     },
     "metadata": {},
     "output_type": "display_data"
    }
   ],
   "source": [
    "import matplotlib\n",
    "import matplotlib.pyplot as plt \n",
    "import seaborn as sns \n",
    "\n",
    "LABELS = [\"Not defaulter\", \"Defaulter\"]\n",
    "plt.figure(figsize=(5, 5))\n",
    "sns.heatmap(conf_matrix, xticklabels=LABELS, yticklabels=LABELS, annot=True, fmt=\"d\",cmap=\"YlGnBu\");\n",
    "plt.title(\"Confusion matrix\")\n",
    "plt.ylabel('True class')\n",
    "plt.xlabel('Predicted class')\n",
    "plt.show() \n"
   ]
  },
  {
   "cell_type": "code",
   "execution_count": null,
   "metadata": {
    "collapsed": true
   },
   "outputs": [],
   "source": []
  },
  {
   "cell_type": "markdown",
   "metadata": {},
   "source": [
    "TPOT"
   ]
  },
  {
   "cell_type": "code",
   "execution_count": 23,
   "metadata": {
    "scrolled": true
   },
   "outputs": [
    {
     "data": {
      "text/html": [
       "<div>\n",
       "<style>\n",
       "    .dataframe thead tr:only-child th {\n",
       "        text-align: right;\n",
       "    }\n",
       "\n",
       "    .dataframe thead th {\n",
       "        text-align: left;\n",
       "    }\n",
       "\n",
       "    .dataframe tbody tr th {\n",
       "        vertical-align: top;\n",
       "    }\n",
       "</style>\n",
       "<table border=\"1\" class=\"dataframe\">\n",
       "  <thead>\n",
       "    <tr style=\"text-align: right;\">\n",
       "      <th></th>\n",
       "      <th>amount</th>\n",
       "      <th>balance</th>\n",
       "      <th>trans_age</th>\n",
       "      <th>loan_amount</th>\n",
       "      <th>duration</th>\n",
       "      <th>payments</th>\n",
       "      <th>status</th>\n",
       "      <th>no. of inhabitants_x</th>\n",
       "      <th>no_of_municipalities_inhabitants &lt; 499_x</th>\n",
       "      <th>no. of municipalities with inhabitants 500-1999_x</th>\n",
       "      <th>...</th>\n",
       "      <th>mode of transaction_credit in cash</th>\n",
       "      <th>mode of transaction_remittance to another bank</th>\n",
       "      <th>mode of transaction_withdrawal in cash</th>\n",
       "      <th>transaction_character_</th>\n",
       "      <th>transaction_character_household</th>\n",
       "      <th>transaction_character_insurance payment</th>\n",
       "      <th>transaction_character_interest credited</th>\n",
       "      <th>transaction_character_loan payment</th>\n",
       "      <th>transaction_character_payment for statement</th>\n",
       "      <th>transaction_character_sanction interest if negative balance</th>\n",
       "    </tr>\n",
       "  </thead>\n",
       "  <tbody>\n",
       "    <tr>\n",
       "      <th>0</th>\n",
       "      <td>800.0</td>\n",
       "      <td>800.0</td>\n",
       "      <td>2179</td>\n",
       "      <td>79608</td>\n",
       "      <td>24</td>\n",
       "      <td>3317</td>\n",
       "      <td>0</td>\n",
       "      <td>105606</td>\n",
       "      <td>77</td>\n",
       "      <td>26</td>\n",
       "      <td>...</td>\n",
       "      <td>1</td>\n",
       "      <td>0</td>\n",
       "      <td>0</td>\n",
       "      <td>0</td>\n",
       "      <td>0</td>\n",
       "      <td>0</td>\n",
       "      <td>0</td>\n",
       "      <td>0</td>\n",
       "      <td>0</td>\n",
       "      <td>0</td>\n",
       "    </tr>\n",
       "    <tr>\n",
       "      <th>1</th>\n",
       "      <td>44749.0</td>\n",
       "      <td>45549.0</td>\n",
       "      <td>2178</td>\n",
       "      <td>79608</td>\n",
       "      <td>24</td>\n",
       "      <td>3317</td>\n",
       "      <td>0</td>\n",
       "      <td>105606</td>\n",
       "      <td>77</td>\n",
       "      <td>26</td>\n",
       "      <td>...</td>\n",
       "      <td>0</td>\n",
       "      <td>0</td>\n",
       "      <td>0</td>\n",
       "      <td>0</td>\n",
       "      <td>0</td>\n",
       "      <td>0</td>\n",
       "      <td>0</td>\n",
       "      <td>0</td>\n",
       "      <td>0</td>\n",
       "      <td>0</td>\n",
       "    </tr>\n",
       "    <tr>\n",
       "      <th>2</th>\n",
       "      <td>1000.0</td>\n",
       "      <td>1000.0</td>\n",
       "      <td>2178</td>\n",
       "      <td>52788</td>\n",
       "      <td>12</td>\n",
       "      <td>4399</td>\n",
       "      <td>0</td>\n",
       "      <td>58796</td>\n",
       "      <td>22</td>\n",
       "      <td>16</td>\n",
       "      <td>...</td>\n",
       "      <td>1</td>\n",
       "      <td>0</td>\n",
       "      <td>0</td>\n",
       "      <td>0</td>\n",
       "      <td>0</td>\n",
       "      <td>0</td>\n",
       "      <td>0</td>\n",
       "      <td>0</td>\n",
       "      <td>0</td>\n",
       "      <td>0</td>\n",
       "    </tr>\n",
       "    <tr>\n",
       "      <th>3</th>\n",
       "      <td>1100.0</td>\n",
       "      <td>1100.0</td>\n",
       "      <td>2175</td>\n",
       "      <td>21924</td>\n",
       "      <td>36</td>\n",
       "      <td>609</td>\n",
       "      <td>0</td>\n",
       "      <td>157042</td>\n",
       "      <td>49</td>\n",
       "      <td>70</td>\n",
       "      <td>...</td>\n",
       "      <td>1</td>\n",
       "      <td>0</td>\n",
       "      <td>0</td>\n",
       "      <td>0</td>\n",
       "      <td>0</td>\n",
       "      <td>0</td>\n",
       "      <td>0</td>\n",
       "      <td>0</td>\n",
       "      <td>0</td>\n",
       "      <td>0</td>\n",
       "    </tr>\n",
       "    <tr>\n",
       "      <th>4</th>\n",
       "      <td>1100.0</td>\n",
       "      <td>1100.0</td>\n",
       "      <td>2175</td>\n",
       "      <td>21924</td>\n",
       "      <td>36</td>\n",
       "      <td>609</td>\n",
       "      <td>0</td>\n",
       "      <td>157042</td>\n",
       "      <td>49</td>\n",
       "      <td>70</td>\n",
       "      <td>...</td>\n",
       "      <td>1</td>\n",
       "      <td>0</td>\n",
       "      <td>0</td>\n",
       "      <td>0</td>\n",
       "      <td>0</td>\n",
       "      <td>0</td>\n",
       "      <td>0</td>\n",
       "      <td>0</td>\n",
       "      <td>0</td>\n",
       "      <td>0</td>\n",
       "    </tr>\n",
       "  </tbody>\n",
       "</table>\n",
       "<p>5 rows × 61 columns</p>\n",
       "</div>"
      ],
      "text/plain": [
       "    amount  balance  trans_age  loan_amount  duration  payments  status  \\\n",
       "0    800.0    800.0       2179        79608        24      3317       0   \n",
       "1  44749.0  45549.0       2178        79608        24      3317       0   \n",
       "2   1000.0   1000.0       2178        52788        12      4399       0   \n",
       "3   1100.0   1100.0       2175        21924        36       609       0   \n",
       "4   1100.0   1100.0       2175        21924        36       609       0   \n",
       "\n",
       "   no. of inhabitants_x  no_of_municipalities_inhabitants < 499_x  \\\n",
       "0                105606                                        77   \n",
       "1                105606                                        77   \n",
       "2                 58796                                        22   \n",
       "3                157042                                        49   \n",
       "4                157042                                        49   \n",
       "\n",
       "   no. of municipalities with inhabitants 500-1999_x  \\\n",
       "0                                                 26   \n",
       "1                                                 26   \n",
       "2                                                 16   \n",
       "3                                                 70   \n",
       "4                                                 70   \n",
       "\n",
       "                              ...                               \\\n",
       "0                             ...                                \n",
       "1                             ...                                \n",
       "2                             ...                                \n",
       "3                             ...                                \n",
       "4                             ...                                \n",
       "\n",
       "   mode of transaction_credit in cash  \\\n",
       "0                                   1   \n",
       "1                                   0   \n",
       "2                                   1   \n",
       "3                                   1   \n",
       "4                                   1   \n",
       "\n",
       "   mode of transaction_remittance to another bank  \\\n",
       "0                                               0   \n",
       "1                                               0   \n",
       "2                                               0   \n",
       "3                                               0   \n",
       "4                                               0   \n",
       "\n",
       "   mode of transaction_withdrawal in cash  transaction_character_   \\\n",
       "0                                       0                        0   \n",
       "1                                       0                        0   \n",
       "2                                       0                        0   \n",
       "3                                       0                        0   \n",
       "4                                       0                        0   \n",
       "\n",
       "   transaction_character_household  transaction_character_insurance payment  \\\n",
       "0                                0                                        0   \n",
       "1                                0                                        0   \n",
       "2                                0                                        0   \n",
       "3                                0                                        0   \n",
       "4                                0                                        0   \n",
       "\n",
       "   transaction_character_interest credited  \\\n",
       "0                                        0   \n",
       "1                                        0   \n",
       "2                                        0   \n",
       "3                                        0   \n",
       "4                                        0   \n",
       "\n",
       "   transaction_character_loan payment  \\\n",
       "0                                   0   \n",
       "1                                   0   \n",
       "2                                   0   \n",
       "3                                   0   \n",
       "4                                   0   \n",
       "\n",
       "   transaction_character_payment for statement  \\\n",
       "0                                            0   \n",
       "1                                            0   \n",
       "2                                            0   \n",
       "3                                            0   \n",
       "4                                            0   \n",
       "\n",
       "   transaction_character_sanction interest if negative balance  \n",
       "0                                                  0            \n",
       "1                                                  0            \n",
       "2                                                  0            \n",
       "3                                                  0            \n",
       "4                                                  0            \n",
       "\n",
       "[5 rows x 61 columns]"
      ]
     },
     "execution_count": 23,
     "metadata": {},
     "output_type": "execute_result"
    }
   ],
   "source": [
    "import numpy as np\n",
    "OBJ1_merged_data_dummied= pd.read_csv(\"OBJ1_merged_data_dummied.csv\")\n",
    "OBJ1_merged_data_dummied.head()"
   ]
  },
  {
   "cell_type": "code",
   "execution_count": 24,
   "metadata": {},
   "outputs": [
    {
     "data": {
      "text/plain": [
       "False"
      ]
     },
     "execution_count": 24,
     "metadata": {},
     "output_type": "execute_result"
    }
   ],
   "source": [
    "OBJ1_merged_data_dummied.isnull().values.any()"
   ]
  },
  {
   "cell_type": "code",
   "execution_count": 25,
   "metadata": {},
   "outputs": [
    {
     "data": {
      "text/html": [
       "<div>\n",
       "<style>\n",
       "    .dataframe thead tr:only-child th {\n",
       "        text-align: right;\n",
       "    }\n",
       "\n",
       "    .dataframe thead th {\n",
       "        text-align: left;\n",
       "    }\n",
       "\n",
       "    .dataframe tbody tr th {\n",
       "        vertical-align: top;\n",
       "    }\n",
       "</style>\n",
       "<table border=\"1\" class=\"dataframe\">\n",
       "  <thead>\n",
       "    <tr style=\"text-align: right;\">\n",
       "      <th></th>\n",
       "      <th>amount</th>\n",
       "      <th>balance</th>\n",
       "      <th>trans_age</th>\n",
       "      <th>loan_amount</th>\n",
       "      <th>duration</th>\n",
       "      <th>payments</th>\n",
       "      <th>status</th>\n",
       "      <th>no. of inhabitants_x</th>\n",
       "      <th>no_of_municipalities_inhabitants &lt; 499_x</th>\n",
       "      <th>no. of municipalities with inhabitants 500-1999_x</th>\n",
       "      <th>...</th>\n",
       "      <th>mode of transaction_credit in cash</th>\n",
       "      <th>mode of transaction_remittance to another bank</th>\n",
       "      <th>mode of transaction_withdrawal in cash</th>\n",
       "      <th>transaction_character_</th>\n",
       "      <th>transaction_character_household</th>\n",
       "      <th>transaction_character_insurance payment</th>\n",
       "      <th>transaction_character_interest credited</th>\n",
       "      <th>transaction_character_loan payment</th>\n",
       "      <th>transaction_character_payment for statement</th>\n",
       "      <th>transaction_character_sanction interest if negative balance</th>\n",
       "    </tr>\n",
       "  </thead>\n",
       "  <tbody>\n",
       "    <tr>\n",
       "      <th>0</th>\n",
       "      <td>600.0</td>\n",
       "      <td>50978.6</td>\n",
       "      <td>1442</td>\n",
       "      <td>197748</td>\n",
       "      <td>36</td>\n",
       "      <td>5493</td>\n",
       "      <td>0</td>\n",
       "      <td>102609</td>\n",
       "      <td>75</td>\n",
       "      <td>33</td>\n",
       "      <td>...</td>\n",
       "      <td>0</td>\n",
       "      <td>0</td>\n",
       "      <td>1</td>\n",
       "      <td>0</td>\n",
       "      <td>0</td>\n",
       "      <td>0</td>\n",
       "      <td>0</td>\n",
       "      <td>0</td>\n",
       "      <td>0</td>\n",
       "      <td>0</td>\n",
       "    </tr>\n",
       "    <tr>\n",
       "      <th>1</th>\n",
       "      <td>9657.0</td>\n",
       "      <td>95563.5</td>\n",
       "      <td>670</td>\n",
       "      <td>230400</td>\n",
       "      <td>60</td>\n",
       "      <td>3840</td>\n",
       "      <td>2</td>\n",
       "      <td>228848</td>\n",
       "      <td>15</td>\n",
       "      <td>40</td>\n",
       "      <td>...</td>\n",
       "      <td>1</td>\n",
       "      <td>0</td>\n",
       "      <td>0</td>\n",
       "      <td>0</td>\n",
       "      <td>0</td>\n",
       "      <td>0</td>\n",
       "      <td>0</td>\n",
       "      <td>0</td>\n",
       "      <td>0</td>\n",
       "      <td>0</td>\n",
       "    </tr>\n",
       "    <tr>\n",
       "      <th>2</th>\n",
       "      <td>126.6</td>\n",
       "      <td>34833.7</td>\n",
       "      <td>762</td>\n",
       "      <td>139536</td>\n",
       "      <td>24</td>\n",
       "      <td>5814</td>\n",
       "      <td>0</td>\n",
       "      <td>117897</td>\n",
       "      <td>139</td>\n",
       "      <td>28</td>\n",
       "      <td>...</td>\n",
       "      <td>0</td>\n",
       "      <td>0</td>\n",
       "      <td>0</td>\n",
       "      <td>0</td>\n",
       "      <td>0</td>\n",
       "      <td>0</td>\n",
       "      <td>1</td>\n",
       "      <td>0</td>\n",
       "      <td>0</td>\n",
       "      <td>0</td>\n",
       "    </tr>\n",
       "    <tr>\n",
       "      <th>3</th>\n",
       "      <td>2600.0</td>\n",
       "      <td>41202.5</td>\n",
       "      <td>471</td>\n",
       "      <td>184620</td>\n",
       "      <td>60</td>\n",
       "      <td>3077</td>\n",
       "      <td>2</td>\n",
       "      <td>77917</td>\n",
       "      <td>85</td>\n",
       "      <td>19</td>\n",
       "      <td>...</td>\n",
       "      <td>0</td>\n",
       "      <td>0</td>\n",
       "      <td>1</td>\n",
       "      <td>0</td>\n",
       "      <td>0</td>\n",
       "      <td>0</td>\n",
       "      <td>0</td>\n",
       "      <td>0</td>\n",
       "      <td>0</td>\n",
       "      <td>0</td>\n",
       "    </tr>\n",
       "    <tr>\n",
       "      <th>4</th>\n",
       "      <td>6359.0</td>\n",
       "      <td>24876.8</td>\n",
       "      <td>174</td>\n",
       "      <td>194160</td>\n",
       "      <td>48</td>\n",
       "      <td>4045</td>\n",
       "      <td>2</td>\n",
       "      <td>161954</td>\n",
       "      <td>21</td>\n",
       "      <td>37</td>\n",
       "      <td>...</td>\n",
       "      <td>0</td>\n",
       "      <td>1</td>\n",
       "      <td>0</td>\n",
       "      <td>0</td>\n",
       "      <td>1</td>\n",
       "      <td>0</td>\n",
       "      <td>0</td>\n",
       "      <td>0</td>\n",
       "      <td>0</td>\n",
       "      <td>0</td>\n",
       "    </tr>\n",
       "  </tbody>\n",
       "</table>\n",
       "<p>5 rows × 61 columns</p>\n",
       "</div>"
      ],
      "text/plain": [
       "   amount  balance  trans_age  loan_amount  duration  payments  status  \\\n",
       "0   600.0  50978.6       1442       197748        36      5493       0   \n",
       "1  9657.0  95563.5        670       230400        60      3840       2   \n",
       "2   126.6  34833.7        762       139536        24      5814       0   \n",
       "3  2600.0  41202.5        471       184620        60      3077       2   \n",
       "4  6359.0  24876.8        174       194160        48      4045       2   \n",
       "\n",
       "   no. of inhabitants_x  no_of_municipalities_inhabitants < 499_x  \\\n",
       "0                102609                                        75   \n",
       "1                228848                                        15   \n",
       "2                117897                                       139   \n",
       "3                 77917                                        85   \n",
       "4                161954                                        21   \n",
       "\n",
       "   no. of municipalities with inhabitants 500-1999_x  \\\n",
       "0                                                 33   \n",
       "1                                                 40   \n",
       "2                                                 28   \n",
       "3                                                 19   \n",
       "4                                                 37   \n",
       "\n",
       "                              ...                               \\\n",
       "0                             ...                                \n",
       "1                             ...                                \n",
       "2                             ...                                \n",
       "3                             ...                                \n",
       "4                             ...                                \n",
       "\n",
       "   mode of transaction_credit in cash  \\\n",
       "0                                   0   \n",
       "1                                   1   \n",
       "2                                   0   \n",
       "3                                   0   \n",
       "4                                   0   \n",
       "\n",
       "   mode of transaction_remittance to another bank  \\\n",
       "0                                               0   \n",
       "1                                               0   \n",
       "2                                               0   \n",
       "3                                               0   \n",
       "4                                               1   \n",
       "\n",
       "   mode of transaction_withdrawal in cash  transaction_character_   \\\n",
       "0                                       1                        0   \n",
       "1                                       0                        0   \n",
       "2                                       0                        0   \n",
       "3                                       1                        0   \n",
       "4                                       0                        0   \n",
       "\n",
       "   transaction_character_household  transaction_character_insurance payment  \\\n",
       "0                                0                                        0   \n",
       "1                                0                                        0   \n",
       "2                                0                                        0   \n",
       "3                                0                                        0   \n",
       "4                                1                                        0   \n",
       "\n",
       "   transaction_character_interest credited  \\\n",
       "0                                        0   \n",
       "1                                        0   \n",
       "2                                        1   \n",
       "3                                        0   \n",
       "4                                        0   \n",
       "\n",
       "   transaction_character_loan payment  \\\n",
       "0                                   0   \n",
       "1                                   0   \n",
       "2                                   0   \n",
       "3                                   0   \n",
       "4                                   0   \n",
       "\n",
       "   transaction_character_payment for statement  \\\n",
       "0                                            0   \n",
       "1                                            0   \n",
       "2                                            0   \n",
       "3                                            0   \n",
       "4                                            0   \n",
       "\n",
       "   transaction_character_sanction interest if negative balance  \n",
       "0                                                  0            \n",
       "1                                                  0            \n",
       "2                                                  0            \n",
       "3                                                  0            \n",
       "4                                                  0            \n",
       "\n",
       "[5 rows x 61 columns]"
      ]
     },
     "execution_count": 25,
     "metadata": {},
     "output_type": "execute_result"
    }
   ],
   "source": [
    "OBJ1_merged_data_dummied_tpot= OBJ1_merged_data_dummied.iloc[np.random.permutation(len(OBJ1_merged_data_dummied))]\n",
    "OBJ1_merged_data_dummied_tpot= OBJ1_merged_data_dummied_tpot.reset_index(drop=True)\n",
    "OBJ1_merged_data_dummied_tpot.head()"
   ]
  },
  {
   "cell_type": "code",
   "execution_count": 26,
   "metadata": {
    "collapsed": true
   },
   "outputs": [],
   "source": [
    "# tele['class']=tele['class'].map({'g':0,'h':1})\n",
    "# tele.head()\n",
    "\n",
    "OBJ1_status = OBJ1_merged_data_dummied_tpot['status'].values\n",
    "\n",
    "from sklearn.model_selection import train_test_split\n",
    "#from sklearn.cross_validation import train_test_split\n",
    "training_indices, validation_indices = training_indices, testing_indices = train_test_split(OBJ1_merged_data_dummied_tpot.index,\n",
    "                                                                                            stratify = OBJ1_status,\n",
    "                                                                                            train_size=0.75, test_size=0.25)"
   ]
  },
  {
   "cell_type": "code",
   "execution_count": 27,
   "metadata": {},
   "outputs": [
    {
     "data": {
      "text/plain": [
       "(172521, 57507)"
      ]
     },
     "execution_count": 27,
     "metadata": {},
     "output_type": "execute_result"
    }
   ],
   "source": [
    "training_indices.size, validation_indices.size"
   ]
  },
  {
   "cell_type": "code",
   "execution_count": 28,
   "metadata": {},
   "outputs": [
    {
     "name": "stdout",
     "output_type": "stream",
     "text": [
      "Warning: xgboost.XGBClassifier is not available and will not be used by TPOT.\n"
     ]
    },
    {
     "data": {
      "application/vnd.jupyter.widget-view+json": {
       "model_id": "f32053357aa24a749217123d282d0bd2",
       "version_major": 2,
       "version_minor": 0
      },
      "text/plain": [
       "A Jupyter Widget"
      ]
     },
     "metadata": {},
     "output_type": "display_data"
    },
    {
     "name": "stdout",
     "output_type": "stream",
     "text": [
      "Generation 1 - Current best internal CV score: 1.0\n",
      "\n",
      "Best pipeline: ExtraTreesClassifier(input_matrix, bootstrap=True, criterion=gini, max_features=0.35, min_samples_leaf=20, min_samples_split=20, n_estimators=100)\n"
     ]
    },
    {
     "data": {
      "text/plain": [
       "1.0"
      ]
     },
     "execution_count": 28,
     "metadata": {},
     "output_type": "execute_result"
    }
   ],
   "source": [
    "from tpot import TPOTClassifier\n",
    "from tpot import TPOTRegressor\n",
    "\n",
    "tpot = TPOTClassifier(generations=1,verbosity=2)\n",
    "\n",
    "tpot.fit(OBJ1_merged_data_dummied_tpot.drop('status',axis=1).loc[training_indices].values,\n",
    "         OBJ1_merged_data_dummied_tpot.loc[training_indices,'status'].values)\n",
    "\n",
    "tpot.score(OBJ1_merged_data_dummied_tpot.drop('status',axis=1).loc[validation_indices].values,\n",
    "           OBJ1_merged_data_dummied_tpot.loc[validation_indices, 'status'].values)"
   ]
  },
  {
   "cell_type": "code",
   "execution_count": 29,
   "metadata": {},
   "outputs": [
    {
     "name": "stdout",
     "output_type": "stream",
     "text": [
      "completed\n"
     ]
    }
   ],
   "source": [
    "print(\"completed\")"
   ]
  },
  {
   "cell_type": "code",
   "execution_count": null,
   "metadata": {
    "collapsed": true
   },
   "outputs": [],
   "source": []
  }
 ],
 "metadata": {
  "kernelspec": {
   "display_name": "Python 3",
   "language": "python",
   "name": "python3"
  },
  "language_info": {
   "codemirror_mode": {
    "name": "ipython",
    "version": 3
   },
   "file_extension": ".py",
   "mimetype": "text/x-python",
   "name": "python",
   "nbconvert_exporter": "python",
   "pygments_lexer": "ipython3",
   "version": "3.6.3"
  }
 },
 "nbformat": 4,
 "nbformat_minor": 2
}
