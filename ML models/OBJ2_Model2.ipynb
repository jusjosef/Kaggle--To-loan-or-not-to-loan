{
 "cells": [
  {
   "cell_type": "code",
   "execution_count": 1,
   "metadata": {
    "collapsed": true
   },
   "outputs": [],
   "source": [
    "import pandas as pd"
   ]
  },
  {
   "cell_type": "code",
   "execution_count": 33,
   "metadata": {
    "collapsed": true
   },
   "outputs": [],
   "source": [
    "loan=pd.read_csv('loan.csv',sep=';')"
   ]
  },
  {
   "cell_type": "code",
   "execution_count": 34,
   "metadata": {},
   "outputs": [
    {
     "data": {
      "text/html": [
       "<div>\n",
       "<style>\n",
       "    .dataframe thead tr:only-child th {\n",
       "        text-align: right;\n",
       "    }\n",
       "\n",
       "    .dataframe thead th {\n",
       "        text-align: left;\n",
       "    }\n",
       "\n",
       "    .dataframe tbody tr th {\n",
       "        vertical-align: top;\n",
       "    }\n",
       "</style>\n",
       "<table border=\"1\" class=\"dataframe\">\n",
       "  <thead>\n",
       "    <tr style=\"text-align: right;\">\n",
       "      <th></th>\n",
       "      <th>loan_id</th>\n",
       "      <th>account_id</th>\n",
       "      <th>date</th>\n",
       "      <th>amount</th>\n",
       "      <th>duration</th>\n",
       "      <th>payments</th>\n",
       "      <th>status</th>\n",
       "    </tr>\n",
       "  </thead>\n",
       "  <tbody>\n",
       "    <tr>\n",
       "      <th>0</th>\n",
       "      <td>5314</td>\n",
       "      <td>1787</td>\n",
       "      <td>930705</td>\n",
       "      <td>96396</td>\n",
       "      <td>12</td>\n",
       "      <td>8033.0</td>\n",
       "      <td>B</td>\n",
       "    </tr>\n",
       "    <tr>\n",
       "      <th>1</th>\n",
       "      <td>5316</td>\n",
       "      <td>1801</td>\n",
       "      <td>930711</td>\n",
       "      <td>165960</td>\n",
       "      <td>36</td>\n",
       "      <td>4610.0</td>\n",
       "      <td>A</td>\n",
       "    </tr>\n",
       "    <tr>\n",
       "      <th>2</th>\n",
       "      <td>6863</td>\n",
       "      <td>9188</td>\n",
       "      <td>930728</td>\n",
       "      <td>127080</td>\n",
       "      <td>60</td>\n",
       "      <td>2118.0</td>\n",
       "      <td>A</td>\n",
       "    </tr>\n",
       "    <tr>\n",
       "      <th>3</th>\n",
       "      <td>5325</td>\n",
       "      <td>1843</td>\n",
       "      <td>930803</td>\n",
       "      <td>105804</td>\n",
       "      <td>36</td>\n",
       "      <td>2939.0</td>\n",
       "      <td>A</td>\n",
       "    </tr>\n",
       "    <tr>\n",
       "      <th>4</th>\n",
       "      <td>7240</td>\n",
       "      <td>11013</td>\n",
       "      <td>930906</td>\n",
       "      <td>274740</td>\n",
       "      <td>60</td>\n",
       "      <td>4579.0</td>\n",
       "      <td>A</td>\n",
       "    </tr>\n",
       "  </tbody>\n",
       "</table>\n",
       "</div>"
      ],
      "text/plain": [
       "   loan_id  account_id    date  amount  duration  payments status\n",
       "0     5314        1787  930705   96396        12    8033.0      B\n",
       "1     5316        1801  930711  165960        36    4610.0      A\n",
       "2     6863        9188  930728  127080        60    2118.0      A\n",
       "3     5325        1843  930803  105804        36    2939.0      A\n",
       "4     7240       11013  930906  274740        60    4579.0      A"
      ]
     },
     "execution_count": 34,
     "metadata": {},
     "output_type": "execute_result"
    }
   ],
   "source": [
    "loan.head()"
   ]
  },
  {
   "cell_type": "code",
   "execution_count": 9,
   "metadata": {
    "collapsed": true
   },
   "outputs": [],
   "source": [
    "loan_unique=loan['account_id'].value_counts()"
   ]
  },
  {
   "cell_type": "code",
   "execution_count": 10,
   "metadata": {},
   "outputs": [
    {
     "data": {
      "text/plain": [
       "(682, 7)"
      ]
     },
     "execution_count": 10,
     "metadata": {},
     "output_type": "execute_result"
    }
   ],
   "source": [
    "loan.shape"
   ]
  },
  {
   "cell_type": "code",
   "execution_count": 11,
   "metadata": {},
   "outputs": [
    {
     "data": {
      "text/plain": [
       "(682,)"
      ]
     },
     "execution_count": 11,
     "metadata": {},
     "output_type": "execute_result"
    }
   ],
   "source": [
    "loan_unique.shape"
   ]
  },
  {
   "cell_type": "code",
   "execution_count": 14,
   "metadata": {
    "collapsed": true
   },
   "outputs": [],
   "source": [
    "trans=pd.read_csv(\"trans_mod.csv\")"
   ]
  },
  {
   "cell_type": "code",
   "execution_count": 15,
   "metadata": {},
   "outputs": [
    {
     "data": {
      "text/html": [
       "<div>\n",
       "<style>\n",
       "    .dataframe thead tr:only-child th {\n",
       "        text-align: right;\n",
       "    }\n",
       "\n",
       "    .dataframe thead th {\n",
       "        text-align: left;\n",
       "    }\n",
       "\n",
       "    .dataframe tbody tr th {\n",
       "        vertical-align: top;\n",
       "    }\n",
       "</style>\n",
       "<table border=\"1\" class=\"dataframe\">\n",
       "  <thead>\n",
       "    <tr style=\"text-align: right;\">\n",
       "      <th></th>\n",
       "      <th>account_id</th>\n",
       "      <th>type</th>\n",
       "      <th>mode of transaction</th>\n",
       "      <th>amount</th>\n",
       "      <th>balance</th>\n",
       "      <th>transaction_character</th>\n",
       "      <th>to_bank</th>\n",
       "      <th>account_partner</th>\n",
       "      <th>Date</th>\n",
       "      <th>month</th>\n",
       "    </tr>\n",
       "  </thead>\n",
       "  <tbody>\n",
       "    <tr>\n",
       "      <th>0</th>\n",
       "      <td>2378</td>\n",
       "      <td>credit</td>\n",
       "      <td>credit in cash</td>\n",
       "      <td>700.0</td>\n",
       "      <td>700.0</td>\n",
       "      <td>NaN</td>\n",
       "      <td>NaN</td>\n",
       "      <td>NaN</td>\n",
       "      <td>01-01-1993</td>\n",
       "      <td>Jan-93</td>\n",
       "    </tr>\n",
       "    <tr>\n",
       "      <th>1</th>\n",
       "      <td>576</td>\n",
       "      <td>credit</td>\n",
       "      <td>credit in cash</td>\n",
       "      <td>900.0</td>\n",
       "      <td>900.0</td>\n",
       "      <td>NaN</td>\n",
       "      <td>NaN</td>\n",
       "      <td>NaN</td>\n",
       "      <td>01-01-1993</td>\n",
       "      <td>Jan-93</td>\n",
       "    </tr>\n",
       "    <tr>\n",
       "      <th>2</th>\n",
       "      <td>704</td>\n",
       "      <td>credit</td>\n",
       "      <td>credit in cash</td>\n",
       "      <td>1000.0</td>\n",
       "      <td>1000.0</td>\n",
       "      <td>NaN</td>\n",
       "      <td>NaN</td>\n",
       "      <td>NaN</td>\n",
       "      <td>01-01-1993</td>\n",
       "      <td>Jan-93</td>\n",
       "    </tr>\n",
       "    <tr>\n",
       "      <th>3</th>\n",
       "      <td>3818</td>\n",
       "      <td>credit</td>\n",
       "      <td>credit in cash</td>\n",
       "      <td>600.0</td>\n",
       "      <td>600.0</td>\n",
       "      <td>NaN</td>\n",
       "      <td>NaN</td>\n",
       "      <td>NaN</td>\n",
       "      <td>01-01-1993</td>\n",
       "      <td>Jan-93</td>\n",
       "    </tr>\n",
       "    <tr>\n",
       "      <th>4</th>\n",
       "      <td>1972</td>\n",
       "      <td>credit</td>\n",
       "      <td>credit in cash</td>\n",
       "      <td>400.0</td>\n",
       "      <td>400.0</td>\n",
       "      <td>NaN</td>\n",
       "      <td>NaN</td>\n",
       "      <td>NaN</td>\n",
       "      <td>02-01-1993</td>\n",
       "      <td>Jan-93</td>\n",
       "    </tr>\n",
       "  </tbody>\n",
       "</table>\n",
       "</div>"
      ],
      "text/plain": [
       "   account_id    type mode of transaction  amount  balance  \\\n",
       "0        2378  credit      credit in cash   700.0    700.0   \n",
       "1         576  credit      credit in cash   900.0    900.0   \n",
       "2         704  credit      credit in cash  1000.0   1000.0   \n",
       "3        3818  credit      credit in cash   600.0    600.0   \n",
       "4        1972  credit      credit in cash   400.0    400.0   \n",
       "\n",
       "  transaction_character to_bank  account_partner        Date   month  \n",
       "0                   NaN     NaN              NaN  01-01-1993  Jan-93  \n",
       "1                   NaN     NaN              NaN  01-01-1993  Jan-93  \n",
       "2                   NaN     NaN              NaN  01-01-1993  Jan-93  \n",
       "3                   NaN     NaN              NaN  01-01-1993  Jan-93  \n",
       "4                   NaN     NaN              NaN  02-01-1993  Jan-93  "
      ]
     },
     "execution_count": 15,
     "metadata": {},
     "output_type": "execute_result"
    }
   ],
   "source": [
    "trans.head()"
   ]
  },
  {
   "cell_type": "code",
   "execution_count": 19,
   "metadata": {
    "collapsed": true
   },
   "outputs": [],
   "source": [
    "trans1=trans.copy()"
   ]
  },
  {
   "cell_type": "code",
   "execution_count": 36,
   "metadata": {
    "collapsed": true
   },
   "outputs": [],
   "source": [
    "loan['add']='19'\n",
    "loan['Loan_date']=loan['add']+loan['date'].map(str)\n",
    "loan['Loan_date'] =  pd.to_datetime(loan['Loan_date'], format='%Y%m%d')\n",
    "loan.drop('add', axis=1, inplace=True)\n",
    "#loan['Loan_month']=loan['Loan_date'].str[3:]"
   ]
  },
  {
   "cell_type": "code",
   "execution_count": 37,
   "metadata": {
    "collapsed": true
   },
   "outputs": [],
   "source": [
    "loan.to_csv(\"loan_check.csv\")"
   ]
  },
  {
   "cell_type": "code",
   "execution_count": 39,
   "metadata": {
    "collapsed": true
   },
   "outputs": [],
   "source": [
    "loan=pd.read_csv(\"loan_check.csv\")"
   ]
  },
  {
   "cell_type": "code",
   "execution_count": 40,
   "metadata": {},
   "outputs": [
    {
     "data": {
      "text/html": [
       "<div>\n",
       "<style>\n",
       "    .dataframe thead tr:only-child th {\n",
       "        text-align: right;\n",
       "    }\n",
       "\n",
       "    .dataframe thead th {\n",
       "        text-align: left;\n",
       "    }\n",
       "\n",
       "    .dataframe tbody tr th {\n",
       "        vertical-align: top;\n",
       "    }\n",
       "</style>\n",
       "<table border=\"1\" class=\"dataframe\">\n",
       "  <thead>\n",
       "    <tr style=\"text-align: right;\">\n",
       "      <th></th>\n",
       "      <th>Unnamed: 0</th>\n",
       "      <th>loan_id</th>\n",
       "      <th>account_id</th>\n",
       "      <th>date</th>\n",
       "      <th>amount</th>\n",
       "      <th>duration</th>\n",
       "      <th>payments</th>\n",
       "      <th>status</th>\n",
       "      <th>Loan_date</th>\n",
       "    </tr>\n",
       "  </thead>\n",
       "  <tbody>\n",
       "    <tr>\n",
       "      <th>0</th>\n",
       "      <td>0</td>\n",
       "      <td>5314</td>\n",
       "      <td>1787</td>\n",
       "      <td>930705</td>\n",
       "      <td>96396</td>\n",
       "      <td>12</td>\n",
       "      <td>8033</td>\n",
       "      <td>B</td>\n",
       "      <td>05-07-1993</td>\n",
       "    </tr>\n",
       "    <tr>\n",
       "      <th>1</th>\n",
       "      <td>1</td>\n",
       "      <td>5316</td>\n",
       "      <td>1801</td>\n",
       "      <td>930711</td>\n",
       "      <td>165960</td>\n",
       "      <td>36</td>\n",
       "      <td>4610</td>\n",
       "      <td>A</td>\n",
       "      <td>11-07-1993</td>\n",
       "    </tr>\n",
       "    <tr>\n",
       "      <th>2</th>\n",
       "      <td>2</td>\n",
       "      <td>6863</td>\n",
       "      <td>9188</td>\n",
       "      <td>930728</td>\n",
       "      <td>127080</td>\n",
       "      <td>60</td>\n",
       "      <td>2118</td>\n",
       "      <td>A</td>\n",
       "      <td>28-07-1993</td>\n",
       "    </tr>\n",
       "    <tr>\n",
       "      <th>3</th>\n",
       "      <td>3</td>\n",
       "      <td>5325</td>\n",
       "      <td>1843</td>\n",
       "      <td>930803</td>\n",
       "      <td>105804</td>\n",
       "      <td>36</td>\n",
       "      <td>2939</td>\n",
       "      <td>A</td>\n",
       "      <td>03-08-1993</td>\n",
       "    </tr>\n",
       "    <tr>\n",
       "      <th>4</th>\n",
       "      <td>4</td>\n",
       "      <td>7240</td>\n",
       "      <td>11013</td>\n",
       "      <td>930906</td>\n",
       "      <td>274740</td>\n",
       "      <td>60</td>\n",
       "      <td>4579</td>\n",
       "      <td>A</td>\n",
       "      <td>06-09-1993</td>\n",
       "    </tr>\n",
       "  </tbody>\n",
       "</table>\n",
       "</div>"
      ],
      "text/plain": [
       "   Unnamed: 0  loan_id  account_id    date  amount  duration  payments status  \\\n",
       "0           0     5314        1787  930705   96396        12      8033      B   \n",
       "1           1     5316        1801  930711  165960        36      4610      A   \n",
       "2           2     6863        9188  930728  127080        60      2118      A   \n",
       "3           3     5325        1843  930803  105804        36      2939      A   \n",
       "4           4     7240       11013  930906  274740        60      4579      A   \n",
       "\n",
       "    Loan_date  \n",
       "0  05-07-1993  \n",
       "1  11-07-1993  \n",
       "2  28-07-1993  \n",
       "3  03-08-1993  \n",
       "4  06-09-1993  "
      ]
     },
     "execution_count": 40,
     "metadata": {},
     "output_type": "execute_result"
    }
   ],
   "source": [
    "loan.head()"
   ]
  },
  {
   "cell_type": "code",
   "execution_count": 41,
   "metadata": {},
   "outputs": [
    {
     "data": {
      "text/html": [
       "<div>\n",
       "<style>\n",
       "    .dataframe thead tr:only-child th {\n",
       "        text-align: right;\n",
       "    }\n",
       "\n",
       "    .dataframe thead th {\n",
       "        text-align: left;\n",
       "    }\n",
       "\n",
       "    .dataframe tbody tr th {\n",
       "        vertical-align: top;\n",
       "    }\n",
       "</style>\n",
       "<table border=\"1\" class=\"dataframe\">\n",
       "  <thead>\n",
       "    <tr style=\"text-align: right;\">\n",
       "      <th></th>\n",
       "      <th>Unnamed: 0</th>\n",
       "      <th>loan_id</th>\n",
       "      <th>account_id</th>\n",
       "      <th>date</th>\n",
       "      <th>amount</th>\n",
       "      <th>duration</th>\n",
       "      <th>payments</th>\n",
       "      <th>status</th>\n",
       "      <th>Loan_date</th>\n",
       "      <th>Loan_month</th>\n",
       "    </tr>\n",
       "  </thead>\n",
       "  <tbody>\n",
       "    <tr>\n",
       "      <th>0</th>\n",
       "      <td>0</td>\n",
       "      <td>5314</td>\n",
       "      <td>1787</td>\n",
       "      <td>930705</td>\n",
       "      <td>96396</td>\n",
       "      <td>12</td>\n",
       "      <td>8033</td>\n",
       "      <td>B</td>\n",
       "      <td>05-07-1993</td>\n",
       "      <td>07-1993</td>\n",
       "    </tr>\n",
       "    <tr>\n",
       "      <th>1</th>\n",
       "      <td>1</td>\n",
       "      <td>5316</td>\n",
       "      <td>1801</td>\n",
       "      <td>930711</td>\n",
       "      <td>165960</td>\n",
       "      <td>36</td>\n",
       "      <td>4610</td>\n",
       "      <td>A</td>\n",
       "      <td>11-07-1993</td>\n",
       "      <td>07-1993</td>\n",
       "    </tr>\n",
       "    <tr>\n",
       "      <th>2</th>\n",
       "      <td>2</td>\n",
       "      <td>6863</td>\n",
       "      <td>9188</td>\n",
       "      <td>930728</td>\n",
       "      <td>127080</td>\n",
       "      <td>60</td>\n",
       "      <td>2118</td>\n",
       "      <td>A</td>\n",
       "      <td>28-07-1993</td>\n",
       "      <td>07-1993</td>\n",
       "    </tr>\n",
       "    <tr>\n",
       "      <th>3</th>\n",
       "      <td>3</td>\n",
       "      <td>5325</td>\n",
       "      <td>1843</td>\n",
       "      <td>930803</td>\n",
       "      <td>105804</td>\n",
       "      <td>36</td>\n",
       "      <td>2939</td>\n",
       "      <td>A</td>\n",
       "      <td>03-08-1993</td>\n",
       "      <td>08-1993</td>\n",
       "    </tr>\n",
       "    <tr>\n",
       "      <th>4</th>\n",
       "      <td>4</td>\n",
       "      <td>7240</td>\n",
       "      <td>11013</td>\n",
       "      <td>930906</td>\n",
       "      <td>274740</td>\n",
       "      <td>60</td>\n",
       "      <td>4579</td>\n",
       "      <td>A</td>\n",
       "      <td>06-09-1993</td>\n",
       "      <td>09-1993</td>\n",
       "    </tr>\n",
       "  </tbody>\n",
       "</table>\n",
       "</div>"
      ],
      "text/plain": [
       "   Unnamed: 0  loan_id  account_id    date  amount  duration  payments status  \\\n",
       "0           0     5314        1787  930705   96396        12      8033      B   \n",
       "1           1     5316        1801  930711  165960        36      4610      A   \n",
       "2           2     6863        9188  930728  127080        60      2118      A   \n",
       "3           3     5325        1843  930803  105804        36      2939      A   \n",
       "4           4     7240       11013  930906  274740        60      4579      A   \n",
       "\n",
       "    Loan_date Loan_month  \n",
       "0  05-07-1993    07-1993  \n",
       "1  11-07-1993    07-1993  \n",
       "2  28-07-1993    07-1993  \n",
       "3  03-08-1993    08-1993  \n",
       "4  06-09-1993    09-1993  "
      ]
     },
     "execution_count": 41,
     "metadata": {},
     "output_type": "execute_result"
    }
   ],
   "source": [
    "loan['Loan_month']=loan['Loan_date'].str[3:]\n",
    "\n",
    "loan.head()"
   ]
  },
  {
   "cell_type": "code",
   "execution_count": 43,
   "metadata": {
    "collapsed": true
   },
   "outputs": [],
   "source": [
    "loan.to_csv(\"loan_check.csv\")"
   ]
  },
  {
   "cell_type": "code",
   "execution_count": 48,
   "metadata": {
    "collapsed": true
   },
   "outputs": [],
   "source": [
    "loan=pd.read_csv(\"loan_check.csv\")"
   ]
  },
  {
   "cell_type": "code",
   "execution_count": 49,
   "metadata": {},
   "outputs": [
    {
     "data": {
      "text/html": [
       "<div>\n",
       "<style>\n",
       "    .dataframe thead tr:only-child th {\n",
       "        text-align: right;\n",
       "    }\n",
       "\n",
       "    .dataframe thead th {\n",
       "        text-align: left;\n",
       "    }\n",
       "\n",
       "    .dataframe tbody tr th {\n",
       "        vertical-align: top;\n",
       "    }\n",
       "</style>\n",
       "<table border=\"1\" class=\"dataframe\">\n",
       "  <thead>\n",
       "    <tr style=\"text-align: right;\">\n",
       "      <th></th>\n",
       "      <th>loan_id</th>\n",
       "      <th>account_id</th>\n",
       "      <th>date</th>\n",
       "      <th>amount</th>\n",
       "      <th>duration</th>\n",
       "      <th>payments</th>\n",
       "      <th>status</th>\n",
       "      <th>Loan_date</th>\n",
       "      <th>Loan_month</th>\n",
       "    </tr>\n",
       "  </thead>\n",
       "  <tbody>\n",
       "    <tr>\n",
       "      <th>0</th>\n",
       "      <td>5314</td>\n",
       "      <td>1787</td>\n",
       "      <td>930705</td>\n",
       "      <td>96396</td>\n",
       "      <td>12</td>\n",
       "      <td>8033</td>\n",
       "      <td>B</td>\n",
       "      <td>05-07-1993</td>\n",
       "      <td>Jul-93</td>\n",
       "    </tr>\n",
       "    <tr>\n",
       "      <th>1</th>\n",
       "      <td>5316</td>\n",
       "      <td>1801</td>\n",
       "      <td>930711</td>\n",
       "      <td>165960</td>\n",
       "      <td>36</td>\n",
       "      <td>4610</td>\n",
       "      <td>A</td>\n",
       "      <td>11-07-1993</td>\n",
       "      <td>Jul-93</td>\n",
       "    </tr>\n",
       "    <tr>\n",
       "      <th>2</th>\n",
       "      <td>6863</td>\n",
       "      <td>9188</td>\n",
       "      <td>930728</td>\n",
       "      <td>127080</td>\n",
       "      <td>60</td>\n",
       "      <td>2118</td>\n",
       "      <td>A</td>\n",
       "      <td>28-07-1993</td>\n",
       "      <td>Jul-93</td>\n",
       "    </tr>\n",
       "    <tr>\n",
       "      <th>3</th>\n",
       "      <td>5325</td>\n",
       "      <td>1843</td>\n",
       "      <td>930803</td>\n",
       "      <td>105804</td>\n",
       "      <td>36</td>\n",
       "      <td>2939</td>\n",
       "      <td>A</td>\n",
       "      <td>03-08-1993</td>\n",
       "      <td>Aug-93</td>\n",
       "    </tr>\n",
       "    <tr>\n",
       "      <th>4</th>\n",
       "      <td>7240</td>\n",
       "      <td>11013</td>\n",
       "      <td>930906</td>\n",
       "      <td>274740</td>\n",
       "      <td>60</td>\n",
       "      <td>4579</td>\n",
       "      <td>A</td>\n",
       "      <td>06-09-1993</td>\n",
       "      <td>Sep-93</td>\n",
       "    </tr>\n",
       "  </tbody>\n",
       "</table>\n",
       "</div>"
      ],
      "text/plain": [
       "   loan_id  account_id    date  amount  duration  payments status   Loan_date  \\\n",
       "0     5314        1787  930705   96396        12      8033      B  05-07-1993   \n",
       "1     5316        1801  930711  165960        36      4610      A  11-07-1993   \n",
       "2     6863        9188  930728  127080        60      2118      A  28-07-1993   \n",
       "3     5325        1843  930803  105804        36      2939      A  03-08-1993   \n",
       "4     7240       11013  930906  274740        60      4579      A  06-09-1993   \n",
       "\n",
       "  Loan_month  \n",
       "0     Jul-93  \n",
       "1     Jul-93  \n",
       "2     Jul-93  \n",
       "3     Aug-93  \n",
       "4     Sep-93  "
      ]
     },
     "execution_count": 49,
     "metadata": {},
     "output_type": "execute_result"
    }
   ],
   "source": [
    "loan.head()"
   ]
  },
  {
   "cell_type": "code",
   "execution_count": 59,
   "metadata": {
    "collapsed": true
   },
   "outputs": [],
   "source": [
    "loan_month= loan[['account_id','Loan_month']]"
   ]
  },
  {
   "cell_type": "code",
   "execution_count": 60,
   "metadata": {},
   "outputs": [
    {
     "data": {
      "text/html": [
       "<div>\n",
       "<style>\n",
       "    .dataframe thead tr:only-child th {\n",
       "        text-align: right;\n",
       "    }\n",
       "\n",
       "    .dataframe thead th {\n",
       "        text-align: left;\n",
       "    }\n",
       "\n",
       "    .dataframe tbody tr th {\n",
       "        vertical-align: top;\n",
       "    }\n",
       "</style>\n",
       "<table border=\"1\" class=\"dataframe\">\n",
       "  <thead>\n",
       "    <tr style=\"text-align: right;\">\n",
       "      <th></th>\n",
       "      <th>account_id</th>\n",
       "      <th>Loan_month</th>\n",
       "    </tr>\n",
       "  </thead>\n",
       "  <tbody>\n",
       "    <tr>\n",
       "      <th>0</th>\n",
       "      <td>1787</td>\n",
       "      <td>Jul-93</td>\n",
       "    </tr>\n",
       "    <tr>\n",
       "      <th>1</th>\n",
       "      <td>1801</td>\n",
       "      <td>Jul-93</td>\n",
       "    </tr>\n",
       "    <tr>\n",
       "      <th>2</th>\n",
       "      <td>9188</td>\n",
       "      <td>Jul-93</td>\n",
       "    </tr>\n",
       "    <tr>\n",
       "      <th>3</th>\n",
       "      <td>1843</td>\n",
       "      <td>Aug-93</td>\n",
       "    </tr>\n",
       "    <tr>\n",
       "      <th>4</th>\n",
       "      <td>11013</td>\n",
       "      <td>Sep-93</td>\n",
       "    </tr>\n",
       "  </tbody>\n",
       "</table>\n",
       "</div>"
      ],
      "text/plain": [
       "   account_id Loan_month\n",
       "0        1787     Jul-93\n",
       "1        1801     Jul-93\n",
       "2        9188     Jul-93\n",
       "3        1843     Aug-93\n",
       "4       11013     Sep-93"
      ]
     },
     "execution_count": 60,
     "metadata": {},
     "output_type": "execute_result"
    }
   ],
   "source": [
    "loan_month.head()"
   ]
  },
  {
   "cell_type": "code",
   "execution_count": 64,
   "metadata": {},
   "outputs": [
    {
     "data": {
      "text/html": [
       "<div>\n",
       "<style>\n",
       "    .dataframe thead tr:only-child th {\n",
       "        text-align: right;\n",
       "    }\n",
       "\n",
       "    .dataframe thead th {\n",
       "        text-align: left;\n",
       "    }\n",
       "\n",
       "    .dataframe tbody tr th {\n",
       "        vertical-align: top;\n",
       "    }\n",
       "</style>\n",
       "<table border=\"1\" class=\"dataframe\">\n",
       "  <thead>\n",
       "    <tr style=\"text-align: right;\">\n",
       "      <th></th>\n",
       "      <th>account_id</th>\n",
       "      <th>type</th>\n",
       "      <th>mode of transaction</th>\n",
       "      <th>amount</th>\n",
       "      <th>balance</th>\n",
       "      <th>transaction_character</th>\n",
       "      <th>to_bank</th>\n",
       "      <th>account_partner</th>\n",
       "      <th>Date</th>\n",
       "      <th>month</th>\n",
       "    </tr>\n",
       "  </thead>\n",
       "  <tbody>\n",
       "    <tr>\n",
       "      <th>0</th>\n",
       "      <td>2378</td>\n",
       "      <td>credit</td>\n",
       "      <td>credit in cash</td>\n",
       "      <td>700.0</td>\n",
       "      <td>700.0</td>\n",
       "      <td>NaN</td>\n",
       "      <td>NaN</td>\n",
       "      <td>NaN</td>\n",
       "      <td>01-01-1993</td>\n",
       "      <td>Jan-93</td>\n",
       "    </tr>\n",
       "    <tr>\n",
       "      <th>1</th>\n",
       "      <td>576</td>\n",
       "      <td>credit</td>\n",
       "      <td>credit in cash</td>\n",
       "      <td>900.0</td>\n",
       "      <td>900.0</td>\n",
       "      <td>NaN</td>\n",
       "      <td>NaN</td>\n",
       "      <td>NaN</td>\n",
       "      <td>01-01-1993</td>\n",
       "      <td>Jan-93</td>\n",
       "    </tr>\n",
       "    <tr>\n",
       "      <th>2</th>\n",
       "      <td>704</td>\n",
       "      <td>credit</td>\n",
       "      <td>credit in cash</td>\n",
       "      <td>1000.0</td>\n",
       "      <td>1000.0</td>\n",
       "      <td>NaN</td>\n",
       "      <td>NaN</td>\n",
       "      <td>NaN</td>\n",
       "      <td>01-01-1993</td>\n",
       "      <td>Jan-93</td>\n",
       "    </tr>\n",
       "    <tr>\n",
       "      <th>3</th>\n",
       "      <td>3818</td>\n",
       "      <td>credit</td>\n",
       "      <td>credit in cash</td>\n",
       "      <td>600.0</td>\n",
       "      <td>600.0</td>\n",
       "      <td>NaN</td>\n",
       "      <td>NaN</td>\n",
       "      <td>NaN</td>\n",
       "      <td>01-01-1993</td>\n",
       "      <td>Jan-93</td>\n",
       "    </tr>\n",
       "    <tr>\n",
       "      <th>4</th>\n",
       "      <td>1972</td>\n",
       "      <td>credit</td>\n",
       "      <td>credit in cash</td>\n",
       "      <td>400.0</td>\n",
       "      <td>400.0</td>\n",
       "      <td>NaN</td>\n",
       "      <td>NaN</td>\n",
       "      <td>NaN</td>\n",
       "      <td>02-01-1993</td>\n",
       "      <td>Jan-93</td>\n",
       "    </tr>\n",
       "  </tbody>\n",
       "</table>\n",
       "</div>"
      ],
      "text/plain": [
       "   account_id    type mode of transaction  amount  balance  \\\n",
       "0        2378  credit      credit in cash   700.0    700.0   \n",
       "1         576  credit      credit in cash   900.0    900.0   \n",
       "2         704  credit      credit in cash  1000.0   1000.0   \n",
       "3        3818  credit      credit in cash   600.0    600.0   \n",
       "4        1972  credit      credit in cash   400.0    400.0   \n",
       "\n",
       "  transaction_character to_bank  account_partner        Date   month  \n",
       "0                   NaN     NaN              NaN  01-01-1993  Jan-93  \n",
       "1                   NaN     NaN              NaN  01-01-1993  Jan-93  \n",
       "2                   NaN     NaN              NaN  01-01-1993  Jan-93  \n",
       "3                   NaN     NaN              NaN  01-01-1993  Jan-93  \n",
       "4                   NaN     NaN              NaN  02-01-1993  Jan-93  "
      ]
     },
     "execution_count": 64,
     "metadata": {},
     "output_type": "execute_result"
    }
   ],
   "source": [
    "trans.head()"
   ]
  },
  {
   "cell_type": "code",
   "execution_count": 76,
   "metadata": {
    "collapsed": true
   },
   "outputs": [],
   "source": [
    "trans_loanmonth= pd.merge(trans, loan_month, on='account_id', how='right')"
   ]
  },
  {
   "cell_type": "code",
   "execution_count": 77,
   "metadata": {},
   "outputs": [
    {
     "data": {
      "text/html": [
       "<div>\n",
       "<style>\n",
       "    .dataframe thead tr:only-child th {\n",
       "        text-align: right;\n",
       "    }\n",
       "\n",
       "    .dataframe thead th {\n",
       "        text-align: left;\n",
       "    }\n",
       "\n",
       "    .dataframe tbody tr th {\n",
       "        vertical-align: top;\n",
       "    }\n",
       "</style>\n",
       "<table border=\"1\" class=\"dataframe\">\n",
       "  <thead>\n",
       "    <tr style=\"text-align: right;\">\n",
       "      <th></th>\n",
       "      <th>account_id</th>\n",
       "      <th>type</th>\n",
       "      <th>mode of transaction</th>\n",
       "      <th>amount</th>\n",
       "      <th>balance</th>\n",
       "      <th>transaction_character</th>\n",
       "      <th>to_bank</th>\n",
       "      <th>account_partner</th>\n",
       "      <th>Date</th>\n",
       "      <th>month</th>\n",
       "      <th>Loan_month</th>\n",
       "    </tr>\n",
       "  </thead>\n",
       "  <tbody>\n",
       "    <tr>\n",
       "      <th>0</th>\n",
       "      <td>5270</td>\n",
       "      <td>credit</td>\n",
       "      <td>credit in cash</td>\n",
       "      <td>800.0</td>\n",
       "      <td>800.0</td>\n",
       "      <td>NaN</td>\n",
       "      <td>NaN</td>\n",
       "      <td>NaN</td>\n",
       "      <td>13-01-1993</td>\n",
       "      <td>Jan-93</td>\n",
       "      <td>Nov-93</td>\n",
       "    </tr>\n",
       "    <tr>\n",
       "      <th>1</th>\n",
       "      <td>5270</td>\n",
       "      <td>credit</td>\n",
       "      <td>collection from another bank</td>\n",
       "      <td>44749.0</td>\n",
       "      <td>45549.0</td>\n",
       "      <td>NaN</td>\n",
       "      <td>IJ</td>\n",
       "      <td>80269753.0</td>\n",
       "      <td>14-01-1993</td>\n",
       "      <td>Jan-93</td>\n",
       "      <td>Nov-93</td>\n",
       "    </tr>\n",
       "    <tr>\n",
       "      <th>2</th>\n",
       "      <td>5270</td>\n",
       "      <td>credit</td>\n",
       "      <td>NaN</td>\n",
       "      <td>110.2</td>\n",
       "      <td>45659.2</td>\n",
       "      <td>interest credited</td>\n",
       "      <td>NaN</td>\n",
       "      <td>NaN</td>\n",
       "      <td>31-01-1993</td>\n",
       "      <td>Jan-93</td>\n",
       "      <td>Nov-93</td>\n",
       "    </tr>\n",
       "    <tr>\n",
       "      <th>3</th>\n",
       "      <td>5270</td>\n",
       "      <td>debit</td>\n",
       "      <td>withdrawal in cash</td>\n",
       "      <td>9600.0</td>\n",
       "      <td>36059.2</td>\n",
       "      <td>NaN</td>\n",
       "      <td>NaN</td>\n",
       "      <td>NaN</td>\n",
       "      <td>12-02-1993</td>\n",
       "      <td>Feb-93</td>\n",
       "      <td>Nov-93</td>\n",
       "    </tr>\n",
       "    <tr>\n",
       "      <th>4</th>\n",
       "      <td>5270</td>\n",
       "      <td>credit</td>\n",
       "      <td>collection from another bank</td>\n",
       "      <td>44749.0</td>\n",
       "      <td>80808.2</td>\n",
       "      <td>NaN</td>\n",
       "      <td>IJ</td>\n",
       "      <td>80269753.0</td>\n",
       "      <td>14-02-1993</td>\n",
       "      <td>Feb-93</td>\n",
       "      <td>Nov-93</td>\n",
       "    </tr>\n",
       "  </tbody>\n",
       "</table>\n",
       "</div>"
      ],
      "text/plain": [
       "   account_id    type           mode of transaction   amount  balance  \\\n",
       "0        5270  credit                credit in cash    800.0    800.0   \n",
       "1        5270  credit  collection from another bank  44749.0  45549.0   \n",
       "2        5270  credit                           NaN    110.2  45659.2   \n",
       "3        5270   debit            withdrawal in cash   9600.0  36059.2   \n",
       "4        5270  credit  collection from another bank  44749.0  80808.2   \n",
       "\n",
       "  transaction_character to_bank  account_partner        Date   month  \\\n",
       "0                   NaN     NaN              NaN  13-01-1993  Jan-93   \n",
       "1                   NaN      IJ       80269753.0  14-01-1993  Jan-93   \n",
       "2     interest credited     NaN              NaN  31-01-1993  Jan-93   \n",
       "3                   NaN     NaN              NaN  12-02-1993  Feb-93   \n",
       "4                   NaN      IJ       80269753.0  14-02-1993  Feb-93   \n",
       "\n",
       "  Loan_month  \n",
       "0     Nov-93  \n",
       "1     Nov-93  \n",
       "2     Nov-93  \n",
       "3     Nov-93  \n",
       "4     Nov-93  "
      ]
     },
     "execution_count": 77,
     "metadata": {},
     "output_type": "execute_result"
    }
   ],
   "source": [
    "trans_loanmonth.head()"
   ]
  },
  {
   "cell_type": "code",
   "execution_count": 78,
   "metadata": {},
   "outputs": [
    {
     "data": {
      "text/plain": [
       "(190103, 11)"
      ]
     },
     "execution_count": 78,
     "metadata": {},
     "output_type": "execute_result"
    }
   ],
   "source": [
    "trans_loanmonth.shape"
   ]
  },
  {
   "cell_type": "code",
   "execution_count": 79,
   "metadata": {},
   "outputs": [
    {
     "data": {
      "text/plain": [
       "(1048575, 10)"
      ]
     },
     "execution_count": 79,
     "metadata": {},
     "output_type": "execute_result"
    }
   ],
   "source": [
    "trans.shape"
   ]
  },
  {
   "cell_type": "code",
   "execution_count": 80,
   "metadata": {},
   "outputs": [
    {
     "data": {
      "text/plain": [
       "(682, 9)"
      ]
     },
     "execution_count": 80,
     "metadata": {},
     "output_type": "execute_result"
    }
   ],
   "source": [
    "loan.shape"
   ]
  },
  {
   "cell_type": "code",
   "execution_count": 83,
   "metadata": {},
   "outputs": [
    {
     "data": {
      "text/plain": [
       "682"
      ]
     },
     "execution_count": 83,
     "metadata": {},
     "output_type": "execute_result"
    }
   ],
   "source": [
    "arr=trans_loanmonth['account_id'].unique()\n",
    "len(arr)"
   ]
  },
  {
   "cell_type": "code",
   "execution_count": 84,
   "metadata": {
    "collapsed": true
   },
   "outputs": [],
   "source": [
    "trans_loanmonth.to_csv(\"OBJ2_trans_loanmonth.csv\")"
   ]
  },
  {
   "cell_type": "code",
   "execution_count": null,
   "metadata": {
    "collapsed": true
   },
   "outputs": [],
   "source": []
  },
  {
   "cell_type": "code",
   "execution_count": 101,
   "metadata": {
    "collapsed": true
   },
   "outputs": [],
   "source": [
    "trans_loanmonth= pd.read_csv(\"OBJ2_trans_loanmonth.csv\")"
   ]
  },
  {
   "cell_type": "code",
   "execution_count": 102,
   "metadata": {
    "collapsed": true
   },
   "outputs": [],
   "source": [
    "trans_loanmonth['mod_trans_month'] = pd.DatetimeIndex(trans_loanmonth['month'])\n",
    "trans_loanmonth['mod_loan_month'] = pd.DatetimeIndex(trans_loanmonth['Loan_month'])"
   ]
  },
  {
   "cell_type": "code",
   "execution_count": 103,
   "metadata": {},
   "outputs": [
    {
     "data": {
      "text/html": [
       "<div>\n",
       "<style>\n",
       "    .dataframe thead tr:only-child th {\n",
       "        text-align: right;\n",
       "    }\n",
       "\n",
       "    .dataframe thead th {\n",
       "        text-align: left;\n",
       "    }\n",
       "\n",
       "    .dataframe tbody tr th {\n",
       "        vertical-align: top;\n",
       "    }\n",
       "</style>\n",
       "<table border=\"1\" class=\"dataframe\">\n",
       "  <thead>\n",
       "    <tr style=\"text-align: right;\">\n",
       "      <th></th>\n",
       "      <th>Unnamed: 0</th>\n",
       "      <th>account_id</th>\n",
       "      <th>type</th>\n",
       "      <th>mode of transaction</th>\n",
       "      <th>amount</th>\n",
       "      <th>balance</th>\n",
       "      <th>transaction_character</th>\n",
       "      <th>to_bank</th>\n",
       "      <th>account_partner</th>\n",
       "      <th>Date</th>\n",
       "      <th>month</th>\n",
       "      <th>Loan_month</th>\n",
       "      <th>mod_trans_month</th>\n",
       "      <th>mod_loan_month</th>\n",
       "    </tr>\n",
       "  </thead>\n",
       "  <tbody>\n",
       "    <tr>\n",
       "      <th>0</th>\n",
       "      <td>0</td>\n",
       "      <td>5270</td>\n",
       "      <td>credit</td>\n",
       "      <td>credit in cash</td>\n",
       "      <td>800.0</td>\n",
       "      <td>800.0</td>\n",
       "      <td>NaN</td>\n",
       "      <td>NaN</td>\n",
       "      <td>NaN</td>\n",
       "      <td>13-01-1993</td>\n",
       "      <td>Jan-93</td>\n",
       "      <td>Nov-93</td>\n",
       "      <td>1993-01-01</td>\n",
       "      <td>1993-11-01</td>\n",
       "    </tr>\n",
       "    <tr>\n",
       "      <th>1</th>\n",
       "      <td>1</td>\n",
       "      <td>5270</td>\n",
       "      <td>credit</td>\n",
       "      <td>collection from another bank</td>\n",
       "      <td>44749.0</td>\n",
       "      <td>45549.0</td>\n",
       "      <td>NaN</td>\n",
       "      <td>IJ</td>\n",
       "      <td>80269753.0</td>\n",
       "      <td>14-01-1993</td>\n",
       "      <td>Jan-93</td>\n",
       "      <td>Nov-93</td>\n",
       "      <td>1993-01-01</td>\n",
       "      <td>1993-11-01</td>\n",
       "    </tr>\n",
       "    <tr>\n",
       "      <th>2</th>\n",
       "      <td>2</td>\n",
       "      <td>5270</td>\n",
       "      <td>credit</td>\n",
       "      <td>NaN</td>\n",
       "      <td>110.2</td>\n",
       "      <td>45659.2</td>\n",
       "      <td>interest credited</td>\n",
       "      <td>NaN</td>\n",
       "      <td>NaN</td>\n",
       "      <td>31-01-1993</td>\n",
       "      <td>Jan-93</td>\n",
       "      <td>Nov-93</td>\n",
       "      <td>1993-01-01</td>\n",
       "      <td>1993-11-01</td>\n",
       "    </tr>\n",
       "    <tr>\n",
       "      <th>3</th>\n",
       "      <td>3</td>\n",
       "      <td>5270</td>\n",
       "      <td>debit</td>\n",
       "      <td>withdrawal in cash</td>\n",
       "      <td>9600.0</td>\n",
       "      <td>36059.2</td>\n",
       "      <td>NaN</td>\n",
       "      <td>NaN</td>\n",
       "      <td>NaN</td>\n",
       "      <td>12-02-1993</td>\n",
       "      <td>Feb-93</td>\n",
       "      <td>Nov-93</td>\n",
       "      <td>1993-02-01</td>\n",
       "      <td>1993-11-01</td>\n",
       "    </tr>\n",
       "    <tr>\n",
       "      <th>4</th>\n",
       "      <td>4</td>\n",
       "      <td>5270</td>\n",
       "      <td>credit</td>\n",
       "      <td>collection from another bank</td>\n",
       "      <td>44749.0</td>\n",
       "      <td>80808.2</td>\n",
       "      <td>NaN</td>\n",
       "      <td>IJ</td>\n",
       "      <td>80269753.0</td>\n",
       "      <td>14-02-1993</td>\n",
       "      <td>Feb-93</td>\n",
       "      <td>Nov-93</td>\n",
       "      <td>1993-02-01</td>\n",
       "      <td>1993-11-01</td>\n",
       "    </tr>\n",
       "  </tbody>\n",
       "</table>\n",
       "</div>"
      ],
      "text/plain": [
       "   Unnamed: 0  account_id    type           mode of transaction   amount  \\\n",
       "0           0        5270  credit                credit in cash    800.0   \n",
       "1           1        5270  credit  collection from another bank  44749.0   \n",
       "2           2        5270  credit                           NaN    110.2   \n",
       "3           3        5270   debit            withdrawal in cash   9600.0   \n",
       "4           4        5270  credit  collection from another bank  44749.0   \n",
       "\n",
       "   balance transaction_character to_bank  account_partner        Date   month  \\\n",
       "0    800.0                   NaN     NaN              NaN  13-01-1993  Jan-93   \n",
       "1  45549.0                   NaN      IJ       80269753.0  14-01-1993  Jan-93   \n",
       "2  45659.2     interest credited     NaN              NaN  31-01-1993  Jan-93   \n",
       "3  36059.2                   NaN     NaN              NaN  12-02-1993  Feb-93   \n",
       "4  80808.2                   NaN      IJ       80269753.0  14-02-1993  Feb-93   \n",
       "\n",
       "  Loan_month mod_trans_month mod_loan_month  \n",
       "0     Nov-93      1993-01-01     1993-11-01  \n",
       "1     Nov-93      1993-01-01     1993-11-01  \n",
       "2     Nov-93      1993-01-01     1993-11-01  \n",
       "3     Nov-93      1993-02-01     1993-11-01  \n",
       "4     Nov-93      1993-02-01     1993-11-01  "
      ]
     },
     "execution_count": 103,
     "metadata": {},
     "output_type": "execute_result"
    }
   ],
   "source": [
    "trans_loanmonth.head()"
   ]
  },
  {
   "cell_type": "code",
   "execution_count": 104,
   "metadata": {
    "collapsed": true
   },
   "outputs": [],
   "source": [
    "trans_loanmonth_till_loan= trans_loanmonth [ trans_loanmonth['mod_trans_month'] < trans_loanmonth['mod_loan_month'] ]"
   ]
  },
  {
   "cell_type": "code",
   "execution_count": 105,
   "metadata": {},
   "outputs": [
    {
     "data": {
      "text/plain": [
       "(52777, 14)"
      ]
     },
     "execution_count": 105,
     "metadata": {},
     "output_type": "execute_result"
    }
   ],
   "source": [
    "trans_loanmonth_till_loan.shape"
   ]
  },
  {
   "cell_type": "code",
   "execution_count": 106,
   "metadata": {},
   "outputs": [
    {
     "data": {
      "text/html": [
       "<div>\n",
       "<style>\n",
       "    .dataframe thead tr:only-child th {\n",
       "        text-align: right;\n",
       "    }\n",
       "\n",
       "    .dataframe thead th {\n",
       "        text-align: left;\n",
       "    }\n",
       "\n",
       "    .dataframe tbody tr th {\n",
       "        vertical-align: top;\n",
       "    }\n",
       "</style>\n",
       "<table border=\"1\" class=\"dataframe\">\n",
       "  <thead>\n",
       "    <tr style=\"text-align: right;\">\n",
       "      <th></th>\n",
       "      <th>Unnamed: 0</th>\n",
       "      <th>account_id</th>\n",
       "      <th>type</th>\n",
       "      <th>mode of transaction</th>\n",
       "      <th>amount</th>\n",
       "      <th>balance</th>\n",
       "      <th>transaction_character</th>\n",
       "      <th>to_bank</th>\n",
       "      <th>account_partner</th>\n",
       "      <th>Date</th>\n",
       "      <th>month</th>\n",
       "      <th>Loan_month</th>\n",
       "      <th>mod_trans_month</th>\n",
       "      <th>mod_loan_month</th>\n",
       "    </tr>\n",
       "  </thead>\n",
       "  <tbody>\n",
       "    <tr>\n",
       "      <th>0</th>\n",
       "      <td>0</td>\n",
       "      <td>5270</td>\n",
       "      <td>credit</td>\n",
       "      <td>credit in cash</td>\n",
       "      <td>800.0</td>\n",
       "      <td>800.0</td>\n",
       "      <td>NaN</td>\n",
       "      <td>NaN</td>\n",
       "      <td>NaN</td>\n",
       "      <td>13-01-1993</td>\n",
       "      <td>Jan-93</td>\n",
       "      <td>Nov-93</td>\n",
       "      <td>1993-01-01</td>\n",
       "      <td>1993-11-01</td>\n",
       "    </tr>\n",
       "    <tr>\n",
       "      <th>1</th>\n",
       "      <td>1</td>\n",
       "      <td>5270</td>\n",
       "      <td>credit</td>\n",
       "      <td>collection from another bank</td>\n",
       "      <td>44749.0</td>\n",
       "      <td>45549.0</td>\n",
       "      <td>NaN</td>\n",
       "      <td>IJ</td>\n",
       "      <td>80269753.0</td>\n",
       "      <td>14-01-1993</td>\n",
       "      <td>Jan-93</td>\n",
       "      <td>Nov-93</td>\n",
       "      <td>1993-01-01</td>\n",
       "      <td>1993-11-01</td>\n",
       "    </tr>\n",
       "    <tr>\n",
       "      <th>2</th>\n",
       "      <td>2</td>\n",
       "      <td>5270</td>\n",
       "      <td>credit</td>\n",
       "      <td>NaN</td>\n",
       "      <td>110.2</td>\n",
       "      <td>45659.2</td>\n",
       "      <td>interest credited</td>\n",
       "      <td>NaN</td>\n",
       "      <td>NaN</td>\n",
       "      <td>31-01-1993</td>\n",
       "      <td>Jan-93</td>\n",
       "      <td>Nov-93</td>\n",
       "      <td>1993-01-01</td>\n",
       "      <td>1993-11-01</td>\n",
       "    </tr>\n",
       "    <tr>\n",
       "      <th>3</th>\n",
       "      <td>3</td>\n",
       "      <td>5270</td>\n",
       "      <td>debit</td>\n",
       "      <td>withdrawal in cash</td>\n",
       "      <td>9600.0</td>\n",
       "      <td>36059.2</td>\n",
       "      <td>NaN</td>\n",
       "      <td>NaN</td>\n",
       "      <td>NaN</td>\n",
       "      <td>12-02-1993</td>\n",
       "      <td>Feb-93</td>\n",
       "      <td>Nov-93</td>\n",
       "      <td>1993-02-01</td>\n",
       "      <td>1993-11-01</td>\n",
       "    </tr>\n",
       "    <tr>\n",
       "      <th>4</th>\n",
       "      <td>4</td>\n",
       "      <td>5270</td>\n",
       "      <td>credit</td>\n",
       "      <td>collection from another bank</td>\n",
       "      <td>44749.0</td>\n",
       "      <td>80808.2</td>\n",
       "      <td>NaN</td>\n",
       "      <td>IJ</td>\n",
       "      <td>80269753.0</td>\n",
       "      <td>14-02-1993</td>\n",
       "      <td>Feb-93</td>\n",
       "      <td>Nov-93</td>\n",
       "      <td>1993-02-01</td>\n",
       "      <td>1993-11-01</td>\n",
       "    </tr>\n",
       "  </tbody>\n",
       "</table>\n",
       "</div>"
      ],
      "text/plain": [
       "   Unnamed: 0  account_id    type           mode of transaction   amount  \\\n",
       "0           0        5270  credit                credit in cash    800.0   \n",
       "1           1        5270  credit  collection from another bank  44749.0   \n",
       "2           2        5270  credit                           NaN    110.2   \n",
       "3           3        5270   debit            withdrawal in cash   9600.0   \n",
       "4           4        5270  credit  collection from another bank  44749.0   \n",
       "\n",
       "   balance transaction_character to_bank  account_partner        Date   month  \\\n",
       "0    800.0                   NaN     NaN              NaN  13-01-1993  Jan-93   \n",
       "1  45549.0                   NaN      IJ       80269753.0  14-01-1993  Jan-93   \n",
       "2  45659.2     interest credited     NaN              NaN  31-01-1993  Jan-93   \n",
       "3  36059.2                   NaN     NaN              NaN  12-02-1993  Feb-93   \n",
       "4  80808.2                   NaN      IJ       80269753.0  14-02-1993  Feb-93   \n",
       "\n",
       "  Loan_month mod_trans_month mod_loan_month  \n",
       "0     Nov-93      1993-01-01     1993-11-01  \n",
       "1     Nov-93      1993-01-01     1993-11-01  \n",
       "2     Nov-93      1993-01-01     1993-11-01  \n",
       "3     Nov-93      1993-02-01     1993-11-01  \n",
       "4     Nov-93      1993-02-01     1993-11-01  "
      ]
     },
     "execution_count": 106,
     "metadata": {},
     "output_type": "execute_result"
    }
   ],
   "source": [
    "trans_loanmonth_till_loan.head()"
   ]
  },
  {
   "cell_type": "code",
   "execution_count": 107,
   "metadata": {
    "collapsed": true
   },
   "outputs": [],
   "source": [
    "trans_loanmonth_till_loan.to_csv(\"OBJ2_trans_loanmonth_till_loan.csv\")"
   ]
  },
  {
   "cell_type": "code",
   "execution_count": null,
   "metadata": {
    "collapsed": true
   },
   "outputs": [],
   "source": []
  },
  {
   "cell_type": "code",
   "execution_count": 381,
   "metadata": {
    "collapsed": true
   },
   "outputs": [],
   "source": [
    "OBJ2_trans_tillloan_average=pd.DataFrame()"
   ]
  },
  {
   "cell_type": "code",
   "execution_count": 382,
   "metadata": {
    "collapsed": true
   },
   "outputs": [],
   "source": [
    "trans_debit= trans_loanmonth_till_loan [trans_loanmonth_till_loan['type']=='debit']\n",
    "trans_credit= trans_loanmonth_till_loan [trans_loanmonth_till_loan['type']=='credit']"
   ]
  },
  {
   "cell_type": "code",
   "execution_count": 383,
   "metadata": {
    "collapsed": true
   },
   "outputs": [],
   "source": [
    "OBJ2_debit_monthly_allaccounts= trans_debit.groupby(['account_id'])['amount'].mean()"
   ]
  },
  {
   "cell_type": "code",
   "execution_count": 384,
   "metadata": {},
   "outputs": [
    {
     "data": {
      "text/plain": [
       "account_id\n",
       "2     6276.393750\n",
       "19    6306.812121\n",
       "25    8731.021622\n",
       "37    5249.923077\n",
       "38    3611.678571\n",
       "Name: amount, dtype: float64"
      ]
     },
     "execution_count": 384,
     "metadata": {},
     "output_type": "execute_result"
    }
   ],
   "source": [
    "OBJ2_debit_monthly_allaccounts.head()"
   ]
  },
  {
   "cell_type": "code",
   "execution_count": 388,
   "metadata": {
    "collapsed": true
   },
   "outputs": [],
   "source": [
    "OBJ2_debit_monthly_allaccounts.to_csv(\"OBJ2_debit_avgovermonths_allaccounts.csv\")"
   ]
  },
  {
   "cell_type": "code",
   "execution_count": 389,
   "metadata": {
    "collapsed": true
   },
   "outputs": [],
   "source": [
    "OBJ2_credit_monthly_allaccounts= trans_credit.groupby(['account_id'])['amount'].mean()\n",
    "OBJ2_credit_monthly_allaccounts.to_csv(\"OBJ2_credit_avgovermonths_allaccounts.csv\")"
   ]
  },
  {
   "cell_type": "code",
   "execution_count": 390,
   "metadata": {},
   "outputs": [
    {
     "data": {
      "text/plain": [
       "account_id\n",
       "2     10394.786364\n",
       "19     5100.913636\n",
       "25    19787.319608\n",
       "37    13979.996875\n",
       "38     6217.271429\n",
       "Name: amount, dtype: float64"
      ]
     },
     "execution_count": 390,
     "metadata": {},
     "output_type": "execute_result"
    }
   ],
   "source": [
    "OBJ2_credit_monthly_allaccounts.head()"
   ]
  },
  {
   "cell_type": "code",
   "execution_count": 391,
   "metadata": {},
   "outputs": [
    {
     "data": {
      "text/plain": [
       "(679,)"
      ]
     },
     "execution_count": 391,
     "metadata": {},
     "output_type": "execute_result"
    }
   ],
   "source": [
    "OBJ2_debit_monthly_allaccounts.shape"
   ]
  },
  {
   "cell_type": "code",
   "execution_count": null,
   "metadata": {
    "collapsed": true
   },
   "outputs": [],
   "source": []
  },
  {
   "cell_type": "code",
   "execution_count": 151,
   "metadata": {
    "collapsed": true
   },
   "outputs": [],
   "source": [
    "OBJ2_allaccounts_avgmonthly_balance= trans_loanmonth_till_loan.groupby(['account_id'])['balance'].mean()"
   ]
  },
  {
   "cell_type": "code",
   "execution_count": 152,
   "metadata": {},
   "outputs": [
    {
     "data": {
      "text/plain": [
       "account_id\n",
       "2     32590.624074\n",
       "19    25717.966234\n",
       "25    63371.688889\n",
       "37    40543.389091\n",
       "38    31221.785714\n",
       "Name: balance, dtype: float64"
      ]
     },
     "execution_count": 152,
     "metadata": {},
     "output_type": "execute_result"
    }
   ],
   "source": [
    "OBJ2_allaccounts_avgmonthly_balance.head()"
   ]
  },
  {
   "cell_type": "code",
   "execution_count": 153,
   "metadata": {
    "scrolled": true
   },
   "outputs": [
    {
     "data": {
      "text/plain": [
       "(682,)"
      ]
     },
     "execution_count": 153,
     "metadata": {},
     "output_type": "execute_result"
    }
   ],
   "source": [
    "OBJ2_allaccounts_avgmonthly_balance.shape"
   ]
  },
  {
   "cell_type": "code",
   "execution_count": 155,
   "metadata": {
    "collapsed": true
   },
   "outputs": [],
   "source": [
    "OBJ2_allaccounts_avgmonthly_balance.to_csv(\"OBJ2_balance_avgovermonths_allaccounts.csv\")"
   ]
  },
  {
   "cell_type": "code",
   "execution_count": 162,
   "metadata": {
    "collapsed": true
   },
   "outputs": [],
   "source": []
  },
  {
   "cell_type": "code",
   "execution_count": 175,
   "metadata": {},
   "outputs": [
    {
     "data": {
      "text/plain": [
       "array([nan, 'interest credited', 'payment for statement', ' ', 'household',\n",
       "       'insurance payment', 'sanction interest if negative balance'], dtype=object)"
      ]
     },
     "execution_count": 175,
     "metadata": {},
     "output_type": "execute_result"
    }
   ],
   "source": [
    "trans_loanmonth_till_loan['transaction_character'].unique()"
   ]
  },
  {
   "cell_type": "code",
   "execution_count": 180,
   "metadata": {
    "collapsed": true
   },
   "outputs": [],
   "source": [
    "trans_others= trans_loanmonth_till_loan [trans_loanmonth_till_loan['transaction_character'].isnull()]\n",
    "OBJ2_allaccounts_avgmonthly_others = trans_others.groupby(['account_id'])['amount'].mean()"
   ]
  },
  {
   "cell_type": "code",
   "execution_count": 181,
   "metadata": {
    "collapsed": true
   },
   "outputs": [],
   "source": [
    "trans_interestcred= trans_loanmonth_till_loan [trans_loanmonth_till_loan['transaction_character']=='interest credited']\n",
    "OBJ2_allaccounts_avgmonthly_interestcred = trans_interestcred.groupby(['account_id'])['amount'].mean()"
   ]
  },
  {
   "cell_type": "code",
   "execution_count": 182,
   "metadata": {
    "collapsed": true
   },
   "outputs": [],
   "source": [
    "trans_household= trans_loanmonth_till_loan [trans_loanmonth_till_loan['transaction_character']=='household']\n",
    "OBJ2_allaccounts_avgmonthly_household = trans_household.groupby(['account_id'])['amount'].mean()"
   ]
  },
  {
   "cell_type": "code",
   "execution_count": 183,
   "metadata": {
    "collapsed": true
   },
   "outputs": [],
   "source": [
    "trans_statementpayment= trans_loanmonth_till_loan [trans_loanmonth_till_loan['transaction_character']== 'payment for statement']\n",
    "OBJ2_allaccounts_avgmonthly_statementpayment = trans_statementpayment.groupby(['account_id'])['amount'].mean()\n"
   ]
  },
  {
   "cell_type": "code",
   "execution_count": 184,
   "metadata": {
    "collapsed": true
   },
   "outputs": [],
   "source": [
    "trans_insurancepayment= trans_loanmonth_till_loan [trans_loanmonth_till_loan['transaction_character']=='insurance payment']\n",
    "OBJ2_allaccounts_avgmonthly_insurancepayment = trans_insurancepayment.groupby(['account_id'])['amount'].mean()"
   ]
  },
  {
   "cell_type": "code",
   "execution_count": 185,
   "metadata": {
    "collapsed": true
   },
   "outputs": [],
   "source": [
    "trans_negativebal= trans_loanmonth_till_loan [trans_loanmonth_till_loan['transaction_character']=='sanction interest if negative balance']\n",
    "OBJ2_allaccounts_avgmonthly_trans_negativebal = trans_negativebal.groupby(['account_id'])['amount'].mean()"
   ]
  },
  {
   "cell_type": "code",
   "execution_count": null,
   "metadata": {
    "collapsed": true
   },
   "outputs": [],
   "source": []
  },
  {
   "cell_type": "code",
   "execution_count": 324,
   "metadata": {
    "collapsed": true
   },
   "outputs": [],
   "source": [
    "OBJ2_final_data= pd.read_csv(\"Final data_without_transactions.csv\")"
   ]
  },
  {
   "cell_type": "code",
   "execution_count": 325,
   "metadata": {},
   "outputs": [
    {
     "data": {
      "text/plain": [
       "Index(['Unnamed: 0', 'loan_id', 'account_id', 'loan_date', 'loan_amount',\n",
       "       'duration', 'payments', 'status', 'district_id_bank',\n",
       "       'frequency_statements', 'account_creation', 'disp_id', 'client_id',\n",
       "       'disp_type', 'card_id', 'card_type', 'card_issued',\n",
       "       'district_id_client', 'Year', 'Date', 'Month', 'Gender',\n",
       "       'district name_x', 'region_x', 'no. of inhabitants_x',\n",
       "       'no_of_municipalities_inhabitants < 499_x',\n",
       "       'no. of municipalities with inhabitants 500-1999_x',\n",
       "       'no. of municipalities with inhabitants 2000-9999_x',\n",
       "       'no. of municipalities with inhabitants >10000_x', 'no. of cities_x',\n",
       "       'ratio of urban inhabitants_x', 'average salary_x',\n",
       "       'unemployment rate 95_x', 'unemployment rate 96_x',\n",
       "       'no. of entrepreneurs per 1000 inhabitants_x',\n",
       "       'no. of committed crimes 95_x', 'no. of committed crimes 96_x',\n",
       "       'district name_y', 'region_y', 'no. of inhabitants_y',\n",
       "       'no_of_municipalities_inhabitants < 499_y',\n",
       "       'no. of municipalities with inhabitants 500-1999_y',\n",
       "       'no. of municipalities with inhabitants 2000-9999_y',\n",
       "       'no. of municipalities with inhabitants >10000_y', 'no. of cities_y',\n",
       "       'ratio of urban inhabitants_y', 'average salary_y',\n",
       "       'unemployment rate 95_y', 'unemployment rate 96_y',\n",
       "       'no. of entrepreneurs per 1000 inhabitants_y',\n",
       "       'no. of committed crimes 95_y', 'no. of committed crimes 96_y'],\n",
       "      dtype='object')"
      ]
     },
     "execution_count": 325,
     "metadata": {},
     "output_type": "execute_result"
    }
   ],
   "source": [
    "OBJ2_final_data.columns"
   ]
  },
  {
   "cell_type": "code",
   "execution_count": 326,
   "metadata": {},
   "outputs": [
    {
     "data": {
      "text/plain": [
       "0    1947722\n",
       "1    1968722\n",
       "2     193662\n",
       "3    1940420\n",
       "4     197897\n",
       "Name: Client_bday, dtype: object"
      ]
     },
     "execution_count": 326,
     "metadata": {},
     "output_type": "execute_result"
    }
   ],
   "source": [
    "OBJ2_final_data['add']='19'\n",
    "OBJ2_final_data['Year']= OBJ2_final_data['add']+ OBJ2_final_data['Year'].map(str)\n",
    "OBJ2_final_data['Client_bday'] = OBJ2_final_data['Year'].map(str)+OBJ2_final_data['Month'].map(str)+OBJ2_final_data['Date'].map(str)\n",
    "\n",
    "#loan['Loan_date'] =  pd.to_datetime(loan['Loan_date'], format='%Y%m%d')\n",
    "\n",
    "OBJ2_final_data['Client_bday'].head()"
   ]
  },
  {
   "cell_type": "code",
   "execution_count": 327,
   "metadata": {},
   "outputs": [
    {
     "data": {
      "text/plain": [
       "0   1947-07-22\n",
       "1   1968-07-22\n",
       "2   1936-06-02\n",
       "3   1940-04-20\n",
       "4   1978-09-07\n",
       "Name: Client_bday, dtype: datetime64[ns]"
      ]
     },
     "execution_count": 327,
     "metadata": {},
     "output_type": "execute_result"
    }
   ],
   "source": [
    "OBJ2_final_data['Client_bday'] =  pd.to_datetime(OBJ2_final_data['Client_bday'], format='%Y%m%d')\n",
    "OBJ2_final_data['Client_bday'].head()"
   ]
  },
  {
   "cell_type": "code",
   "execution_count": 328,
   "metadata": {},
   "outputs": [
    {
     "data": {
      "text/plain": [
       "Index(['Unnamed: 0', 'loan_id', 'account_id', 'loan_date', 'loan_amount',\n",
       "       'duration', 'payments', 'status', 'district_id_bank',\n",
       "       'frequency_statements', 'account_creation', 'disp_id', 'client_id',\n",
       "       'disp_type', 'card_id', 'card_type', 'card_issued',\n",
       "       'district_id_client', 'Gender', 'region_x', 'no. of inhabitants_x',\n",
       "       'no_of_municipalities_inhabitants < 499_x',\n",
       "       'no. of municipalities with inhabitants 500-1999_x',\n",
       "       'no. of municipalities with inhabitants 2000-9999_x',\n",
       "       'no. of municipalities with inhabitants >10000_x', 'no. of cities_x',\n",
       "       'ratio of urban inhabitants_x', 'average salary_x',\n",
       "       'unemployment rate 95_x', 'unemployment rate 96_x',\n",
       "       'no. of entrepreneurs per 1000 inhabitants_x',\n",
       "       'no. of committed crimes 95_x', 'no. of committed crimes 96_x',\n",
       "       'region_y', 'no. of inhabitants_y',\n",
       "       'no_of_municipalities_inhabitants < 499_y',\n",
       "       'no. of municipalities with inhabitants 500-1999_y',\n",
       "       'no. of municipalities with inhabitants 2000-9999_y',\n",
       "       'no. of municipalities with inhabitants >10000_y', 'no. of cities_y',\n",
       "       'ratio of urban inhabitants_y', 'average salary_y',\n",
       "       'unemployment rate 95_y', 'unemployment rate 96_y',\n",
       "       'no. of entrepreneurs per 1000 inhabitants_y',\n",
       "       'no. of committed crimes 95_y', 'no. of committed crimes 96_y',\n",
       "       'Client_bday'],\n",
       "      dtype='object')"
      ]
     },
     "execution_count": 328,
     "metadata": {},
     "output_type": "execute_result"
    }
   ],
   "source": [
    "OBJ2_final_data.drop( ['add','Year','Month','Date','district name_x','district name_y'], axis=1, inplace=True)\n",
    "OBJ2_final_data.columns"
   ]
  },
  {
   "cell_type": "code",
   "execution_count": 329,
   "metadata": {
    "collapsed": true
   },
   "outputs": [],
   "source": [
    "import datetime\n",
    "from datetime import datetime\n",
    "now=datetime.now()"
   ]
  },
  {
   "cell_type": "code",
   "execution_count": 330,
   "metadata": {
    "collapsed": true
   },
   "outputs": [],
   "source": [
    "OBJ2_final_data['today'] = pd.Timestamp('19990101')\n",
    "OBJ2_final_data['Client_age']= (OBJ2_final_data['today'] - OBJ2_final_data['Client_bday']).dt.days"
   ]
  },
  {
   "cell_type": "code",
   "execution_count": 331,
   "metadata": {
    "collapsed": true
   },
   "outputs": [],
   "source": [
    "OBJ2_final_data['Client_age']= (OBJ2_final_data['Client_age']/365).map(int)                            "
   ]
  },
  {
   "cell_type": "code",
   "execution_count": 332,
   "metadata": {},
   "outputs": [
    {
     "data": {
      "text/plain": [
       "Index(['Unnamed: 0', 'loan_id', 'account_id', 'loan_date', 'loan_amount',\n",
       "       'duration', 'payments', 'status', 'district_id_bank',\n",
       "       'frequency_statements', 'account_creation', 'disp_id', 'client_id',\n",
       "       'disp_type', 'card_id', 'card_type', 'card_issued',\n",
       "       'district_id_client', 'Gender', 'region_x', 'no. of inhabitants_x',\n",
       "       'no_of_municipalities_inhabitants < 499_x',\n",
       "       'no. of municipalities with inhabitants 500-1999_x',\n",
       "       'no. of municipalities with inhabitants 2000-9999_x',\n",
       "       'no. of municipalities with inhabitants >10000_x', 'no. of cities_x',\n",
       "       'ratio of urban inhabitants_x', 'average salary_x',\n",
       "       'unemployment rate 95_x', 'unemployment rate 96_x',\n",
       "       'no. of entrepreneurs per 1000 inhabitants_x',\n",
       "       'no. of committed crimes 95_x', 'no. of committed crimes 96_x',\n",
       "       'region_y', 'no. of inhabitants_y',\n",
       "       'no_of_municipalities_inhabitants < 499_y',\n",
       "       'no. of municipalities with inhabitants 500-1999_y',\n",
       "       'no. of municipalities with inhabitants 2000-9999_y',\n",
       "       'no. of municipalities with inhabitants >10000_y', 'no. of cities_y',\n",
       "       'ratio of urban inhabitants_y', 'average salary_y',\n",
       "       'unemployment rate 95_y', 'unemployment rate 96_y',\n",
       "       'no. of entrepreneurs per 1000 inhabitants_y',\n",
       "       'no. of committed crimes 95_y', 'no. of committed crimes 96_y',\n",
       "       'Client_bday', 'today', 'Client_age'],\n",
       "      dtype='object')"
      ]
     },
     "execution_count": 332,
     "metadata": {},
     "output_type": "execute_result"
    }
   ],
   "source": [
    "OBJ2_final_data.columns"
   ]
  },
  {
   "cell_type": "code",
   "execution_count": 333,
   "metadata": {},
   "outputs": [
    {
     "data": {
      "text/plain": [
       "Index(['Unnamed: 0', 'loan_id', 'account_id', 'loan_date', 'loan_amount',\n",
       "       'duration', 'payments', 'status', 'district_id_bank',\n",
       "       'frequency_statements', 'account_creation', 'disp_id', 'client_id',\n",
       "       'disp_type', 'card_id', 'card_type', 'card_issued',\n",
       "       'district_id_client', 'Gender', 'region_x', 'no. of inhabitants_x',\n",
       "       'no_of_municipalities_inhabitants < 499_x',\n",
       "       'no. of municipalities with inhabitants 500-1999_x',\n",
       "       'no. of municipalities with inhabitants 2000-9999_x',\n",
       "       'no. of municipalities with inhabitants >10000_x', 'no. of cities_x',\n",
       "       'ratio of urban inhabitants_x', 'average salary_x',\n",
       "       'unemployment rate 95_x', 'unemployment rate 96_x',\n",
       "       'no. of entrepreneurs per 1000 inhabitants_x',\n",
       "       'no. of committed crimes 95_x', 'no. of committed crimes 96_x',\n",
       "       'region_y', 'no. of inhabitants_y',\n",
       "       'no_of_municipalities_inhabitants < 499_y',\n",
       "       'no. of municipalities with inhabitants 500-1999_y',\n",
       "       'no. of municipalities with inhabitants 2000-9999_y',\n",
       "       'no. of municipalities with inhabitants >10000_y', 'no. of cities_y',\n",
       "       'ratio of urban inhabitants_y', 'average salary_y',\n",
       "       'unemployment rate 95_y', 'unemployment rate 96_y',\n",
       "       'no. of entrepreneurs per 1000 inhabitants_y',\n",
       "       'no. of committed crimes 95_y', 'no. of committed crimes 96_y',\n",
       "       'Client_age'],\n",
       "      dtype='object')"
      ]
     },
     "execution_count": 333,
     "metadata": {},
     "output_type": "execute_result"
    }
   ],
   "source": [
    "OBJ2_final_data.drop( ['today','Client_bday'], axis=1, inplace=True)\n",
    "OBJ2_final_data.columns"
   ]
  },
  {
   "cell_type": "code",
   "execution_count": null,
   "metadata": {
    "collapsed": true
   },
   "outputs": [],
   "source": []
  },
  {
   "cell_type": "code",
   "execution_count": 334,
   "metadata": {},
   "outputs": [
    {
     "data": {
      "text/plain": [
       "0    930322\n",
       "1    930213\n",
       "2    930208\n",
       "3    930130\n",
       "4    930214\n",
       "Name: account_creation, dtype: int64"
      ]
     },
     "execution_count": 334,
     "metadata": {},
     "output_type": "execute_result"
    }
   ],
   "source": [
    "OBJ2_final_data['account_creation'].head()"
   ]
  },
  {
   "cell_type": "code",
   "execution_count": 335,
   "metadata": {
    "collapsed": true
   },
   "outputs": [],
   "source": [
    "OBJ2_final_data['add']='19'\n",
    "OBJ2_final_data['account_creation']= OBJ2_final_data['add']+ OBJ2_final_data['account_creation'].map(str)\n",
    "OBJ2_final_data['account_creation'] =  pd.to_datetime(OBJ2_final_data['account_creation'], format='%Y%m%d')"
   ]
  },
  {
   "cell_type": "code",
   "execution_count": 336,
   "metadata": {
    "collapsed": true
   },
   "outputs": [],
   "source": [
    "OBJ2_final_data['today'] = pd.Timestamp('19990101')\n",
    "OBJ2_final_data['Account_age']= (OBJ2_final_data['today'] - OBJ2_final_data['account_creation']).dt.days\n",
    "OBJ2_final_data['Account_age']= (OBJ2_final_data['Account_age']/365).map(int)  "
   ]
  },
  {
   "cell_type": "code",
   "execution_count": 364,
   "metadata": {},
   "outputs": [
    {
     "data": {
      "text/plain": [
       "Index(['Unnamed: 0', 'loan_id', 'account_id', 'loan_date', 'loan_amount',\n",
       "       'duration', 'payments', 'status', 'district_id_bank',\n",
       "       'frequency_statements', 'account_creation', 'disp_id', 'client_id',\n",
       "       'disp_type', 'card_id', 'card_type', 'card_issued',\n",
       "       'district_id_client', 'Gender', 'region_x', 'no. of inhabitants_x',\n",
       "       'no_of_municipalities_inhabitants < 499_x',\n",
       "       'no. of municipalities with inhabitants 500-1999_x',\n",
       "       'no. of municipalities with inhabitants 2000-9999_x',\n",
       "       'no. of municipalities with inhabitants >10000_x', 'no. of cities_x',\n",
       "       'ratio of urban inhabitants_x', 'average salary_x',\n",
       "       'unemployment rate 95_x', 'unemployment rate 96_x',\n",
       "       'no. of entrepreneurs per 1000 inhabitants_x',\n",
       "       'no. of committed crimes 95_x', 'no. of committed crimes 96_x',\n",
       "       'region_y', 'no. of inhabitants_y',\n",
       "       'no_of_municipalities_inhabitants < 499_y',\n",
       "       'no. of municipalities with inhabitants 500-1999_y',\n",
       "       'no. of municipalities with inhabitants 2000-9999_y',\n",
       "       'no. of municipalities with inhabitants >10000_y', 'no. of cities_y',\n",
       "       'ratio of urban inhabitants_y', 'average salary_y',\n",
       "       'unemployment rate 95_y', 'unemployment rate 96_y',\n",
       "       'no. of entrepreneurs per 1000 inhabitants_y',\n",
       "       'no. of committed crimes 95_y', 'no. of committed crimes 96_y',\n",
       "       'Client_age', 'add', 'today', 'Account_age'],\n",
       "      dtype='object')"
      ]
     },
     "execution_count": 364,
     "metadata": {},
     "output_type": "execute_result"
    }
   ],
   "source": [
    "OBJ2_final_data.columns"
   ]
  },
  {
   "cell_type": "code",
   "execution_count": 348,
   "metadata": {
    "collapsed": true
   },
   "outputs": [],
   "source": [
    "OBJ2_final_data.to_csv(\"OBJ2_final_data.csv\")"
   ]
  },
  {
   "cell_type": "code",
   "execution_count": 365,
   "metadata": {
    "collapsed": true
   },
   "outputs": [],
   "source": [
    "#OBJ2_final_data['add']='19'\n",
    "OBJ2_final_data.drop(['loan_id','loan_date','district_id_bank','disp_id','client_id','card_id','card_issued','district_id_client','region_x','region_y','add','today'], axis=1, inplace=True)"
   ]
  },
  {
   "cell_type": "code",
   "execution_count": 367,
   "metadata": {},
   "outputs": [
    {
     "data": {
      "text/plain": [
       "Index(['Unnamed: 0', 'account_id', 'loan_amount', 'duration', 'payments',\n",
       "       'status', 'frequency_statements', 'account_creation', 'disp_type',\n",
       "       'card_type', 'Gender', 'no. of inhabitants_x',\n",
       "       'no_of_municipalities_inhabitants < 499_x',\n",
       "       'no. of municipalities with inhabitants 500-1999_x',\n",
       "       'no. of municipalities with inhabitants 2000-9999_x',\n",
       "       'no. of municipalities with inhabitants >10000_x', 'no. of cities_x',\n",
       "       'ratio of urban inhabitants_x', 'average salary_x',\n",
       "       'unemployment rate 95_x', 'unemployment rate 96_x',\n",
       "       'no. of entrepreneurs per 1000 inhabitants_x',\n",
       "       'no. of committed crimes 95_x', 'no. of committed crimes 96_x',\n",
       "       'no. of inhabitants_y', 'no_of_municipalities_inhabitants < 499_y',\n",
       "       'no. of municipalities with inhabitants 500-1999_y',\n",
       "       'no. of municipalities with inhabitants 2000-9999_y',\n",
       "       'no. of municipalities with inhabitants >10000_y', 'no. of cities_y',\n",
       "       'ratio of urban inhabitants_y', 'average salary_y',\n",
       "       'unemployment rate 95_y', 'unemployment rate 96_y',\n",
       "       'no. of entrepreneurs per 1000 inhabitants_y',\n",
       "       'no. of committed crimes 95_y', 'no. of committed crimes 96_y',\n",
       "       'Client_age', 'Account_age'],\n",
       "      dtype='object')"
      ]
     },
     "execution_count": 367,
     "metadata": {},
     "output_type": "execute_result"
    }
   ],
   "source": [
    "OBJ2_final_data.columns"
   ]
  },
  {
   "cell_type": "code",
   "execution_count": 368,
   "metadata": {
    "collapsed": true
   },
   "outputs": [],
   "source": [
    "OBJ2_final_data.to_csv(\"OBJ2_final_data.csv\")"
   ]
  },
  {
   "cell_type": "code",
   "execution_count": null,
   "metadata": {
    "collapsed": true
   },
   "outputs": [],
   "source": []
  },
  {
   "cell_type": "code",
   "execution_count": null,
   "metadata": {
    "collapsed": true
   },
   "outputs": [],
   "source": [
    "#MERGING TO CREATE FINAL DATA"
   ]
  },
  {
   "cell_type": "code",
   "execution_count": 369,
   "metadata": {},
   "outputs": [
    {
     "name": "stdout",
     "output_type": "stream",
     "text": [
      "(679,) (682,) (682,) (682,) (679,) (409,) (619,) (104,) (29,)\n",
      "(827, 39)\n"
     ]
    }
   ],
   "source": [
    "print(\n",
    "OBJ2_debit_monthly_allaccounts.shape,\n",
    "OBJ2_credit_monthly_allaccounts.shape,\n",
    "OBJ2_allaccounts_avgmonthly_balance.shape,\n",
    "OBJ2_allaccounts_avgmonthly_others.shape,\n",
    "OBJ2_allaccounts_avgmonthly_interestcred.shape,\n",
    "OBJ2_allaccounts_avgmonthly_household.shape,\n",
    "OBJ2_allaccounts_avgmonthly_statementpayment.shape,\n",
    "OBJ2_allaccounts_avgmonthly_insurancepayment.shape,\n",
    "OBJ2_allaccounts_avgmonthly_trans_negativebal.shape, )\n",
    "print(OBJ2_final_data.shape)"
   ]
  },
  {
   "cell_type": "code",
   "execution_count": 396,
   "metadata": {
    "collapsed": true,
    "scrolled": true
   },
   "outputs": [],
   "source": [
    "merge1=pd.concat([OBJ2_credit_monthly_allaccounts, OBJ2_debit_monthly_allaccounts,\n",
    "                  OBJ2_allaccounts_avgmonthly_balance,\n",
    "OBJ2_allaccounts_avgmonthly_others,\n",
    "OBJ2_allaccounts_avgmonthly_interestcred,\n",
    "OBJ2_allaccounts_avgmonthly_household,\n",
    "OBJ2_allaccounts_avgmonthly_statementpayment,\n",
    "OBJ2_allaccounts_avgmonthly_insurancepayment,\n",
    "OBJ2_allaccounts_avgmonthly_trans_negativebal], axis=1)"
   ]
  },
  {
   "cell_type": "code",
   "execution_count": 398,
   "metadata": {
    "collapsed": true
   },
   "outputs": [],
   "source": [
    "merge1.to_csv(\"OBJ2_merge1.csv\")"
   ]
  },
  {
   "cell_type": "code",
   "execution_count": 399,
   "metadata": {
    "collapsed": true
   },
   "outputs": [],
   "source": [
    "merge1=pd.read_csv(\"OBJ2_merge1.csv\")"
   ]
  },
  {
   "cell_type": "code",
   "execution_count": 400,
   "metadata": {},
   "outputs": [
    {
     "data": {
      "text/html": [
       "<div>\n",
       "<style>\n",
       "    .dataframe thead tr:only-child th {\n",
       "        text-align: right;\n",
       "    }\n",
       "\n",
       "    .dataframe thead th {\n",
       "        text-align: left;\n",
       "    }\n",
       "\n",
       "    .dataframe tbody tr th {\n",
       "        vertical-align: top;\n",
       "    }\n",
       "</style>\n",
       "<table border=\"1\" class=\"dataframe\">\n",
       "  <thead>\n",
       "    <tr style=\"text-align: right;\">\n",
       "      <th></th>\n",
       "      <th>account_id</th>\n",
       "      <th>credit amount</th>\n",
       "      <th>debit amount</th>\n",
       "      <th>balance</th>\n",
       "      <th>avgmonthly_other expenses</th>\n",
       "      <th>avgmonthly_interest</th>\n",
       "      <th>avgmonthly_household</th>\n",
       "      <th>avgmonthly_statement</th>\n",
       "      <th>avgmonthly_insurance</th>\n",
       "      <th>avgmonthly_negbal</th>\n",
       "    </tr>\n",
       "  </thead>\n",
       "  <tbody>\n",
       "    <tr>\n",
       "      <th>0</th>\n",
       "      <td>2</td>\n",
       "      <td>10394.786360</td>\n",
       "      <td>6276.393750</td>\n",
       "      <td>32590.62407</td>\n",
       "      <td>11873.424240</td>\n",
       "      <td>128.930000</td>\n",
       "      <td>7266.0</td>\n",
       "      <td>14.6</td>\n",
       "      <td>NaN</td>\n",
       "      <td>NaN</td>\n",
       "    </tr>\n",
       "    <tr>\n",
       "      <th>1</th>\n",
       "      <td>19</td>\n",
       "      <td>5100.913636</td>\n",
       "      <td>6306.812121</td>\n",
       "      <td>25717.96623</td>\n",
       "      <td>8431.947368</td>\n",
       "      <td>118.091667</td>\n",
       "      <td>15600.0</td>\n",
       "      <td>14.6</td>\n",
       "      <td>NaN</td>\n",
       "      <td>NaN</td>\n",
       "    </tr>\n",
       "    <tr>\n",
       "      <th>2</th>\n",
       "      <td>25</td>\n",
       "      <td>19787.319610</td>\n",
       "      <td>8731.021622</td>\n",
       "      <td>63371.68889</td>\n",
       "      <td>20447.626370</td>\n",
       "      <td>272.286667</td>\n",
       "      <td>6817.0</td>\n",
       "      <td>14.6</td>\n",
       "      <td>164.0</td>\n",
       "      <td>NaN</td>\n",
       "    </tr>\n",
       "    <tr>\n",
       "      <th>3</th>\n",
       "      <td>37</td>\n",
       "      <td>13979.996870</td>\n",
       "      <td>5249.923077</td>\n",
       "      <td>40543.38909</td>\n",
       "      <td>15674.745100</td>\n",
       "      <td>164.492857</td>\n",
       "      <td>2317.0</td>\n",
       "      <td>14.6</td>\n",
       "      <td>97.0</td>\n",
       "      <td>0.4</td>\n",
       "    </tr>\n",
       "    <tr>\n",
       "      <th>4</th>\n",
       "      <td>38</td>\n",
       "      <td>6217.271429</td>\n",
       "      <td>3611.678571</td>\n",
       "      <td>31221.78571</td>\n",
       "      <td>7709.074074</td>\n",
       "      <td>139.212500</td>\n",
       "      <td>6901.0</td>\n",
       "      <td>30.0</td>\n",
       "      <td>228.0</td>\n",
       "      <td>NaN</td>\n",
       "    </tr>\n",
       "  </tbody>\n",
       "</table>\n",
       "</div>"
      ],
      "text/plain": [
       "   account_id  credit amount  debit amount      balance  \\\n",
       "0           2   10394.786360   6276.393750  32590.62407   \n",
       "1          19    5100.913636   6306.812121  25717.96623   \n",
       "2          25   19787.319610   8731.021622  63371.68889   \n",
       "3          37   13979.996870   5249.923077  40543.38909   \n",
       "4          38    6217.271429   3611.678571  31221.78571   \n",
       "\n",
       "   avgmonthly_other expenses  avgmonthly_interest  avgmonthly_household  \\\n",
       "0               11873.424240           128.930000                7266.0   \n",
       "1                8431.947368           118.091667               15600.0   \n",
       "2               20447.626370           272.286667                6817.0   \n",
       "3               15674.745100           164.492857                2317.0   \n",
       "4                7709.074074           139.212500                6901.0   \n",
       "\n",
       "   avgmonthly_statement  avgmonthly_insurance  avgmonthly_negbal  \n",
       "0                  14.6                   NaN                NaN  \n",
       "1                  14.6                   NaN                NaN  \n",
       "2                  14.6                 164.0                NaN  \n",
       "3                  14.6                  97.0                0.4  \n",
       "4                  30.0                 228.0                NaN  "
      ]
     },
     "execution_count": 400,
     "metadata": {},
     "output_type": "execute_result"
    }
   ],
   "source": [
    "merge1.head()"
   ]
  },
  {
   "cell_type": "code",
   "execution_count": 401,
   "metadata": {
    "collapsed": true
   },
   "outputs": [],
   "source": [
    "OBJ2_model_data= pd.merge(OBJ2_final_data, merge1, on='account_id', how='left')"
   ]
  },
  {
   "cell_type": "code",
   "execution_count": 404,
   "metadata": {},
   "outputs": [
    {
     "data": {
      "text/html": [
       "<div>\n",
       "<style>\n",
       "    .dataframe thead tr:only-child th {\n",
       "        text-align: right;\n",
       "    }\n",
       "\n",
       "    .dataframe thead th {\n",
       "        text-align: left;\n",
       "    }\n",
       "\n",
       "    .dataframe tbody tr th {\n",
       "        vertical-align: top;\n",
       "    }\n",
       "</style>\n",
       "<table border=\"1\" class=\"dataframe\">\n",
       "  <thead>\n",
       "    <tr style=\"text-align: right;\">\n",
       "      <th></th>\n",
       "      <th>Unnamed: 0</th>\n",
       "      <th>account_id</th>\n",
       "      <th>loan_amount</th>\n",
       "      <th>duration</th>\n",
       "      <th>payments</th>\n",
       "      <th>status</th>\n",
       "      <th>frequency_statements</th>\n",
       "      <th>account_creation</th>\n",
       "      <th>disp_type</th>\n",
       "      <th>card_type</th>\n",
       "      <th>...</th>\n",
       "      <th>Account_age</th>\n",
       "      <th>credit amount</th>\n",
       "      <th>debit amount</th>\n",
       "      <th>balance</th>\n",
       "      <th>avgmonthly_other expenses</th>\n",
       "      <th>avgmonthly_interest</th>\n",
       "      <th>avgmonthly_household</th>\n",
       "      <th>avgmonthly_statement</th>\n",
       "      <th>avgmonthly_insurance</th>\n",
       "      <th>avgmonthly_negbal</th>\n",
       "    </tr>\n",
       "  </thead>\n",
       "  <tbody>\n",
       "    <tr>\n",
       "      <th>0</th>\n",
       "      <td>0</td>\n",
       "      <td>1787</td>\n",
       "      <td>96396</td>\n",
       "      <td>12</td>\n",
       "      <td>8033.0</td>\n",
       "      <td>B</td>\n",
       "      <td>POPLATEK TYDNE</td>\n",
       "      <td>1993-03-22</td>\n",
       "      <td>OWNER</td>\n",
       "      <td>NaN</td>\n",
       "      <td>...</td>\n",
       "      <td>5</td>\n",
       "      <td>5025.000000</td>\n",
       "      <td>NaN</td>\n",
       "      <td>12250.00000</td>\n",
       "      <td>5025.000000</td>\n",
       "      <td>NaN</td>\n",
       "      <td>NaN</td>\n",
       "      <td>NaN</td>\n",
       "      <td>NaN</td>\n",
       "      <td>NaN</td>\n",
       "    </tr>\n",
       "    <tr>\n",
       "      <th>1</th>\n",
       "      <td>1</td>\n",
       "      <td>1801</td>\n",
       "      <td>165960</td>\n",
       "      <td>36</td>\n",
       "      <td>4610.0</td>\n",
       "      <td>A</td>\n",
       "      <td>POPLATEK MESICNE</td>\n",
       "      <td>1993-02-13</td>\n",
       "      <td>OWNER</td>\n",
       "      <td>NaN</td>\n",
       "      <td>...</td>\n",
       "      <td>5</td>\n",
       "      <td>12545.168750</td>\n",
       "      <td>9628.322222</td>\n",
       "      <td>52729.67941</td>\n",
       "      <td>17803.100000</td>\n",
       "      <td>168.540000</td>\n",
       "      <td>4167.0</td>\n",
       "      <td>14.6</td>\n",
       "      <td>956.0</td>\n",
       "      <td>NaN</td>\n",
       "    </tr>\n",
       "    <tr>\n",
       "      <th>2</th>\n",
       "      <td>2</td>\n",
       "      <td>9188</td>\n",
       "      <td>127080</td>\n",
       "      <td>60</td>\n",
       "      <td>2118.0</td>\n",
       "      <td>A</td>\n",
       "      <td>POPLATEK MESICNE</td>\n",
       "      <td>1993-02-08</td>\n",
       "      <td>OWNER</td>\n",
       "      <td>NaN</td>\n",
       "      <td>...</td>\n",
       "      <td>5</td>\n",
       "      <td>4459.714286</td>\n",
       "      <td>9133.333333</td>\n",
       "      <td>27372.42941</td>\n",
       "      <td>9899.444444</td>\n",
       "      <td>92.625000</td>\n",
       "      <td>NaN</td>\n",
       "      <td>NaN</td>\n",
       "      <td>NaN</td>\n",
       "      <td>NaN</td>\n",
       "    </tr>\n",
       "    <tr>\n",
       "      <th>3</th>\n",
       "      <td>3</td>\n",
       "      <td>1843</td>\n",
       "      <td>105804</td>\n",
       "      <td>36</td>\n",
       "      <td>2939.0</td>\n",
       "      <td>A</td>\n",
       "      <td>POPLATEK MESICNE</td>\n",
       "      <td>1993-01-30</td>\n",
       "      <td>OWNER</td>\n",
       "      <td>classic</td>\n",
       "      <td>...</td>\n",
       "      <td>5</td>\n",
       "      <td>9254.600000</td>\n",
       "      <td>7168.100000</td>\n",
       "      <td>41297.48000</td>\n",
       "      <td>11969.250000</td>\n",
       "      <td>160.360000</td>\n",
       "      <td>6994.0</td>\n",
       "      <td>14.6</td>\n",
       "      <td>NaN</td>\n",
       "      <td>NaN</td>\n",
       "    </tr>\n",
       "    <tr>\n",
       "      <th>4</th>\n",
       "      <td>4</td>\n",
       "      <td>11013</td>\n",
       "      <td>274740</td>\n",
       "      <td>60</td>\n",
       "      <td>4579.0</td>\n",
       "      <td>A</td>\n",
       "      <td>POPLATEK TYDNE</td>\n",
       "      <td>1993-02-14</td>\n",
       "      <td>OWNER</td>\n",
       "      <td>junior</td>\n",
       "      <td>...</td>\n",
       "      <td>5</td>\n",
       "      <td>21255.930770</td>\n",
       "      <td>16801.000000</td>\n",
       "      <td>57188.21111</td>\n",
       "      <td>30661.625000</td>\n",
       "      <td>190.183333</td>\n",
       "      <td>756.0</td>\n",
       "      <td>30.0</td>\n",
       "      <td>NaN</td>\n",
       "      <td>NaN</td>\n",
       "    </tr>\n",
       "  </tbody>\n",
       "</table>\n",
       "<p>5 rows × 48 columns</p>\n",
       "</div>"
      ],
      "text/plain": [
       "   Unnamed: 0  account_id  loan_amount  duration  payments status  \\\n",
       "0           0        1787        96396        12    8033.0      B   \n",
       "1           1        1801       165960        36    4610.0      A   \n",
       "2           2        9188       127080        60    2118.0      A   \n",
       "3           3        1843       105804        36    2939.0      A   \n",
       "4           4       11013       274740        60    4579.0      A   \n",
       "\n",
       "  frequency_statements account_creation disp_type card_type        ...         \\\n",
       "0       POPLATEK TYDNE       1993-03-22     OWNER       NaN        ...          \n",
       "1     POPLATEK MESICNE       1993-02-13     OWNER       NaN        ...          \n",
       "2     POPLATEK MESICNE       1993-02-08     OWNER       NaN        ...          \n",
       "3     POPLATEK MESICNE       1993-01-30     OWNER   classic        ...          \n",
       "4       POPLATEK TYDNE       1993-02-14     OWNER    junior        ...          \n",
       "\n",
       "  Account_age  credit amount  debit amount      balance  \\\n",
       "0           5    5025.000000           NaN  12250.00000   \n",
       "1           5   12545.168750   9628.322222  52729.67941   \n",
       "2           5    4459.714286   9133.333333  27372.42941   \n",
       "3           5    9254.600000   7168.100000  41297.48000   \n",
       "4           5   21255.930770  16801.000000  57188.21111   \n",
       "\n",
       "   avgmonthly_other expenses  avgmonthly_interest  avgmonthly_household  \\\n",
       "0                5025.000000                  NaN                   NaN   \n",
       "1               17803.100000           168.540000                4167.0   \n",
       "2                9899.444444            92.625000                   NaN   \n",
       "3               11969.250000           160.360000                6994.0   \n",
       "4               30661.625000           190.183333                 756.0   \n",
       "\n",
       "   avgmonthly_statement  avgmonthly_insurance avgmonthly_negbal  \n",
       "0                   NaN                   NaN               NaN  \n",
       "1                  14.6                 956.0               NaN  \n",
       "2                   NaN                   NaN               NaN  \n",
       "3                  14.6                   NaN               NaN  \n",
       "4                  30.0                   NaN               NaN  \n",
       "\n",
       "[5 rows x 48 columns]"
      ]
     },
     "execution_count": 404,
     "metadata": {},
     "output_type": "execute_result"
    }
   ],
   "source": [
    "OBJ2_model_data.head()"
   ]
  },
  {
   "cell_type": "code",
   "execution_count": 415,
   "metadata": {
    "collapsed": true
   },
   "outputs": [],
   "source": [
    "work=pd.read_csv(\"Final data_without_transactions.csv\")\n",
    "work.columns\n",
    "credit_issue= work[['account_id','card_issued']]"
   ]
  },
  {
   "cell_type": "code",
   "execution_count": 417,
   "metadata": {
    "collapsed": true
   },
   "outputs": [],
   "source": [
    "OBJ2_model_data.to_csv(\"OBJ2_final_model_data.csv\")"
   ]
  },
  {
   "cell_type": "code",
   "execution_count": null,
   "metadata": {
    "collapsed": true
   },
   "outputs": [],
   "source": []
  },
  {
   "cell_type": "code",
   "execution_count": 474,
   "metadata": {
    "collapsed": true
   },
   "outputs": [],
   "source": [
    "OBJ2_model_finaldata=pd.read_csv(\"OBJ2_final_model_data.csv\")"
   ]
  },
  {
   "cell_type": "code",
   "execution_count": 475,
   "metadata": {},
   "outputs": [
    {
     "data": {
      "text/plain": [
       "Index(['loan_amount', 'duration', 'payments', 'status', 'frequency_statements',\n",
       "       'disp_type', 'card_type', 'Gender', 'no. of inhabitants_x',\n",
       "       'no_of_municipalities_inhabitants < 499_x',\n",
       "       'no. of municipalities with inhabitants 500-1999_x',\n",
       "       'no. of municipalities with inhabitants 2000-9999_x',\n",
       "       'no. of municipalities with inhabitants >10000_x', 'no. of cities_x',\n",
       "       'ratio of urban inhabitants_x', 'average salary_x',\n",
       "       'unemployment rate 95_x', 'unemployment rate 96_x',\n",
       "       'no. of entrepreneurs per 1000 inhabitants_x',\n",
       "       'no. of committed crimes 95_x', 'no. of committed crimes 96_x',\n",
       "       'no. of inhabitants_y', 'no_of_municipalities_inhabitants < 499_y',\n",
       "       'no. of municipalities with inhabitants 500-1999_y',\n",
       "       'no. of municipalities with inhabitants 2000-9999_y',\n",
       "       'no. of municipalities with inhabitants >10000_y', 'no. of cities_y',\n",
       "       'ratio of urban inhabitants_y', 'average salary_y',\n",
       "       'unemployment rate 95_y', 'unemployment rate 96_y',\n",
       "       'no. of entrepreneurs per 1000 inhabitants_y',\n",
       "       'no. of committed crimes 95_y', 'no. of committed crimes 96_y',\n",
       "       'Client_age', 'Account_age', 'credit amount', 'debit amount', 'balance',\n",
       "       'avgmonthly_other expenses', 'avgmonthly_interest',\n",
       "       'avgmonthly_household', 'avgmonthly_statement', 'avgmonthly_insurance',\n",
       "       'avgmonthly_negbal'],\n",
       "      dtype='object')"
      ]
     },
     "execution_count": 475,
     "metadata": {},
     "output_type": "execute_result"
    }
   ],
   "source": [
    "OBJ2_model_finaldata.columns"
   ]
  },
  {
   "cell_type": "code",
   "execution_count": 491,
   "metadata": {
    "collapsed": true
   },
   "outputs": [],
   "source": [
    "OBJ2_model_finaldata.loc [ (OBJ2_model_finaldata['status']=='A'), 'status' ]=0\n",
    "OBJ2_model_finaldata.loc [ (OBJ2_model_finaldata['status']=='B'), 'status' ]=1\n",
    "OBJ2_model_finaldata.loc [ (OBJ2_model_finaldata['status']=='C'), 'status' ]=0\n",
    "OBJ2_model_finaldata.loc [ (OBJ2_model_finaldata['status']=='D'), 'status' ]=1"
   ]
  },
  {
   "cell_type": "code",
   "execution_count": 492,
   "metadata": {
    "collapsed": true
   },
   "outputs": [],
   "source": [
    "OBJ2_model_finaldata_dummied= pd.get_dummies(data=OBJ2_model_finaldata, columns=['frequency_statements','disp_type','card_type','Gender'])"
   ]
  },
  {
   "cell_type": "code",
   "execution_count": 493,
   "metadata": {},
   "outputs": [
    {
     "data": {
      "text/plain": [
       "Index(['loan_amount', 'duration', 'payments', 'status', 'no. of inhabitants_x',\n",
       "       'no_of_municipalities_inhabitants < 499_x',\n",
       "       'no. of municipalities with inhabitants 500-1999_x',\n",
       "       'no. of municipalities with inhabitants 2000-9999_x',\n",
       "       'no. of municipalities with inhabitants >10000_x', 'no. of cities_x',\n",
       "       'ratio of urban inhabitants_x', 'average salary_x',\n",
       "       'unemployment rate 95_x', 'unemployment rate 96_x',\n",
       "       'no. of entrepreneurs per 1000 inhabitants_x',\n",
       "       'no. of committed crimes 95_x', 'no. of committed crimes 96_x',\n",
       "       'no. of inhabitants_y', 'no_of_municipalities_inhabitants < 499_y',\n",
       "       'no. of municipalities with inhabitants 500-1999_y',\n",
       "       'no. of municipalities with inhabitants 2000-9999_y',\n",
       "       'no. of municipalities with inhabitants >10000_y', 'no. of cities_y',\n",
       "       'ratio of urban inhabitants_y', 'average salary_y',\n",
       "       'unemployment rate 95_y', 'unemployment rate 96_y',\n",
       "       'no. of entrepreneurs per 1000 inhabitants_y',\n",
       "       'no. of committed crimes 95_y', 'no. of committed crimes 96_y',\n",
       "       'Client_age', 'Account_age', 'credit amount', 'debit amount', 'balance',\n",
       "       'avgmonthly_other expenses', 'avgmonthly_interest',\n",
       "       'avgmonthly_household', 'avgmonthly_statement', 'avgmonthly_insurance',\n",
       "       'avgmonthly_negbal', 'frequency_statements_POPLATEK MESICNE',\n",
       "       'frequency_statements_POPLATEK PO OBRATU',\n",
       "       'frequency_statements_POPLATEK TYDNE', 'disp_type_DISPONENT',\n",
       "       'disp_type_OWNER', 'card_type_classic', 'card_type_gold',\n",
       "       'card_type_junior', 'Gender_Female', 'Gender_Male'],\n",
       "      dtype='object')"
      ]
     },
     "execution_count": 493,
     "metadata": {},
     "output_type": "execute_result"
    }
   ],
   "source": [
    "OBJ2_model_finaldata_dummied.columns"
   ]
  },
  {
   "cell_type": "code",
   "execution_count": 494,
   "metadata": {
    "collapsed": true
   },
   "outputs": [],
   "source": [
    "import pandas as pd\n",
    "from sklearn import datasets, linear_model\n",
    "from sklearn.model_selection import train_test_split\n",
    "from matplotlib import pyplot as plt"
   ]
  },
  {
   "cell_type": "code",
   "execution_count": 495,
   "metadata": {},
   "outputs": [],
   "source": [
    "OBJ2_model_finaldata_dummied['status']= OBJ2_model_finaldata_dummied['status'].astype('category')\n",
    "# OBJ2_model_finaldata_dummied['unemployment rate 95_x'].astype('float')\n",
    "# OBJ2_model_finaldata_dummied['no. of committed crimes 95_x'].astype('float')\n",
    "# OBJ2_model_finaldata_dummied['unemployment rate 95_y'].astype('float')\n",
    "# OBJ2_model_finaldata_dummied['no. of committed crimes 95_y'].astype('float')"
   ]
  },
  {
   "cell_type": "code",
   "execution_count": 522,
   "metadata": {},
   "outputs": [
    {
     "data": {
      "text/plain": [
       "False"
      ]
     },
     "execution_count": 522,
     "metadata": {},
     "output_type": "execute_result"
    }
   ],
   "source": [
    "OBJ2_model_finaldata_dummied['debit amount'].fillna(0, inplace=True)\n",
    "OBJ2_model_finaldata_dummied['debit amount'].isnull().values.any()"
   ]
  },
  {
   "cell_type": "code",
   "execution_count": 529,
   "metadata": {},
   "outputs": [
    {
     "data": {
      "text/plain": [
       "False"
      ]
     },
     "execution_count": 529,
     "metadata": {},
     "output_type": "execute_result"
    }
   ],
   "source": [
    "\n",
    "\n",
    "OBJ2_model_finaldata_dummied['avgmonthly_other expenses'].fillna(0, inplace=True)\n",
    "OBJ2_model_finaldata_dummied['avgmonthly_interest'].fillna(0, inplace=True)\n",
    "OBJ2_model_finaldata_dummied['avgmonthly_household'].fillna(0, inplace=True)\n",
    "OBJ2_model_finaldata_dummied['avgmonthly_statement'].fillna(0, inplace=True)\n",
    "OBJ2_model_finaldata_dummied['avgmonthly_insurance'].fillna(0, inplace=True)\n",
    "OBJ2_model_finaldata_dummied['avgmonthly_negbal'].fillna(0, inplace=True)\n",
    "\n",
    "OBJ2_model_finaldata_dummied.isnull().values.any()\n",
    "\n"
   ]
  },
  {
   "cell_type": "code",
   "execution_count": null,
   "metadata": {},
   "outputs": [],
   "source": []
  },
  {
   "cell_type": "code",
   "execution_count": null,
   "metadata": {
    "collapsed": true
   },
   "outputs": [],
   "source": []
  },
  {
   "cell_type": "code",
   "execution_count": 531,
   "metadata": {
    "collapsed": true
   },
   "outputs": [],
   "source": [
    "import matplotlib.pylab as plt\n",
    "from scipy import interp\n",
    "from sklearn.ensemble import RandomForestClassifier\n",
    "from sklearn.metrics import roc_curve,auc\n",
    "from sklearn.model_selection import StratifiedKFold\n",
    "import matplotlib.patches as patches"
   ]
  },
  {
   "cell_type": "code",
   "execution_count": 541,
   "metadata": {},
   "outputs": [],
   "source": [
    "# y= OBJ2_model_finaldata_dummied['status']"
   ]
  },
  {
   "cell_type": "code",
   "execution_count": 542,
   "metadata": {},
   "outputs": [],
   "source": [
    "# random_state = np.random.RandomState(0)\n",
    "# clf = RandomForestClassifier(random_state=random_state)\n",
    "# clf.fit(X_train, y_train)\n",
    "# cv = StratifiedKFold(n_splits=5,shuffle=False)"
   ]
  },
  {
   "cell_type": "code",
   "execution_count": 613,
   "metadata": {
    "collapsed": true
   },
   "outputs": [],
   "source": [
    "from sklearn import svm, datasets\n",
    "from sklearn import metrics\n",
    "from sklearn.linear_model import LogisticRegression\n",
    "from sklearn.model_selection import train_test_split\n",
    "from sklearn.datasets import load_breast_cancer\n",
    "import matplotlib.pyplot as plt\n",
    "from sklearn.metrics import (confusion_matrix, precision_recall_curve, auc,\n",
    "                             roc_curve, recall_score, classification_report, f1_score,\n",
    "                             precision_recall_fscore_support) "
   ]
  },
  {
   "cell_type": "code",
   "execution_count": 614,
   "metadata": {},
   "outputs": [
    {
     "name": "stdout",
     "output_type": "stream",
     "text": [
      "Accuracy 0.926829268293\n"
     ]
    }
   ],
   "source": [
    "X = OBJ2_model_finaldata_dummied.loc[:, OBJ2_model_finaldata_dummied.columns != 'status']\n",
    "y = OBJ2_model_finaldata_dummied.loc[:,'status']\n",
    "X_train, X_test, y_train, y_test = train_test_split(X, y, test_size=0.2)\n",
    "\n",
    "random_state = np.random.RandomState(0)\n",
    "clf= RandomForestClassifier(random_state=random_state)\n",
    "clf.fit(X_train, y_train)\n",
    "# cv = StratifiedKFold(n_splits=5,shuffle=False)\n",
    "y_pred = clf.predict(X_test)\n",
    "print(\"Accuracy\", metrics.accuracy_score(y_test, y_pred))"
   ]
  },
  {
   "cell_type": "code",
   "execution_count": 615,
   "metadata": {},
   "outputs": [],
   "source": [
    "conf_matrix = confusion_matrix(y_test, y_pred)"
   ]
  },
  {
   "cell_type": "code",
   "execution_count": 618,
   "metadata": {},
   "outputs": [
    {
     "name": "stdout",
     "output_type": "stream",
     "text": [
      "accuracy:  0.926829268293\n",
      "precision:  0.666666666667\n",
      "recall:  0.153846153846\n",
      "f1:  0.25\n",
      "area under curve (auc):  0.573611818645\n",
      "Confusion matrix [[150   1]\n",
      " [ 11   2]]\n"
     ]
    }
   ],
   "source": [
    "print(\"accuracy: \", metrics.accuracy_score(y_test, y_pred))  \n",
    "print(\"precision: \", metrics.precision_score(y_test, y_pred))  \n",
    "print(\"recall: \", metrics.recall_score(y_test, y_pred))  \n",
    "print(\"f1: \", metrics.f1_score(y_test, y_pred))  \n",
    "print(\"area under curve (auc): \", metrics.roc_auc_score(y_test, y_pred))  \n",
    "print(\"Confusion matrix\",conf_matrix) "
   ]
  },
  {
   "cell_type": "code",
   "execution_count": 620,
   "metadata": {},
   "outputs": [
    {
     "data": {
      "image/png": "[encoded data removed]",
      "text/plain": [
       "<matplotlib.figure.Figure at 0x1fccd974dd8>"
      ]
     },
     "metadata": {},
     "output_type": "display_data"
    }
   ],
   "source": [
    " #Plotting Confusion Matrix\n",
    "    \n",
    "import matplotlib\n",
    "import matplotlib.pyplot as plt \n",
    "import seaborn as sns \n",
    "\n",
    "LABELS = [\"Not defaulter\", \"Defaulter\"]\n",
    "plt.figure(figsize=(5, 5))\n",
    "sns.heatmap(conf_matrix, xticklabels=LABELS, yticklabels=LABELS, annot=True, fmt=\"d\",cmap=\"YlGnBu\");\n",
    "plt.title(\"Confusion matrix\")\n",
    "plt.ylabel('True class')\n",
    "plt.xlabel('Predicted class')\n",
    "#plt.savefig(\"C:/Users/ann.maryvarghese/Desktop/ann_results/final/minmax_sig_ConfusionMatrix_oversampling_\"+str(nb_epoch)+\"_\"+str(batch_size)+\".png\")\n",
    "plt.show() \n"
   ]
  },
  {
   "cell_type": "code",
   "execution_count": 621,
   "metadata": {},
   "outputs": [
    {
     "data": {
      "text/plain": [
       "0    744\n",
       "1     74\n",
       "Name: status, dtype: int64"
      ]
     },
     "execution_count": 621,
     "metadata": {},
     "output_type": "execute_result"
    }
   ],
   "source": [
    "OBJ2_model_finaldata_dummied['status'].value_counts()"
   ]
  },
  {
   "cell_type": "code",
   "execution_count": 622,
   "metadata": {},
   "outputs": [
    {
     "name": "stdout",
     "output_type": "stream",
     "text": [
      "no of rows in data 1488\n",
      "no of minority class 744\n"
     ]
    }
   ],
   "source": [
    "#SMOT!\n",
    "\n",
    "X = OBJ2_model_finaldata_dummied.loc[:, OBJ2_model_finaldata_dummied.columns != 'status']\n",
    "#print(X.columns)\n",
    "y = OBJ2_model_finaldata_dummied.loc[:,'status']\n",
    "\n",
    "import imblearn\n",
    "from imblearn.over_sampling import SMOTE\n",
    "sm = SMOTE(random_state=42)\n",
    "X_smot, y_smot = sm.fit_sample(X, y)\n",
    "print(\"no of rows in data\", len(X_smot))\n",
    "print(\"no of minority class\", y_smot.sum())"
   ]
  },
  {
   "cell_type": "code",
   "execution_count": 623,
   "metadata": {},
   "outputs": [
    {
     "data": {
      "text/plain": [
       "(1488, 51)"
      ]
     },
     "execution_count": 623,
     "metadata": {},
     "output_type": "execute_result"
    }
   ],
   "source": [
    "smot_df=pd.DataFrame(X_smot, columns = OBJ2_model_finaldata_dummied.drop('status',axis=1).columns)\n",
    "smot_df['status'] = y_smot\n",
    "smot_df.shape"
   ]
  },
  {
   "cell_type": "code",
   "execution_count": 624,
   "metadata": {},
   "outputs": [
    {
     "name": "stdout",
     "output_type": "stream",
     "text": [
      "Accuracy 0.953020134228\n"
     ]
    }
   ],
   "source": [
    "smot_df_X = smot_df.loc[:, smot_df.columns != 'status']\n",
    "y = smot_df.loc[:,'status']\n",
    "X_train, X_test, y_train, y_test = train_test_split(smot_df_X, y, test_size=0.2)\n",
    "\n",
    "random_state = np.random.RandomState(0)\n",
    "clf= RandomForestClassifier(random_state=random_state)\n",
    "clf.fit(X_train, y_train)\n",
    "# cv = StratifiedKFold(n_splits=5,shuffle=False)\n",
    "y_pred = clf.predict(X_test)\n",
    "print(\"Accuracy\", metrics.accuracy_score(y_test, y_pred))"
   ]
  },
  {
   "cell_type": "code",
   "execution_count": 625,
   "metadata": {},
   "outputs": [
    {
     "name": "stdout",
     "output_type": "stream",
     "text": [
      "accuracy:  0.953020134228\n",
      "precision:  0.985815602837\n",
      "recall:  0.920529801325\n",
      "f1:  0.952054794521\n",
      "area under curve (auc):  0.953462179574\n",
      "Confusion matrix [[145   2]\n",
      " [ 12 139]]\n"
     ]
    }
   ],
   "source": [
    "conf_matrix = confusion_matrix(y_test, y_pred)\n",
    "print(\"accuracy: \", metrics.accuracy_score(y_test, y_pred))  \n",
    "print(\"precision: \", metrics.precision_score(y_test, y_pred))  \n",
    "print(\"recall: \", metrics.recall_score(y_test, y_pred))  \n",
    "print(\"f1: \", metrics.f1_score(y_test, y_pred))  \n",
    "print(\"area under curve (auc): \", metrics.roc_auc_score(y_test, y_pred))  \n",
    "print(\"Confusion matrix\",conf_matrix) "
   ]
  },
  {
   "cell_type": "code",
   "execution_count": 626,
   "metadata": {},
   "outputs": [
    {
     "data": {
      "image/png": "[encoded data removed]",
      "text/plain": [
       "<matplotlib.figure.Figure at 0x1fccdcdcb70>"
      ]
     },
     "metadata": {},
     "output_type": "display_data"
    }
   ],
   "source": [
    " #Plotting Confusion Matrix\n",
    "    \n",
    "import matplotlib\n",
    "import matplotlib.pyplot as plt \n",
    "import seaborn as sns \n",
    "\n",
    "LABELS = [\"Not defaulter\", \"Defaulter\"]\n",
    "plt.figure(figsize=(5, 5))\n",
    "sns.heatmap(conf_matrix, xticklabels=LABELS, yticklabels=LABELS, annot=True, fmt=\"d\",cmap=\"YlGnBu\");\n",
    "plt.title(\"Confusion matrix\")\n",
    "plt.ylabel('True class')\n",
    "plt.xlabel('Predicted class')\n",
    "plt.show() \n"
   ]
  },
  {
   "cell_type": "code",
   "execution_count": 627,
   "metadata": {},
   "outputs": [
    {
     "data": {
      "text/plain": [
       "array([ 0.05082828,  0.01001822,  0.06920483,  0.00585747,  0.00698297,\n",
       "        0.00645351,  0.00581505,  0.01222441,  0.0254438 ,  0.00965388,\n",
       "        0.01188489,  0.00897566,  0.0164117 ,  0.01521996,  0.0064943 ,\n",
       "        0.01090914,  0.01064394,  0.01042455,  0.00471254,  0.01082004,\n",
       "        0.01009387,  0.03107016,  0.00908921,  0.00871013,  0.00500776,\n",
       "        0.01228744,  0.0069748 ,  0.00888139,  0.00799602,  0.01659851,\n",
       "        0.05395903,  0.03378474,  0.03881579,  0.02132482,  0.0229576 ,\n",
       "        0.08639748,  0.01801746,  0.040273  ,  0.00148126,  0.10563356,\n",
       "        0.01961191,  0.00109051,  0.00158237,  0.00033782,  0.03932538,\n",
       "        0.03239093,  0.00027789,  0.00028158,  0.02005003,  0.03671841])"
      ]
     },
     "execution_count": 627,
     "metadata": {},
     "output_type": "execute_result"
    }
   ],
   "source": [
    "clf.feature_importances_"
   ]
  },
  {
   "cell_type": "code",
   "execution_count": 628,
   "metadata": {
    "collapsed": true
   },
   "outputs": [],
   "source": [
    "from sklearn.datasets import make_classification\n",
    "from sklearn.ensemble import ExtraTreesClassifier"
   ]
  },
  {
   "cell_type": "code",
   "execution_count": 629,
   "metadata": {},
   "outputs": [],
   "source": [
    "#clf.fit(X_train, y_train)\n",
    "features=X_train.columns"
   ]
  },
  {
   "cell_type": "code",
   "execution_count": 631,
   "metadata": {},
   "outputs": [
    {
     "name": "stdout",
     "output_type": "stream",
     "text": [
      "Feature ranking:\n",
      "('duration', 39, 0.10563355560331655)\n",
      "('payments', 35, 0.086397479232556584)\n",
      "('no. of inhabitants_x', 2, 0.069204833456756459)\n",
      "('no_of_municipalities_inhabitants < 499_x', 30, 0.053959032581792299)\n",
      "('no. of municipalities with inhabitants 500-1999_x', 0, 0.050828280190995181)\n",
      "('no. of municipalities with inhabitants 2000-9999_x', 37, 0.040272997096517452)\n",
      "('no. of municipalities with inhabitants >10000_x', 44, 0.03932538216043624)\n",
      "('no. of cities_x', 32, 0.038815793508804194)\n",
      "('ratio of urban inhabitants_x', 49, 0.036718412563486333)\n",
      "('average salary_x', 31, 0.033784738692216522)\n",
      "                                             Feature  Feature_no  Importance\n",
      "0                                           duration        39.0    0.105634\n",
      "1                                           payments        35.0    0.086397\n",
      "2                               no. of inhabitants_x         2.0    0.069205\n",
      "3           no_of_municipalities_inhabitants < 499_x        30.0    0.053959\n",
      "4  no. of municipalities with inhabitants 500-1999_x         0.0    0.050828\n",
      "5  no. of municipalities with inhabitants 2000-99...        37.0    0.040273\n",
      "6    no. of municipalities with inhabitants >10000_x        44.0    0.039325\n",
      "7                                    no. of cities_x        32.0    0.038816\n",
      "8                       ratio of urban inhabitants_x        49.0    0.036718\n",
      "9                                   average salary_x        31.0    0.033785\n"
     ]
    }
   ],
   "source": [
    "importances = clf.feature_importances_\n",
    "std = np.std([tree.feature_importances_ for tree in clf.estimators_],\n",
    "             axis=0)\n",
    "indices = np.argsort(importances)[::-1]\n",
    "\n",
    "# Print the feature ranking\n",
    "print(\"Feature ranking:\")\n",
    "\n",
    "count=0\n",
    "OBJ2_feature_df= pd.DataFrame()\n",
    "\n",
    "for f in range(X_train.shape[1]):\n",
    "    if(count<10):\n",
    "        OBJ2_feature_df = OBJ2_feature_df.append({'Feature' : features[f+1] , 'Feature_no' : indices[f], 'Importance':importances[indices[f]]} , ignore_index=True)\n",
    "        print( (features[f+1], indices[f], importances[indices[f]]))\n",
    "        count+=1\n",
    "\n",
    "print(OBJ2_feature_df)\n",
    "\n",
    "OBJ2_feature_df.to_csv(\"OBJ2_feature_df.csv\")\n",
    "\n",
    "# Plot the feature importances of the forest\n",
    "# plt.figure()\n",
    "# plt.title(\"Feature importances\")\n",
    "# plt.bar(range(X_train.shape[1]), importances[indices], color=\"r\", yerr=std[indices], align=\"center\")\n",
    "# plt.xticks(range(X_train.shape[1]), indices)\n",
    "# plt.xlim([-1, X_train.shape[1]])\n",
    "# # plt.savefig(\"OBJ2_featureimportance.png\")\n",
    "# plt.show()\n"
   ]
  },
  {
   "cell_type": "code",
   "execution_count": null,
   "metadata": {
    "collapsed": true
   },
   "outputs": [],
   "source": []
  },
  {
   "cell_type": "code",
   "execution_count": 632,
   "metadata": {},
   "outputs": [
    {
     "name": "stdout",
     "output_type": "stream",
     "text": [
      "Accuracy 0.788590604027\n"
     ]
    }
   ],
   "source": [
    "#BASIC_LR\n",
    "\n",
    "from sklearn.linear_model import LogisticRegression\n",
    "\n",
    "random_state = np.random.RandomState(1)\n",
    "clf= LogisticRegression()\n",
    "clf.fit(X_train, y_train)\n",
    "# cv = StratifiedKFold(n_splits=5,shuffle=False)\n",
    "y_pred = clf.predict(X_test)\n",
    "print(\"Accuracy\", metrics.accuracy_score(y_test, y_pred))"
   ]
  },
  {
   "cell_type": "code",
   "execution_count": 633,
   "metadata": {},
   "outputs": [
    {
     "name": "stdout",
     "output_type": "stream",
     "text": [
      "accuracy:  0.788590604027\n",
      "precision:  0.789473684211\n",
      "recall:  0.794701986755\n",
      "f1:  0.792079207921\n",
      "area under curve (auc):  0.788507455963\n",
      "Confusion matrix [[115  32]\n",
      " [ 31 120]]\n"
     ]
    }
   ],
   "source": [
    "conf_matrix = confusion_matrix(y_test, y_pred)\n",
    "print(\"accuracy: \", metrics.accuracy_score(y_test, y_pred))  \n",
    "print(\"precision: \", metrics.precision_score(y_test, y_pred))  \n",
    "print(\"recall: \", metrics.recall_score(y_test, y_pred))  \n",
    "print(\"f1: \", metrics.f1_score(y_test, y_pred))  \n",
    "print(\"area under curve (auc): \", metrics.roc_auc_score(y_test, y_pred))  \n",
    "print(\"Confusion matrix\",conf_matrix) "
   ]
  },
  {
   "cell_type": "code",
   "execution_count": 634,
   "metadata": {},
   "outputs": [
    {
     "data": {
      "image/png": "[encoded data removed]",
      "text/plain": [
       "<matplotlib.figure.Figure at 0x1fccdd17b38>"
      ]
     },
     "metadata": {},
     "output_type": "display_data"
    }
   ],
   "source": [
    "import matplotlib\n",
    "import matplotlib.pyplot as plt \n",
    "import seaborn as sns \n",
    "\n",
    "LABELS = [\"Not defaulter\", \"Defaulter\"]\n",
    "plt.figure(figsize=(5, 5))\n",
    "sns.heatmap(conf_matrix, xticklabels=LABELS, yticklabels=LABELS, annot=True, fmt=\"d\",cmap=\"YlGnBu\");\n",
    "plt.title(\"Confusion matrix\")\n",
    "plt.ylabel('True class')\n",
    "plt.xlabel('Predicted class')\n",
    "plt.show() "
   ]
  },
  {
   "cell_type": "code",
   "execution_count": null,
   "metadata": {
    "collapsed": true
   },
   "outputs": [],
   "source": []
  }
 ],
 "metadata": {
  "kernelspec": {
   "display_name": "Python 3",
   "language": "python",
   "name": "python3"
  },
  "language_info": {
   "codemirror_mode": {
    "name": "ipython",
    "version": 3
   },
   "file_extension": ".py",
   "mimetype": "text/x-python",
   "name": "python",
   "nbconvert_exporter": "python",
   "pygments_lexer": "ipython3",
   "version": "3.6.3"
  }
 },
 "nbformat": 4,
 "nbformat_minor": 2
}
