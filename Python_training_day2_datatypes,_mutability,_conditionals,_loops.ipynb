{
  "nbformat": 4,
  "nbformat_minor": 0,
  "metadata": {
    "colab": {
      "name": "Python training day2- datatypes, mutability, conditionals, loops",
      "provenance": [],
      "collapsed_sections": [],
      "authorship_tag": "ABX9TyNOClf474EGnvRKH+cVbxyG",
      "include_colab_link": true
    },
    "kernelspec": {
      "name": "python3",
      "display_name": "Python 3"
    }
  },
  "cells": [
    {
      "cell_type": "markdown",
      "metadata": {
        "id": "view-in-github",
        "colab_type": "text"
      },
      "source": [
        "<a href=\"https://colab.research.google.com/github/just-joseph/Kaggle--To-loan-or-not-to-loan/blob/master/Python_training_day2_datatypes%2C_mutability%2C_conditionals%2C_loops.ipynb\" target=\"_parent\"><img src=\"https://colab.research.google.com/assets/colab-badge.svg\" alt=\"Open In Colab\"/></a>"
      ]
    },
    {
      "cell_type": "code",
      "metadata": {
        "id": "vL6_C95adiVd",
        "colab_type": "code",
        "colab": {
          "base_uri": "https://localhost:8080/",
          "height": 35
        },
        "outputId": "f868e674-543e-450e-c5c3-e8ecf2ca1533"
      },
      "source": [
        "print(\"Hello World!\")"
      ],
      "execution_count": 1,
      "outputs": [
        {
          "output_type": "stream",
          "text": [
            "Hello World!\n"
          ],
          "name": "stdout"
        }
      ]
    },
    {
      "cell_type": "markdown",
      "metadata": {
        "id": "ad7itwXqeymA",
        "colab_type": "text"
      },
      "source": [
        "Arithmetic"
      ]
    },
    {
      "cell_type": "code",
      "metadata": {
        "id": "MtLbmhUDezrq",
        "colab_type": "code",
        "colab": {
          "base_uri": "https://localhost:8080/",
          "height": 35
        },
        "outputId": "51f75fbe-1fb9-4568-c54e-4a9fe24bf4dd"
      },
      "source": [
        "print(1+1)"
      ],
      "execution_count": 2,
      "outputs": [
        {
          "output_type": "stream",
          "text": [
            "2\n"
          ],
          "name": "stdout"
        }
      ]
    },
    {
      "cell_type": "code",
      "metadata": {
        "id": "gfkOEGkWe1rT",
        "colab_type": "code",
        "colab": {
          "base_uri": "https://localhost:8080/",
          "height": 35
        },
        "outputId": "4babfe5a-e236-4a96-ff68-9f533587c431"
      },
      "source": [
        "1+5  # this won't be printed. Better to use the print function everyone\n",
        "2+3"
      ],
      "execution_count": 3,
      "outputs": [
        {
          "output_type": "execute_result",
          "data": {
            "text/plain": [
              "5"
            ]
          },
          "metadata": {
            "tags": []
          },
          "execution_count": 3
        }
      ]
    },
    {
      "cell_type": "code",
      "metadata": {
        "id": "0CisLhl1e6sk",
        "colab_type": "code",
        "colab": {
          "base_uri": "https://localhost:8080/",
          "height": 88
        },
        "outputId": "3767799b-2f8e-4727-eede-a5d15219b924"
      },
      "source": [
        "%time print(1+134)  # %time outputs the time taken to run this LINE of code\n",
        "print(2+343)"
      ],
      "execution_count": 4,
      "outputs": [
        {
          "output_type": "stream",
          "text": [
            "135\n",
            "CPU times: user 966 µs, sys: 0 ns, total: 966 µs\n",
            "Wall time: 823 µs\n",
            "345\n"
          ],
          "name": "stdout"
        }
      ]
    },
    {
      "cell_type": "code",
      "metadata": {
        "id": "QwkhFVHNfA6j",
        "colab_type": "code",
        "colab": {
          "base_uri": "https://localhost:8080/",
          "height": 88
        },
        "outputId": "d8952ce8-74ab-4517-efd0-b06b484731af"
      },
      "source": [
        "%%time \n",
        "print(1+134)  # %%time outputs the time taken to run this whole CELL of code\n",
        "print(2+343)"
      ],
      "execution_count": 5,
      "outputs": [
        {
          "output_type": "stream",
          "text": [
            "135\n",
            "345\n",
            "CPU times: user 1.06 ms, sys: 0 ns, total: 1.06 ms\n",
            "Wall time: 882 µs\n"
          ],
          "name": "stdout"
        }
      ]
    },
    {
      "cell_type": "code",
      "metadata": {
        "id": "lsrlJas4fGk4",
        "colab_type": "code",
        "colab": {
          "base_uri": "https://localhost:8080/",
          "height": 70
        },
        "outputId": "e2804770-fc60-452f-aa94-55311de24958"
      },
      "source": [
        "print(2-3)\n",
        "print(2*3)\n",
        "print(2/3) # Python automatically produces a float (or decimal)"
      ],
      "execution_count": 6,
      "outputs": [
        {
          "output_type": "stream",
          "text": [
            "-1\n",
            "6\n",
            "0.6666666666666666\n"
          ],
          "name": "stdout"
        }
      ]
    },
    {
      "cell_type": "code",
      "metadata": {
        "id": "6ThGqWL2fLjq",
        "colab_type": "code",
        "colab": {
          "base_uri": "https://localhost:8080/",
          "height": 35
        },
        "outputId": "bc4cc049-7431-4e35-d083-dd6fd2d6156d"
      },
      "source": [
        "print(type(2))"
      ],
      "execution_count": 7,
      "outputs": [
        {
          "output_type": "stream",
          "text": [
            "<class 'int'>\n"
          ],
          "name": "stdout"
        }
      ]
    },
    {
      "cell_type": "markdown",
      "metadata": {
        "id": "KIZs7pvsfQiU",
        "colab_type": "text"
      },
      "source": [
        "Abs, floor, modulus and power"
      ]
    },
    {
      "cell_type": "code",
      "metadata": {
        "id": "hltnEzkCfSau",
        "colab_type": "code",
        "colab": {
          "base_uri": "https://localhost:8080/",
          "height": 35
        },
        "outputId": "2ba79103-20fb-41e0-8c79-f2ec91600c09"
      },
      "source": [
        "# returns absolute value of the number\n",
        "abs(-2.4)"
      ],
      "execution_count": 8,
      "outputs": [
        {
          "output_type": "execute_result",
          "data": {
            "text/plain": [
              "2.4"
            ]
          },
          "metadata": {
            "tags": []
          },
          "execution_count": 8
        }
      ]
    },
    {
      "cell_type": "code",
      "metadata": {
        "id": "e_c47btBfUA0",
        "colab_type": "code",
        "colab": {
          "base_uri": "https://localhost:8080/",
          "height": 35
        },
        "outputId": "5d25ee52-7e63-46e4-836f-18db4158b982"
      },
      "source": [
        "# Quotient\n",
        "7//5"
      ],
      "execution_count": 9,
      "outputs": [
        {
          "output_type": "execute_result",
          "data": {
            "text/plain": [
              "1"
            ]
          },
          "metadata": {
            "tags": []
          },
          "execution_count": 9
        }
      ]
    },
    {
      "cell_type": "code",
      "metadata": {
        "id": "aeejBM0AfWJx",
        "colab_type": "code",
        "colab": {
          "base_uri": "https://localhost:8080/",
          "height": 35
        },
        "outputId": "0340ccfd-eb6b-4e48-83e4-39aea7cf3dba"
      },
      "source": [
        "# Reminder\n",
        "7%5"
      ],
      "execution_count": 10,
      "outputs": [
        {
          "output_type": "execute_result",
          "data": {
            "text/plain": [
              "2"
            ]
          },
          "metadata": {
            "tags": []
          },
          "execution_count": 10
        }
      ]
    },
    {
      "cell_type": "code",
      "metadata": {
        "id": "Hc8FbpSsfYWM",
        "colab_type": "code",
        "colab": {
          "base_uri": "https://localhost:8080/",
          "height": 35
        },
        "outputId": "ce5d995c-e9fe-4dd8-e227-94ed3874ca74"
      },
      "source": [
        "# Power- 2 raised to 3\n",
        "2 ** 3"
      ],
      "execution_count": 11,
      "outputs": [
        {
          "output_type": "execute_result",
          "data": {
            "text/plain": [
              "8"
            ]
          },
          "metadata": {
            "tags": []
          },
          "execution_count": 11
        }
      ]
    },
    {
      "cell_type": "code",
      "metadata": {
        "id": "XkEfTTNGfZpM",
        "colab_type": "code",
        "colab": {
          "base_uri": "https://localhost:8080/",
          "height": 35
        },
        "outputId": "1cbe36a6-b2bb-4409-cbd0-28127794275d"
      },
      "source": [
        "# Usual mathematical precedence applies. Use brackets if you want to change the execution order\n",
        "print( (1 + 2**2) * 3 / 6)"
      ],
      "execution_count": 12,
      "outputs": [
        {
          "output_type": "stream",
          "text": [
            "2.5\n"
          ],
          "name": "stdout"
        }
      ]
    },
    {
      "cell_type": "markdown",
      "metadata": {
        "id": "ajwlOSdQfcoN",
        "colab_type": "text"
      },
      "source": [
        "Typecast"
      ]
    },
    {
      "cell_type": "code",
      "metadata": {
        "id": "CNooPsAffiPH",
        "colab_type": "code",
        "colab": {
          "base_uri": "https://localhost:8080/",
          "height": 52
        },
        "outputId": "7b07ffd3-4872-4157-e117-459a3865e3c9"
      },
      "source": [
        "# Division by defaut produces float (decimal numbers) in python\n",
        "print(3/3)\n",
        "print(2/3)"
      ],
      "execution_count": 13,
      "outputs": [
        {
          "output_type": "stream",
          "text": [
            "1.0\n",
            "0.6666666666666666\n"
          ],
          "name": "stdout"
        }
      ]
    },
    {
      "cell_type": "code",
      "metadata": {
        "id": "3fuv5a8xfltF",
        "colab_type": "code",
        "colab": {
          "base_uri": "https://localhost:8080/",
          "height": 52
        },
        "outputId": "a0ddf7e0-309c-4abc-8409-f95c514bd8c1"
      },
      "source": [
        "# We are explicitly informing the compiler that we need the integer version of the output using int()\n",
        "print(int(3/3))\n",
        "print(int(2/3))"
      ],
      "execution_count": 14,
      "outputs": [
        {
          "output_type": "stream",
          "text": [
            "1\n",
            "0\n"
          ],
          "name": "stdout"
        }
      ]
    },
    {
      "cell_type": "code",
      "metadata": {
        "id": "iHaaYJr-goPo",
        "colab_type": "code",
        "colab": {
          "base_uri": "https://localhost:8080/",
          "height": 35
        },
        "outputId": "dc884977-9eda-43f8-8dae-80bccc0b4cbe"
      },
      "source": [
        "print(str(3/3)) \n",
        "# this is not 1.0, rather it is \"1.0\", a string. Use the type() function to know the class type."
      ],
      "execution_count": 15,
      "outputs": [
        {
          "output_type": "stream",
          "text": [
            "1.0\n"
          ],
          "name": "stdout"
        }
      ]
    },
    {
      "cell_type": "code",
      "metadata": {
        "id": "0YvDXvPBgp-Q",
        "colab_type": "code",
        "colab": {
          "base_uri": "https://localhost:8080/",
          "height": 52
        },
        "outputId": "8431bb38-9b3f-4edb-a389-6c9c9c5f28d2"
      },
      "source": [
        "print('2')\n",
        "print(type('2'))"
      ],
      "execution_count": 16,
      "outputs": [
        {
          "output_type": "stream",
          "text": [
            "2\n",
            "<class 'str'>\n"
          ],
          "name": "stdout"
        }
      ]
    },
    {
      "cell_type": "code",
      "metadata": {
        "id": "2p94FANVgvRW",
        "colab_type": "code",
        "colab": {
          "base_uri": "https://localhost:8080/",
          "height": 106
        },
        "outputId": "52cc5d7c-2d83-4637-ebc5-ba22c01a8f49"
      },
      "source": [
        "str1= 'Dell produces good laptops '\n",
        "print(str1)\n",
        "print(str1[2:10]) # from index 2 to 9 (index in Python starts from 0)\n",
        "print(str1[:8])\n",
        "print(str1[10:])\n",
        "print(str1[-3:])  # -1 is last element, so -3 is 3rd element from end (reverse indexing begins from -1, not 0)"
      ],
      "execution_count": 17,
      "outputs": [
        {
          "output_type": "stream",
          "text": [
            "Dell produces good laptops \n",
            "ll produ\n",
            "Dell pro\n",
            "ces good laptops \n",
            "ps \n"
          ],
          "name": "stdout"
        }
      ]
    },
    {
      "cell_type": "code",
      "metadata": {
        "id": "FmhuE8Abgw5N",
        "colab_type": "code",
        "colab": {
          "base_uri": "https://localhost:8080/",
          "height": 88
        },
        "outputId": "9f4fe5f1-c6f0-431c-aade-e141704936f1"
      },
      "source": [
        "str2= 'in India'\n",
        "print(str2[3:])\n",
        "print(str2[-3:])\n",
        "print(str2[:-3])\n",
        "print(str2[-5:-3])"
      ],
      "execution_count": 18,
      "outputs": [
        {
          "output_type": "stream",
          "text": [
            "India\n",
            "dia\n",
            "in In\n",
            "In\n"
          ],
          "name": "stdout"
        }
      ]
    },
    {
      "cell_type": "code",
      "metadata": {
        "id": "f8bUG0Mwgyaf",
        "colab_type": "code",
        "colab": {
          "base_uri": "https://localhost:8080/",
          "height": 35
        },
        "outputId": "b9b49843-6922-4cdb-db61-79444e54e308"
      },
      "source": [
        "str1+str2"
      ],
      "execution_count": 19,
      "outputs": [
        {
          "output_type": "execute_result",
          "data": {
            "application/vnd.google.colaboratory.intrinsic+json": {
              "type": "string"
            },
            "text/plain": [
              "'Dell produces good laptops in India'"
            ]
          },
          "metadata": {
            "tags": []
          },
          "execution_count": 19
        }
      ]
    },
    {
      "cell_type": "code",
      "metadata": {
        "id": "Hgosg_S-gzt2",
        "colab_type": "code",
        "colab": {
          "base_uri": "https://localhost:8080/",
          "height": 185
        },
        "outputId": "ea086a23-9ad8-4e41-8398-e3622f53e2db"
      },
      "source": [
        "# String subtraction is not possible like this. Hence throws an error\n",
        "str1-str2"
      ],
      "execution_count": 20,
      "outputs": [
        {
          "output_type": "error",
          "ename": "TypeError",
          "evalue": "ignored",
          "traceback": [
            "\u001b[0;31m---------------------------------------------------------------------------\u001b[0m",
            "\u001b[0;31mTypeError\u001b[0m                                 Traceback (most recent call last)",
            "\u001b[0;32m<ipython-input-20-dc2ec22f51f0>\u001b[0m in \u001b[0;36m<module>\u001b[0;34m()\u001b[0m\n\u001b[1;32m      1\u001b[0m \u001b[0;31m# String subtraction is not possible like this. Hence throws an error\u001b[0m\u001b[0;34m\u001b[0m\u001b[0;34m\u001b[0m\u001b[0;34m\u001b[0m\u001b[0m\n\u001b[0;32m----> 2\u001b[0;31m \u001b[0mstr1\u001b[0m\u001b[0;34m-\u001b[0m\u001b[0mstr2\u001b[0m\u001b[0;34m\u001b[0m\u001b[0;34m\u001b[0m\u001b[0m\n\u001b[0m",
            "\u001b[0;31mTypeError\u001b[0m: unsupported operand type(s) for -: 'str' and 'str'"
          ]
        }
      ]
    },
    {
      "cell_type": "code",
      "metadata": {
        "id": "ScXMY4qkg1_y",
        "colab_type": "code",
        "colab": {
          "base_uri": "https://localhost:8080/",
          "height": 35
        },
        "outputId": "31ac005d-5a68-4dbd-a696-8cf72885839e"
      },
      "source": [
        "str1*2"
      ],
      "execution_count": 21,
      "outputs": [
        {
          "output_type": "execute_result",
          "data": {
            "application/vnd.google.colaboratory.intrinsic+json": {
              "type": "string"
            },
            "text/plain": [
              "'Dell produces good laptops Dell produces good laptops '"
            ]
          },
          "metadata": {
            "tags": []
          },
          "execution_count": 21
        }
      ]
    },
    {
      "cell_type": "code",
      "metadata": {
        "id": "nhOJAk4Wg33b",
        "colab_type": "code",
        "colab": {
          "base_uri": "https://localhost:8080/",
          "height": 203
        },
        "outputId": "83e2957e-8bf9-476b-b03b-d0385de86ad8"
      },
      "source": [
        "# Error- Multiplying or dividing string with another string is not possible. Hence throws an error\n",
        "str1*str2\n",
        "str1/str2"
      ],
      "execution_count": 22,
      "outputs": [
        {
          "output_type": "error",
          "ename": "TypeError",
          "evalue": "ignored",
          "traceback": [
            "\u001b[0;31m---------------------------------------------------------------------------\u001b[0m",
            "\u001b[0;31mTypeError\u001b[0m                                 Traceback (most recent call last)",
            "\u001b[0;32m<ipython-input-22-b1b1426a8bfb>\u001b[0m in \u001b[0;36m<module>\u001b[0;34m()\u001b[0m\n\u001b[1;32m      1\u001b[0m \u001b[0;31m# Error- Multiplying or dividing string with another string is not possible. Hence throws an error\u001b[0m\u001b[0;34m\u001b[0m\u001b[0;34m\u001b[0m\u001b[0;34m\u001b[0m\u001b[0m\n\u001b[0;32m----> 2\u001b[0;31m \u001b[0mstr1\u001b[0m\u001b[0;34m*\u001b[0m\u001b[0mstr2\u001b[0m\u001b[0;34m\u001b[0m\u001b[0;34m\u001b[0m\u001b[0m\n\u001b[0m\u001b[1;32m      3\u001b[0m \u001b[0mstr1\u001b[0m\u001b[0;34m/\u001b[0m\u001b[0mstr2\u001b[0m\u001b[0;34m\u001b[0m\u001b[0;34m\u001b[0m\u001b[0m\n",
            "\u001b[0;31mTypeError\u001b[0m: can't multiply sequence by non-int of type 'str'"
          ]
        }
      ]
    },
    {
      "cell_type": "code",
      "metadata": {
        "id": "92T2dHD1g5cW",
        "colab_type": "code",
        "colab": {
          "base_uri": "https://localhost:8080/",
          "height": 70
        },
        "outputId": "baf6dba9-cdcf-43ff-ab5f-a094c3c27d33"
      },
      "source": [
        "# All the below statements are the same\n",
        "print(str1+str(3))\n",
        "print(str1+ \"3\" )\n",
        "print(str1+ '3' )"
      ],
      "execution_count": 23,
      "outputs": [
        {
          "output_type": "stream",
          "text": [
            "Dell produces good laptops 3\n",
            "Dell produces good laptops 3\n",
            "Dell produces good laptops 3\n"
          ],
          "name": "stdout"
        }
      ]
    },
    {
      "cell_type": "markdown",
      "metadata": {
        "id": "V8YR9S-hg_-_",
        "colab_type": "text"
      },
      "source": [
        "String functions- lower, upper, title"
      ]
    },
    {
      "cell_type": "code",
      "metadata": {
        "id": "49yawNtYg6-Z",
        "colab_type": "code",
        "colab": {
          "base_uri": "https://localhost:8080/",
          "height": 35
        },
        "outputId": "6140860d-2828-49c3-f4e0-44ae4bec44d5"
      },
      "source": [
        "str1.lower()"
      ],
      "execution_count": 24,
      "outputs": [
        {
          "output_type": "execute_result",
          "data": {
            "application/vnd.google.colaboratory.intrinsic+json": {
              "type": "string"
            },
            "text/plain": [
              "'dell produces good laptops '"
            ]
          },
          "metadata": {
            "tags": []
          },
          "execution_count": 24
        }
      ]
    },
    {
      "cell_type": "code",
      "metadata": {
        "id": "CI_8mhN9hB-4",
        "colab_type": "code",
        "colab": {
          "base_uri": "https://localhost:8080/",
          "height": 35
        },
        "outputId": "28c868a1-7c0c-431d-c239-5d2e24c6b1f6"
      },
      "source": [
        "str1.upper()"
      ],
      "execution_count": 25,
      "outputs": [
        {
          "output_type": "execute_result",
          "data": {
            "application/vnd.google.colaboratory.intrinsic+json": {
              "type": "string"
            },
            "text/plain": [
              "'DELL PRODUCES GOOD LAPTOPS '"
            ]
          },
          "metadata": {
            "tags": []
          },
          "execution_count": 25
        }
      ]
    },
    {
      "cell_type": "code",
      "metadata": {
        "id": "b5hhpD2KhDhq",
        "colab_type": "code",
        "colab": {
          "base_uri": "https://localhost:8080/",
          "height": 35
        },
        "outputId": "bd5c5777-d31a-4178-de90-f5adbb3afb9d"
      },
      "source": [
        "str1.title()"
      ],
      "execution_count": 26,
      "outputs": [
        {
          "output_type": "execute_result",
          "data": {
            "application/vnd.google.colaboratory.intrinsic+json": {
              "type": "string"
            },
            "text/plain": [
              "'Dell Produces Good Laptops '"
            ]
          },
          "metadata": {
            "tags": []
          },
          "execution_count": 26
        }
      ]
    },
    {
      "cell_type": "code",
      "metadata": {
        "id": "NilpCii0hE7c",
        "colab_type": "code",
        "colab": {
          "base_uri": "https://localhost:8080/",
          "height": 35
        },
        "outputId": "70dfb5de-0b15-43d2-dc06-5e56116d60ec"
      },
      "source": [
        "# In str1, we replace 'good' with 'excellent'\n",
        "str1.replace('good', 'excellent')"
      ],
      "execution_count": 27,
      "outputs": [
        {
          "output_type": "execute_result",
          "data": {
            "application/vnd.google.colaboratory.intrinsic+json": {
              "type": "string"
            },
            "text/plain": [
              "'Dell produces excellent laptops '"
            ]
          },
          "metadata": {
            "tags": []
          },
          "execution_count": 27
        }
      ]
    },
    {
      "cell_type": "code",
      "metadata": {
        "id": "HcofN0CAhGuf",
        "colab_type": "code",
        "colab": {
          "base_uri": "https://localhost:8080/",
          "height": 35
        },
        "outputId": "763993c6-d298-40f7-c4e9-ae36290ac485"
      },
      "source": [
        "# The curly brackets are replaced with the variables or values mentioned inside the format(). The replacement is done in the same order as that of variables\n",
        "str3 = '{} is simple. {} is powerful'.format('Python','Python')\n",
        "print(str3)\n",
        "# Format can be used with variables in place of 'Python'. The variables need not be of string type."
      ],
      "execution_count": 28,
      "outputs": [
        {
          "output_type": "stream",
          "text": [
            "Python is simple. Python is powerful\n"
          ],
          "name": "stdout"
        }
      ]
    },
    {
      "cell_type": "code",
      "metadata": {
        "id": "hAsfORQlhI0L",
        "colab_type": "code",
        "colab": {
          "base_uri": "https://localhost:8080/",
          "height": 35
        },
        "outputId": "c0353ed0-d7cc-4329-fc7b-998cc3aa8690"
      },
      "source": [
        "# Joining 2 strings manually. The effort increases when we have many strings\n",
        "\n",
        "pandas_str = 'pandas'\n",
        "numpy_str = 'numpy'\n",
        "print(pandas_str + ', ' + numpy_str)"
      ],
      "execution_count": 29,
      "outputs": [
        {
          "output_type": "stream",
          "text": [
            "pandas, numpy\n"
          ],
          "name": "stdout"
        }
      ]
    },
    {
      "cell_type": "code",
      "metadata": {
        "id": "qc_KBzu_hMHY",
        "colab_type": "code",
        "colab": {
          "base_uri": "https://localhost:8080/",
          "height": 35
        },
        "outputId": "101b6c12-87d8-482a-9758-0f6eab58e22d"
      },
      "source": [
        "# Use the join function to reduce the effort. The ', ' before join() mentions what string to join them with\n",
        "python_libs = ', '.join([pandas_str, numpy_str])\n",
        "print(python_libs)"
      ],
      "execution_count": 30,
      "outputs": [
        {
          "output_type": "stream",
          "text": [
            "pandas, numpy\n"
          ],
          "name": "stdout"
        }
      ]
    },
    {
      "cell_type": "code",
      "metadata": {
        "id": "7OYPuzC7hN8_",
        "colab_type": "code",
        "colab": {
          "base_uri": "https://localhost:8080/",
          "height": 35
        },
        "outputId": "a2131412-87a8-404c-ee80-71656aa3a202"
      },
      "source": [
        "# Strip removes whitepsaces before and after a string\n",
        "str5= '   Football is entertaining      '\n",
        "str5.strip()"
      ],
      "execution_count": 31,
      "outputs": [
        {
          "output_type": "execute_result",
          "data": {
            "application/vnd.google.colaboratory.intrinsic+json": {
              "type": "string"
            },
            "text/plain": [
              "'Football is entertaining'"
            ]
          },
          "metadata": {
            "tags": []
          },
          "execution_count": 31
        }
      ]
    },
    {
      "cell_type": "code",
      "metadata": {
        "id": "0aOaySu8hQWR",
        "colab_type": "code",
        "colab": {
          "base_uri": "https://localhost:8080/",
          "height": 35
        },
        "outputId": "71f03d53-b238-4c6e-dd0e-acd89ea2d32b"
      },
      "source": [
        "# strip whitespaces, lower the string in a single line\n",
        "ugly_mixed_case = '   ThIS LooKs BAd '\n",
        "std_str = ugly_mixed_case.replace('bad', 'good').strip().lower()\n",
        "print(std_str)"
      ],
      "execution_count": 32,
      "outputs": [
        {
          "output_type": "stream",
          "text": [
            "this looks bad\n"
          ],
          "name": "stdout"
        }
      ]
    },
    {
      "cell_type": "code",
      "metadata": {
        "id": "aa4O5kTIhSFv",
        "colab_type": "code",
        "colab": {
          "base_uri": "https://localhost:8080/",
          "height": 35
        },
        "outputId": "4eb5f93d-760e-4c2b-a786-eb9a5ee2ce26"
      },
      "source": [
        "# Strip, lower, and replace parts of string with a single line.\n",
        "std_str = ugly_mixed_case.strip().lower().replace('bad', 'good')\n",
        "print(std_str)"
      ],
      "execution_count": 33,
      "outputs": [
        {
          "output_type": "stream",
          "text": [
            "this looks good\n"
          ],
          "name": "stdout"
        }
      ]
    },
    {
      "cell_type": "code",
      "metadata": {
        "id": "OsdJfC8BhTZt",
        "colab_type": "code",
        "colab": {}
      },
      "source": [
        "# When clubbing multiple functions, compiler executes from left to right. Hence, make sure the order is not mixed up"
      ],
      "execution_count": 34,
      "outputs": []
    },
    {
      "cell_type": "markdown",
      "metadata": {
        "id": "nXj96YW3hXkC",
        "colab_type": "text"
      },
      "source": [
        "### **Lists**\n",
        "Lists are ordered collection of items in Python. Unlike arrays in other language, lists can hold multiple types (classes) of items"
      ]
    },
    {
      "cell_type": "code",
      "metadata": {
        "id": "Vz_JSjiEhVDp",
        "colab_type": "code",
        "colab": {
          "base_uri": "https://localhost:8080/",
          "height": 35
        },
        "outputId": "a66931b7-9c4d-4aaa-ae0c-2639fd261eb8"
      },
      "source": [
        "str1"
      ],
      "execution_count": 35,
      "outputs": [
        {
          "output_type": "execute_result",
          "data": {
            "application/vnd.google.colaboratory.intrinsic+json": {
              "type": "string"
            },
            "text/plain": [
              "'Dell produces good laptops '"
            ]
          },
          "metadata": {
            "tags": []
          },
          "execution_count": 35
        }
      ]
    },
    {
      "cell_type": "code",
      "metadata": {
        "id": "xgfig6BvhrcB",
        "colab_type": "code",
        "colab": {
          "base_uri": "https://localhost:8080/",
          "height": 35
        },
        "outputId": "afb7e612-6d0a-4b1f-cf7b-2764118f91ec"
      },
      "source": [
        "# We create a list of strings from a parent string using the split() command\n",
        "\n",
        "str1.split()\n",
        "# Split by default is based on ' '. We can split based on other characters as well by passing that character as parameter- for eg, str1.split('p') splits string to words when 'p' is encountered"
      ],
      "execution_count": 37,
      "outputs": [
        {
          "output_type": "execute_result",
          "data": {
            "text/plain": [
              "['Dell', 'produces', 'good', 'laptops']"
            ]
          },
          "metadata": {
            "tags": []
          },
          "execution_count": 37
        }
      ]
    },
    {
      "cell_type": "code",
      "metadata": {
        "id": "RNBzzjxLhssR",
        "colab_type": "code",
        "colab": {}
      },
      "source": [
        "# We are using the numpy package here to add NaN value to the list. \n",
        "# If you encounter an error \"no module named numpy\", open cmd, activate your virtual environment (if any), and type \"pip install numpy\", then re-run this cell and it will work fine\n",
        "\n",
        "import numpy\n",
        "l1= [2, 3, 4, 10, 14]\n",
        "l2= [2, 'Justin', 'EY', 5.0, numpy.nan]   #numpy.nan (or NaN in layman terms) is of type float"
      ],
      "execution_count": 38,
      "outputs": []
    },
    {
      "cell_type": "code",
      "metadata": {
        "id": "7ADPjvwSh4Ge",
        "colab_type": "code",
        "colab": {
          "base_uri": "https://localhost:8080/",
          "height": 35
        },
        "outputId": "45ca8106-6724-4afc-cfe8-13c8e9a3228f"
      },
      "source": [
        "# List indexing\n",
        "l2[-3]"
      ],
      "execution_count": 39,
      "outputs": [
        {
          "output_type": "execute_result",
          "data": {
            "application/vnd.google.colaboratory.intrinsic+json": {
              "type": "string"
            },
            "text/plain": [
              "'EY'"
            ]
          },
          "metadata": {
            "tags": []
          },
          "execution_count": 39
        }
      ]
    },
    {
      "cell_type": "code",
      "metadata": {
        "id": "zrh6L1ORh6yN",
        "colab_type": "code",
        "colab": {}
      },
      "source": [
        "# Updating value in list. Do not attempt this for strings as it will throw error. The reason is that strings are immutable while lists are mutable\n",
        "l2[-3]= 'Ernst & Young'"
      ],
      "execution_count": 40,
      "outputs": []
    },
    {
      "cell_type": "code",
      "metadata": {
        "id": "cCwbF70dh8iz",
        "colab_type": "code",
        "colab": {
          "base_uri": "https://localhost:8080/",
          "height": 167
        },
        "outputId": "7f88bfa9-2c35-4ad7-8840-ba99a2123483"
      },
      "source": [
        "str1[-1]= 'r'"
      ],
      "execution_count": 41,
      "outputs": [
        {
          "output_type": "error",
          "ename": "TypeError",
          "evalue": "ignored",
          "traceback": [
            "\u001b[0;31m---------------------------------------------------------------------------\u001b[0m",
            "\u001b[0;31mTypeError\u001b[0m                                 Traceback (most recent call last)",
            "\u001b[0;32m<ipython-input-41-fac8a25d8fbd>\u001b[0m in \u001b[0;36m<module>\u001b[0;34m()\u001b[0m\n\u001b[0;32m----> 1\u001b[0;31m \u001b[0mstr1\u001b[0m\u001b[0;34m[\u001b[0m\u001b[0;34m-\u001b[0m\u001b[0;36m1\u001b[0m\u001b[0;34m]\u001b[0m\u001b[0;34m=\u001b[0m \u001b[0;34m'r'\u001b[0m\u001b[0;34m\u001b[0m\u001b[0;34m\u001b[0m\u001b[0m\n\u001b[0m",
            "\u001b[0;31mTypeError\u001b[0m: 'str' object does not support item assignment"
          ]
        }
      ]
    },
    {
      "cell_type": "code",
      "metadata": {
        "id": "4rqPEYeoh-wo",
        "colab_type": "code",
        "colab": {
          "base_uri": "https://localhost:8080/",
          "height": 35
        },
        "outputId": "d80ca7b4-e616-41f1-e728-e3fbb85b1f1d"
      },
      "source": [
        "l2"
      ],
      "execution_count": 42,
      "outputs": [
        {
          "output_type": "execute_result",
          "data": {
            "text/plain": [
              "[2, 'Justin', 'Ernst & Young', 5.0, nan]"
            ]
          },
          "metadata": {
            "tags": []
          },
          "execution_count": 42
        }
      ]
    },
    {
      "cell_type": "code",
      "metadata": {
        "id": "J-6p14bhiAgl",
        "colab_type": "code",
        "colab": {
          "base_uri": "https://localhost:8080/",
          "height": 106
        },
        "outputId": "22be2466-c84a-4969-a002-50295c5416ed"
      },
      "source": [
        "# For those who are new to for loops, for loop is used for iteration. \n",
        "# In this case, we are using the variable 'val' to iterate through a range 0 to 4. In each iteration, val changes its value\n",
        "for val in range(0,5):\n",
        "    print(val)"
      ],
      "execution_count": 43,
      "outputs": [
        {
          "output_type": "stream",
          "text": [
            "0\n",
            "1\n",
            "2\n",
            "3\n",
            "4\n"
          ],
          "name": "stdout"
        }
      ]
    },
    {
      "cell_type": "code",
      "metadata": {
        "id": "_MqXl-MAiCZc",
        "colab_type": "code",
        "colab": {
          "base_uri": "https://localhost:8080/",
          "height": 106
        },
        "outputId": "9e3725cd-cc96-4868-ea21-3cd06581a47e"
      },
      "source": [
        "# When we iterate through a list instead of a range of numbers (unlike before), val takes each value of the list in each iteration \n",
        "# We can also iterate through strings similarly. If iterating through strings, val takes each character of the string as its value in each iteration.\n",
        "for val in l2:\n",
        "    print(val, type(val))"
      ],
      "execution_count": 44,
      "outputs": [
        {
          "output_type": "stream",
          "text": [
            "2 <class 'int'>\n",
            "Justin <class 'str'>\n",
            "Ernst & Young <class 'str'>\n",
            "5.0 <class 'float'>\n",
            "nan <class 'float'>\n"
          ],
          "name": "stdout"
        }
      ]
    },
    {
      "cell_type": "markdown",
      "metadata": {
        "id": "Y77J6GPliHPo",
        "colab_type": "text"
      },
      "source": [
        "List comprehension"
      ]
    },
    {
      "cell_type": "code",
      "metadata": {
        "id": "uW5GWJlBiD5b",
        "colab_type": "code",
        "colab": {
          "base_uri": "https://localhost:8080/",
          "height": 35
        },
        "outputId": "cfcb945a-e01f-4349-a262-8a0affde545c"
      },
      "source": [
        "# For those who are new to if statements\n",
        "val= 5\n",
        "if (val<10): #checks a condition\n",
        "    print(\"val is less than 10\") #if condition is satisfied, the compiler executes whatever is inside the condition"
      ],
      "execution_count": 45,
      "outputs": [
        {
          "output_type": "stream",
          "text": [
            "val is less than 10\n"
          ],
          "name": "stdout"
        }
      ]
    },
    {
      "cell_type": "code",
      "metadata": {
        "id": "c9YlCErRiGsz",
        "colab_type": "code",
        "colab": {
          "base_uri": "https://localhost:8080/",
          "height": 35
        },
        "outputId": "2dfb191d-65de-4ecb-9890-dbf7ea4660bd"
      },
      "source": [
        "# We are defining a loop to add only 'str' values to a new list l3 from the old list l2\n",
        "\n",
        "l3=[]\n",
        "for i in l2:\n",
        "    if type(i)==str:\n",
        "        l3.append(i)\n",
        "print(l3)\n",
        "\n",
        "# We will be using list comprehension to do this in one line of code"
      ],
      "execution_count": 46,
      "outputs": [
        {
          "output_type": "stream",
          "text": [
            "['Justin', 'Ernst & Young']\n"
          ],
          "name": "stdout"
        }
      ]
    },
    {
      "cell_type": "code",
      "metadata": {
        "id": "48-wYaQlp_0M",
        "colab_type": "code",
        "colab": {
          "base_uri": "https://localhost:8080/",
          "height": 35
        },
        "outputId": "e292f088-acf9-46ea-f2cb-34dcf11adaf3"
      },
      "source": [
        "# This is the list comprehension method of doing the same\n",
        "\n",
        "[i for i in l2 if type(i)==str]"
      ],
      "execution_count": 47,
      "outputs": [
        {
          "output_type": "execute_result",
          "data": {
            "text/plain": [
              "['Justin', 'Ernst & Young']"
            ]
          },
          "metadata": {
            "tags": []
          },
          "execution_count": 47
        }
      ]
    },
    {
      "cell_type": "markdown",
      "metadata": {
        "id": "IFk19PbwqGAF",
        "colab_type": "text"
      },
      "source": [
        "List of lists"
      ]
    },
    {
      "cell_type": "code",
      "metadata": {
        "id": "65ZekygyqB-N",
        "colab_type": "code",
        "colab": {
          "base_uri": "https://localhost:8080/",
          "height": 35
        },
        "outputId": "9b7521cd-57cf-47a7-c114-dc512cbe19da"
      },
      "source": [
        "multi_l1 = [[12.0, 13.3], [0.6, 18.0], [88.0, 1.1, 9.9, 10]]  # two dimensional lists. \n",
        "# Do not perceive it like a 2D array. In 2D array, the length of each individual sub-array should be same. But in lists, there is no compulsion for that.\n",
        "\n",
        "print('first sub-list: {}'.format(multi_l1[0]))"
      ],
      "execution_count": 48,
      "outputs": [
        {
          "output_type": "stream",
          "text": [
            "first sub-list: [12.0, 13.3]\n"
          ],
          "name": "stdout"
        }
      ]
    },
    {
      "cell_type": "code",
      "metadata": {
        "id": "1Kf1TYk_qIDC",
        "colab_type": "code",
        "colab": {
          "base_uri": "https://localhost:8080/",
          "height": 35
        },
        "outputId": "1743bd83-c5b6-4a93-b3e5-3e1f79a5c2bb"
      },
      "source": [
        "# multi_l1[0] is a list by itself. Hence we can index the sublist multi_l1[0]\n",
        "\n",
        "# getting the second element (index 1) of multi_l1[0]\n",
        "multi_l1[0][1]"
      ],
      "execution_count": 49,
      "outputs": [
        {
          "output_type": "execute_result",
          "data": {
            "text/plain": [
              "13.3"
            ]
          },
          "metadata": {
            "tags": []
          },
          "execution_count": 49
        }
      ]
    },
    {
      "cell_type": "markdown",
      "metadata": {
        "id": "EQheX_xKqOFh",
        "colab_type": "text"
      },
      "source": [
        "List methods"
      ]
    },
    {
      "cell_type": "code",
      "metadata": {
        "id": "Ak5co1DYqJqH",
        "colab_type": "code",
        "colab": {}
      },
      "source": [
        "l1= [2, 3, 4, 10, 14]"
      ],
      "execution_count": 50,
      "outputs": []
    },
    {
      "cell_type": "code",
      "metadata": {
        "id": "E96NUs7GqQNU",
        "colab_type": "code",
        "colab": {
          "base_uri": "https://localhost:8080/",
          "height": 35
        },
        "outputId": "c808eab0-0af1-4d42-97d8-fb0f4b88dbdb"
      },
      "source": [
        "# Length of list\n",
        "len(l1)"
      ],
      "execution_count": 51,
      "outputs": [
        {
          "output_type": "execute_result",
          "data": {
            "text/plain": [
              "5"
            ]
          },
          "metadata": {
            "tags": []
          },
          "execution_count": 51
        }
      ]
    },
    {
      "cell_type": "code",
      "metadata": {
        "id": "EB2nFc8zqRvb",
        "colab_type": "code",
        "colab": {
          "base_uri": "https://localhost:8080/",
          "height": 35
        },
        "outputId": "e29a44ae-1761-4f24-89a3-c2cd2f866e0a"
      },
      "source": [
        "# delete an element of list using index\n",
        "del l1[0]\n",
        "print(l1)"
      ],
      "execution_count": 52,
      "outputs": [
        {
          "output_type": "stream",
          "text": [
            "[3, 4, 10, 14]\n"
          ],
          "name": "stdout"
        }
      ]
    },
    {
      "cell_type": "code",
      "metadata": {
        "id": "dX7TxxVfqTK3",
        "colab_type": "code",
        "colab": {
          "base_uri": "https://localhost:8080/",
          "height": 35
        },
        "outputId": "848e56ab-95b1-423e-8f6b-cb1a31f5fa73"
      },
      "source": [
        "# lenght of list of list\n",
        "len(multi_l1)"
      ],
      "execution_count": 53,
      "outputs": [
        {
          "output_type": "execute_result",
          "data": {
            "text/plain": [
              "3"
            ]
          },
          "metadata": {
            "tags": []
          },
          "execution_count": 53
        }
      ]
    },
    {
      "cell_type": "code",
      "metadata": {
        "id": "BOI8a7vAqVRW",
        "colab_type": "code",
        "colab": {}
      },
      "source": [
        "import numpy\n",
        "l2= [2, 'Justin', 'EY', 5.0, numpy.nan, 'Justin']"
      ],
      "execution_count": 67,
      "outputs": []
    },
    {
      "cell_type": "code",
      "metadata": {
        "id": "YR7mimdfqXEo",
        "colab_type": "code",
        "colab": {
          "base_uri": "https://localhost:8080/",
          "height": 35
        },
        "outputId": "0214d60d-b2bb-4c8c-c1b8-6934660c040c"
      },
      "source": [
        "# finding index by giving the element. Finds index of the first occurance of that element\n",
        "l2.index('Justin')"
      ],
      "execution_count": 68,
      "outputs": [
        {
          "output_type": "execute_result",
          "data": {
            "text/plain": [
              "1"
            ]
          },
          "metadata": {
            "tags": []
          },
          "execution_count": 68
        }
      ]
    },
    {
      "cell_type": "code",
      "metadata": {
        "id": "Fv9WRvo6qYdI",
        "colab_type": "code",
        "colab": {
          "base_uri": "https://localhost:8080/",
          "height": 35
        },
        "outputId": "142a0b9c-1131-494f-fe5a-32da4f3d8575"
      },
      "source": [
        "# Add new entry to end of list\n",
        "l2.append('newentry')\n",
        "l2"
      ],
      "execution_count": 69,
      "outputs": [
        {
          "output_type": "execute_result",
          "data": {
            "text/plain": [
              "[2, 'Justin', 'EY', 5.0, nan, 'Justin', 'newentry']"
            ]
          },
          "metadata": {
            "tags": []
          },
          "execution_count": 69
        }
      ]
    },
    {
      "cell_type": "code",
      "metadata": {
        "id": "OVqNlSKcqbPE",
        "colab_type": "code",
        "colab": {}
      },
      "source": [
        "# Insert new entry to specified index\n",
        "l2.insert(3, 'third')"
      ],
      "execution_count": 70,
      "outputs": []
    },
    {
      "cell_type": "code",
      "metadata": {
        "id": "pv_qmPkSqdnu",
        "colab_type": "code",
        "colab": {
          "base_uri": "https://localhost:8080/",
          "height": 35
        },
        "outputId": "fb9176ab-b63f-4147-df44-709abb4d3e30"
      },
      "source": [
        "# Extend the list using elements of an iterable datatype- Here, 'again' is string which is iterable- 'a', 'g', 'a', 'i', 'n'\n",
        "l2.extend('again')\n",
        "print(l2)"
      ],
      "execution_count": 71,
      "outputs": [
        {
          "output_type": "stream",
          "text": [
            "[2, 'Justin', 'EY', 'third', 5.0, nan, 'Justin', 'newentry', 'a', 'g', 'a', 'i', 'n']\n"
          ],
          "name": "stdout"
        }
      ]
    },
    {
      "cell_type": "code",
      "metadata": {
        "id": "ruoSAIrLqicq",
        "colab_type": "code",
        "colab": {
          "base_uri": "https://localhost:8080/",
          "height": 35
        },
        "outputId": "82f22ff4-80d6-49ac-cc77-6b9ff0e0ac16"
      },
      "source": [
        "# Extend makes sense when we want to add values of a list to another list\n",
        "l2.extend(['again', 'new', 'list'])\n",
        "print(l2)"
      ],
      "execution_count": 72,
      "outputs": [
        {
          "output_type": "stream",
          "text": [
            "[2, 'Justin', 'EY', 'third', 5.0, nan, 'Justin', 'newentry', 'a', 'g', 'a', 'i', 'n', 'again', 'new', 'list']\n"
          ],
          "name": "stdout"
        }
      ]
    },
    {
      "cell_type": "code",
      "metadata": {
        "id": "LjQYG_tyqkmd",
        "colab_type": "code",
        "colab": {
          "base_uri": "https://localhost:8080/",
          "height": 35
        },
        "outputId": "95972c7c-c15c-48f9-9a01-762ff49234ee"
      },
      "source": [
        "# Counting number of times an element is in the list\n",
        "l2.count('a')"
      ],
      "execution_count": 73,
      "outputs": [
        {
          "output_type": "execute_result",
          "data": {
            "text/plain": [
              "2"
            ]
          },
          "metadata": {
            "tags": []
          },
          "execution_count": 73
        }
      ]
    },
    {
      "cell_type": "code",
      "metadata": {
        "id": "T9osO6CiqmYT",
        "colab_type": "code",
        "colab": {
          "base_uri": "https://localhost:8080/",
          "height": 35
        },
        "outputId": "64545ac3-2245-41fc-ca3f-7eda119c7cc8"
      },
      "source": [
        "# 'a' has multiple occurance in the list. Index returns the index of first occurance\n",
        "l2.index('a')"
      ],
      "execution_count": 74,
      "outputs": [
        {
          "output_type": "execute_result",
          "data": {
            "text/plain": [
              "8"
            ]
          },
          "metadata": {
            "tags": []
          },
          "execution_count": 74
        }
      ]
    },
    {
      "cell_type": "code",
      "metadata": {
        "id": "pCS6q4w2qqfB",
        "colab_type": "code",
        "colab": {
          "base_uri": "https://localhost:8080/",
          "height": 35
        },
        "outputId": "a5b51a6d-a79c-47cf-f140-7ccd7b45cd41"
      },
      "source": [
        "print(l2)"
      ],
      "execution_count": 75,
      "outputs": [
        {
          "output_type": "stream",
          "text": [
            "[2, 'Justin', 'EY', 'third', 5.0, nan, 'Justin', 'newentry', 'a', 'g', 'a', 'i', 'n', 'again', 'new', 'list']\n"
          ],
          "name": "stdout"
        }
      ]
    },
    {
      "cell_type": "code",
      "metadata": {
        "id": "Fq_pcH_eqsU_",
        "colab_type": "code",
        "colab": {
          "base_uri": "https://localhost:8080/",
          "height": 35
        },
        "outputId": "33d76c77-e5bb-4133-cd6f-dfde398cd48c"
      },
      "source": [
        "# To remove an element from list. The first occurance of the item is removed\n",
        "l2.remove('Justin')\n",
        "print(l2)"
      ],
      "execution_count": 76,
      "outputs": [
        {
          "output_type": "stream",
          "text": [
            "[2, 'EY', 'third', 5.0, nan, 'Justin', 'newentry', 'a', 'g', 'a', 'i', 'n', 'again', 'new', 'list']\n"
          ],
          "name": "stdout"
        }
      ]
    },
    {
      "cell_type": "code",
      "metadata": {
        "id": "jnWImBoTquHX",
        "colab_type": "code",
        "colab": {
          "base_uri": "https://localhost:8080/",
          "height": 35
        },
        "outputId": "972d59c0-7ee9-4a9b-a5df-ef7656a5b227"
      },
      "source": [
        "# To remove all occurances of an element\n",
        "l2= [x for x in l2 if x != 'a']\n",
        "print(l2)"
      ],
      "execution_count": 77,
      "outputs": [
        {
          "output_type": "stream",
          "text": [
            "[2, 'EY', 'third', 5.0, nan, 'Justin', 'newentry', 'g', 'i', 'n', 'again', 'new', 'list']\n"
          ],
          "name": "stdout"
        }
      ]
    },
    {
      "cell_type": "code",
      "metadata": {
        "id": "f7Abh4oGq98E",
        "colab_type": "code",
        "colab": {
          "base_uri": "https://localhost:8080/",
          "height": 221
        },
        "outputId": "4404bd5e-e049-4294-fdad-dde9cb3f7580"
      },
      "source": [
        "# Why using an if statement is needed\n",
        "# We cant remove 'a' as 'a' does not exist in the list- hence throws an error\n",
        "l2.remove('a')\n",
        "# Hence, we need to check if 'a' exists in the list, if so, use the remove() function "
      ],
      "execution_count": 78,
      "outputs": [
        {
          "output_type": "error",
          "ename": "ValueError",
          "evalue": "ignored",
          "traceback": [
            "\u001b[0;31m---------------------------------------------------------------------------\u001b[0m",
            "\u001b[0;31mValueError\u001b[0m                                Traceback (most recent call last)",
            "\u001b[0;32m<ipython-input-78-3540482ca2a4>\u001b[0m in \u001b[0;36m<module>\u001b[0;34m()\u001b[0m\n\u001b[1;32m      1\u001b[0m \u001b[0;31m# Why using an if statement is needed\u001b[0m\u001b[0;34m\u001b[0m\u001b[0;34m\u001b[0m\u001b[0;34m\u001b[0m\u001b[0m\n\u001b[1;32m      2\u001b[0m \u001b[0;31m# We cant remove 'a' as 'a' does not exist in the list- hence throws an error\u001b[0m\u001b[0;34m\u001b[0m\u001b[0;34m\u001b[0m\u001b[0;34m\u001b[0m\u001b[0m\n\u001b[0;32m----> 3\u001b[0;31m \u001b[0ml2\u001b[0m\u001b[0;34m.\u001b[0m\u001b[0mremove\u001b[0m\u001b[0;34m(\u001b[0m\u001b[0;34m'a'\u001b[0m\u001b[0;34m)\u001b[0m\u001b[0;34m\u001b[0m\u001b[0;34m\u001b[0m\u001b[0m\n\u001b[0m\u001b[1;32m      4\u001b[0m \u001b[0;31m# Hence, we need to check if 'a' exists in the list, if so, use the remove() function\u001b[0m\u001b[0;34m\u001b[0m\u001b[0;34m\u001b[0m\u001b[0;34m\u001b[0m\u001b[0m\n",
            "\u001b[0;31mValueError\u001b[0m: list.remove(x): x not in list"
          ]
        }
      ]
    },
    {
      "cell_type": "code",
      "metadata": {
        "id": "JBmZrDLYrAe1",
        "colab_type": "code",
        "colab": {
          "base_uri": "https://localhost:8080/",
          "height": 35
        },
        "outputId": "22503c40-5b24-4fde-92ab-9b555de8000e"
      },
      "source": [
        "# Using a check for existance of element before attempting for remove it\n",
        "\n",
        "if ('a' in l2):\n",
        "    l2.remove('a')\n",
        "else:\n",
        "    print(\"'a' does not exist\")"
      ],
      "execution_count": 79,
      "outputs": [
        {
          "output_type": "stream",
          "text": [
            "'a' does not exist\n"
          ],
          "name": "stdout"
        }
      ]
    },
    {
      "cell_type": "code",
      "metadata": {
        "id": "BLil6SYQrCbq",
        "colab_type": "code",
        "colab": {
          "base_uri": "https://localhost:8080/",
          "height": 35
        },
        "outputId": "1b38e9b1-de78-47e2-d96f-519542f8ba3f"
      },
      "source": [
        "# pop out the last element in list. That element gets removed from list\n",
        "l2.pop()"
      ],
      "execution_count": 80,
      "outputs": [
        {
          "output_type": "execute_result",
          "data": {
            "application/vnd.google.colaboratory.intrinsic+json": {
              "type": "string"
            },
            "text/plain": [
              "'list'"
            ]
          },
          "metadata": {
            "tags": []
          },
          "execution_count": 80
        }
      ]
    },
    {
      "cell_type": "code",
      "metadata": {
        "id": "pwAwaVJjrGc2",
        "colab_type": "code",
        "colab": {
          "base_uri": "https://localhost:8080/",
          "height": 35
        },
        "outputId": "95c465c2-dc5d-4118-c309-b8eeaae0ec74"
      },
      "source": [
        "print(l2)"
      ],
      "execution_count": 81,
      "outputs": [
        {
          "output_type": "stream",
          "text": [
            "[2, 'EY', 'third', 5.0, nan, 'Justin', 'newentry', 'g', 'i', 'n', 'again', 'new']\n"
          ],
          "name": "stdout"
        }
      ]
    },
    {
      "cell_type": "code",
      "metadata": {
        "id": "YeLjMtBQrIM8",
        "colab_type": "code",
        "colab": {
          "base_uri": "https://localhost:8080/",
          "height": 35
        },
        "outputId": "86810adc-b8cb-4db7-cb5e-c917fbd16a09"
      },
      "source": [
        "# To reverse the list\n",
        "l2.reverse()\n",
        "print(l2)"
      ],
      "execution_count": 82,
      "outputs": [
        {
          "output_type": "stream",
          "text": [
            "['new', 'again', 'n', 'i', 'g', 'newentry', 'Justin', nan, 5.0, 'third', 'EY', 2]\n"
          ],
          "name": "stdout"
        }
      ]
    },
    {
      "cell_type": "code",
      "metadata": {
        "id": "e40Pt5xwsm1j",
        "colab_type": "code",
        "colab": {
          "base_uri": "https://localhost:8080/",
          "height": 35
        },
        "outputId": "6d2e150c-cb2d-44e8-ca63-77066abd60ab"
      },
      "source": [
        "# Another way to reverse the list. But this returns a reverseiterator which has to typecasted as list to view the reversed list\n",
        "print(list(reversed([1,2,-4, 8*5, -100])))"
      ],
      "execution_count": 83,
      "outputs": [
        {
          "output_type": "stream",
          "text": [
            "[-100, 40, -4, 2, 1]\n"
          ],
          "name": "stdout"
        }
      ]
    },
    {
      "cell_type": "code",
      "metadata": {
        "id": "zTBHxRY_rJ9s",
        "colab_type": "code",
        "colab": {
          "base_uri": "https://localhost:8080/",
          "height": 88
        },
        "outputId": "49b4212d-155d-41f1-8f4e-16f19b41b66a"
      },
      "source": [
        "# To sort the list\n",
        "print(sorted([1,2,-4, 8*5, -100]))\n",
        "# Sort in descending\n",
        "print(sorted([1,2,-4, 8*5, -100], reverse=True) )\n",
        "# Sort in descending, another way\n",
        "print( list(reversed(sorted([1,2,-4, 8*5, -100]))) )\n",
        "# Sort another way\n",
        "l5= [1,2,-4, 8*5, -100]\n",
        "l5.sort(reverse=True)\n",
        "print(l5)"
      ],
      "execution_count": 84,
      "outputs": [
        {
          "output_type": "stream",
          "text": [
            "[-100, -4, 1, 2, 40]\n",
            "[40, 2, 1, -4, -100]\n",
            "[40, 2, 1, -4, -100]\n",
            "[40, 2, 1, -4, -100]\n"
          ],
          "name": "stdout"
        }
      ]
    },
    {
      "cell_type": "markdown",
      "metadata": {
        "id": "tAwdw7eSs3lW",
        "colab_type": "text"
      },
      "source": [
        "###### Numbers, strings, and tuples are immutable. Lists, dictionaries, and sets are mutable (We are referring to the mutability of values. Changing the values the variable points to is not mutability.). Mutability should be dealt with care."
      ]
    },
    {
      "cell_type": "code",
      "metadata": {
        "id": "yuXLCes1sv36",
        "colab_type": "code",
        "colab": {
          "base_uri": "https://localhost:8080/",
          "height": 35
        },
        "outputId": "eb756060-37ee-484d-adc4-2bb74682f1d8"
      },
      "source": [
        "# We could remove, insert, delete etc. from an existing list- hence they are mutable.\n",
        "print(l2)"
      ],
      "execution_count": 85,
      "outputs": [
        {
          "output_type": "stream",
          "text": [
            "['new', 'again', 'n', 'i', 'g', 'newentry', 'Justin', nan, 5.0, 'third', 'EY', 2]\n"
          ],
          "name": "stdout"
        }
      ]
    },
    {
      "cell_type": "code",
      "metadata": {
        "id": "K1ah8Zd6tH6X",
        "colab_type": "code",
        "colab": {
          "base_uri": "https://localhost:8080/",
          "height": 52
        },
        "outputId": "65af6410-6500-4db9-f59f-654eecbd2b58"
      },
      "source": [
        "check1= l2\n",
        "\n",
        "l2[0]= 'new entry'\n",
        "print(\"Check1 is \",check1)\n",
        "print(\"l2 is     \",l2)\n",
        "# The output proves that when we write list1=list2, we are not creating copies of lists. Rather, both list1 and list2 point to the same list\n",
        "# Hence, if we change one of them, the other will also be changed"
      ],
      "execution_count": 86,
      "outputs": [
        {
          "output_type": "stream",
          "text": [
            "Check1 is  ['new entry', 'again', 'n', 'i', 'g', 'newentry', 'Justin', nan, 5.0, 'third', 'EY', 2]\n",
            "l2 is      ['new entry', 'again', 'n', 'i', 'g', 'newentry', 'Justin', nan, 5.0, 'third', 'EY', 2]\n"
          ],
          "name": "stdout"
        }
      ]
    },
    {
      "cell_type": "code",
      "metadata": {
        "id": "ixx4Tu7ntaOa",
        "colab_type": "code",
        "colab": {
          "base_uri": "https://localhost:8080/",
          "height": 52
        },
        "outputId": "0e0c1928-47b7-4903-c5c0-3314c8cbfae9"
      },
      "source": [
        "check2= l2.copy()  # or use list(l2) to create a copy\n",
        "check2[0]= 'changed entry'\n",
        "print(\"Check2 is \",check2)\n",
        "print(\"l2 is     \",l2)"
      ],
      "execution_count": 87,
      "outputs": [
        {
          "output_type": "stream",
          "text": [
            "Check2 is  ['changed entry', 'again', 'n', 'i', 'g', 'newentry', 'Justin', nan, 5.0, 'third', 'EY', 2]\n",
            "l2 is      ['new entry', 'again', 'n', 'i', 'g', 'newentry', 'Justin', nan, 5.0, 'third', 'EY', 2]\n"
          ],
          "name": "stdout"
        }
      ]
    },
    {
      "cell_type": "code",
      "metadata": {
        "id": "RbeO3uQ_tgmR",
        "colab_type": "code",
        "colab": {
          "base_uri": "https://localhost:8080/",
          "height": 52
        },
        "outputId": "524521d7-9962-4ed4-a793-6b2cea34dd51"
      },
      "source": [
        "# Immutable datatypes don't require .copy() Infact, if we attempt .copy() on immutable ones, it throws an error. \n",
        "a= 5\n",
        "b= a   # b=a creates a new variable with value as that of a, and assigns it to b. Hence, changing a or b wont change the other.\n",
        "a= 6\n",
        "print(\"a is \", a)\n",
        "print(\"b is \", b)"
      ],
      "execution_count": 88,
      "outputs": [
        {
          "output_type": "stream",
          "text": [
            "a is  6\n",
            "b is  5\n"
          ],
          "name": "stdout"
        }
      ]
    },
    {
      "cell_type": "code",
      "metadata": {
        "id": "Ys88HCNCtwzo",
        "colab_type": "code",
        "colab": {}
      },
      "source": [
        "\n",
        "#Lists are ordered collection of items in Python. Unlike arrays in other language, lists can hold multiple types (classes) of items"
      ],
      "execution_count": 89,
      "outputs": []
    },
    {
      "cell_type": "markdown",
      "metadata": {
        "id": "-_0adBPHuED3",
        "colab_type": "text"
      },
      "source": [
        "## **Dictionary** \n",
        "Lists had indices 0,1,2 etc. Dictionary can be understood as lists whose indices are specified- so instead of 0,1,2 the indices are user specified. Indices of a dictionary are called 'keys'"
      ]
    },
    {
      "cell_type": "code",
      "metadata": {
        "id": "Oy3-DPn9t6Q8",
        "colab_type": "code",
        "colab": {
          "base_uri": "https://localhost:8080/",
          "height": 35
        },
        "outputId": "8b330b61-3a65-40a9-cd88-b66aa259afd5"
      },
      "source": [
        "dict1 = {}  # alternative: my_empty_dict = dict()\n",
        "print(dict1)"
      ],
      "execution_count": 90,
      "outputs": [
        {
          "output_type": "stream",
          "text": [
            "{}\n"
          ],
          "name": "stdout"
        }
      ]
    },
    {
      "cell_type": "code",
      "metadata": {
        "id": "XZ5r-eWjubs-",
        "colab_type": "code",
        "colab": {
          "base_uri": "https://localhost:8080/",
          "height": 88
        },
        "outputId": "0ca90e94-63c7-462d-abd1-07a07d191580"
      },
      "source": [
        "# 2 ways to delare a dictionary\n",
        "dict1 = {'value1': 1.6, 'value2': 10, 'name': 'Jane Doe'}\n",
        "dict2 = dict(value1=1.6, value2=10, name='Jane Doe')\n",
        "\n",
        "print(dict1)\n",
        "print(dict2)\n",
        "\n",
        "# Check if these 2 dictionaries are equal\n",
        "print('equal: {}'.format(dict1 == dict2))\n",
        "print('length: {}'.format(len(dict1)))"
      ],
      "execution_count": 91,
      "outputs": [
        {
          "output_type": "stream",
          "text": [
            "{'value1': 1.6, 'value2': 10, 'name': 'Jane Doe'}\n",
            "{'value1': 1.6, 'value2': 10, 'name': 'Jane Doe'}\n",
            "equal: True\n",
            "length: 3\n"
          ],
          "name": "stdout"
        }
      ]
    },
    {
      "cell_type": "code",
      "metadata": {
        "id": "2eW2Mr81udHu",
        "colab_type": "code",
        "colab": {
          "base_uri": "https://localhost:8080/",
          "height": 185
        },
        "outputId": "1b22eb70-82c7-4233-9e28-6e6427169e41"
      },
      "source": [
        "# To get the first value of a dictionary, we need to know the key, not the index\n",
        "dict1[0]"
      ],
      "execution_count": 92,
      "outputs": [
        {
          "output_type": "error",
          "ename": "KeyError",
          "evalue": "ignored",
          "traceback": [
            "\u001b[0;31m---------------------------------------------------------------------------\u001b[0m",
            "\u001b[0;31mKeyError\u001b[0m                                  Traceback (most recent call last)",
            "\u001b[0;32m<ipython-input-92-d9017d842f73>\u001b[0m in \u001b[0;36m<module>\u001b[0;34m()\u001b[0m\n\u001b[1;32m      1\u001b[0m \u001b[0;31m# To get the first value of a dictionary, we need to know the key, not the index\u001b[0m\u001b[0;34m\u001b[0m\u001b[0;34m\u001b[0m\u001b[0;34m\u001b[0m\u001b[0m\n\u001b[0;32m----> 2\u001b[0;31m \u001b[0mdict1\u001b[0m\u001b[0;34m[\u001b[0m\u001b[0;36m0\u001b[0m\u001b[0;34m]\u001b[0m\u001b[0;34m\u001b[0m\u001b[0;34m\u001b[0m\u001b[0m\n\u001b[0m",
            "\u001b[0;31mKeyError\u001b[0m: 0"
          ]
        }
      ]
    },
    {
      "cell_type": "code",
      "metadata": {
        "id": "HLUDSnskufEp",
        "colab_type": "code",
        "colab": {
          "base_uri": "https://localhost:8080/",
          "height": 35
        },
        "outputId": "8aed6782-1f97-45ce-d9ca-ce554bef7890"
      },
      "source": [
        "dict1['value1']"
      ],
      "execution_count": 93,
      "outputs": [
        {
          "output_type": "execute_result",
          "data": {
            "text/plain": [
              "1.6"
            ]
          },
          "metadata": {
            "tags": []
          },
          "execution_count": 93
        }
      ]
    },
    {
      "cell_type": "code",
      "metadata": {
        "id": "sjbqLONeugiY",
        "colab_type": "code",
        "colab": {
          "base_uri": "https://localhost:8080/",
          "height": 70
        },
        "outputId": "698a0767-f09f-4d10-f9d7-16b31ef386a8"
      },
      "source": [
        "print('keys: {}'.format(dict1.keys()))\n",
        "print('values: {}'.format(dict1.values()))\n",
        "\n",
        "# Items means a combination of keys and values\n",
        "print('items: {}'.format(dict1.items()))"
      ],
      "execution_count": 94,
      "outputs": [
        {
          "output_type": "stream",
          "text": [
            "keys: dict_keys(['value1', 'value2', 'name'])\n",
            "values: dict_values([1.6, 10, 'Jane Doe'])\n",
            "items: dict_items([('value1', 1.6), ('value2', 10), ('name', 'Jane Doe')])\n"
          ],
          "name": "stdout"
        }
      ]
    },
    {
      "cell_type": "code",
      "metadata": {
        "id": "wbSs5MTSu4Ye",
        "colab_type": "code",
        "colab": {
          "base_uri": "https://localhost:8080/",
          "height": 35
        },
        "outputId": "cb37a950-2177-441b-99ae-6d2dfedbcf52"
      },
      "source": [
        "# Dictionaries are mutable like lists\n",
        "my_dict = {}\n",
        "my_dict['key1'] = 'value1'\n",
        "my_dict['key2'] = 99\n",
        "my_dict['key1'] = 'new value'  # overriding existing value\n",
        "print(my_dict)"
      ],
      "execution_count": 95,
      "outputs": [
        {
          "output_type": "stream",
          "text": [
            "{'key1': 'new value', 'key2': 99}\n"
          ],
          "name": "stdout"
        }
      ]
    },
    {
      "cell_type": "code",
      "metadata": {
        "id": "IGmXXY72u6LV",
        "colab_type": "code",
        "colab": {
          "base_uri": "https://localhost:8080/",
          "height": 35
        },
        "outputId": "a503cfd4-e8f5-4fc2-c911-4f7d8fbcd7c6"
      },
      "source": [
        "my_dict = {'key1': 'value1', 'key2': 99, 'keyX': 'valueX'}\n",
        "# Since mutable, their elements can be deleted. Lists used the index to delete elements, for dictionaries, we use keys\n",
        "del my_dict['keyX']\n",
        "print(my_dict)"
      ],
      "execution_count": 96,
      "outputs": [
        {
          "output_type": "stream",
          "text": [
            "{'key1': 'value1', 'key2': 99}\n"
          ],
          "name": "stdout"
        }
      ]
    },
    {
      "cell_type": "code",
      "metadata": {
        "id": "CSTjaiV5u7h-",
        "colab_type": "code",
        "colab": {
          "base_uri": "https://localhost:8080/",
          "height": 52
        },
        "outputId": "805e3035-bc11-4446-b681-cec9e8d11e6f"
      },
      "source": [
        "my_dict = {'a': 1, 'b': 2, 'c': 3}\n",
        "# get() is used to fetch the value in a dictionary using its key\n",
        "print(my_dict.get('d'))\n",
        "print(my_dict.get('b'))"
      ],
      "execution_count": 97,
      "outputs": [
        {
          "output_type": "stream",
          "text": [
            "None\n",
            "2\n"
          ],
          "name": "stdout"
        }
      ]
    },
    {
      "cell_type": "code",
      "metadata": {
        "id": "R8DwJpt6u9CM",
        "colab_type": "code",
        "colab": {
          "base_uri": "https://localhost:8080/",
          "height": 70
        },
        "outputId": "d8f1574b-8d02-4afe-ee30-c5421eae0e6d"
      },
      "source": [
        "my_dict = {'a': 1, 'b': 2, 'c': 3}\n",
        "a_value = my_dict.setdefault('a', 'my default value') # same as my_dict['a'] or my_dict.get('a'), but setdefault() adds item to the list if this key is not present in list\n",
        "print(a_value)\n",
        "d_value = my_dict.setdefault('d', 'd_value')\n",
        "print(d_value)\n",
        "print(my_dict)"
      ],
      "execution_count": 98,
      "outputs": [
        {
          "output_type": "stream",
          "text": [
            "1\n",
            "d_value\n",
            "{'a': 1, 'b': 2, 'c': 3, 'd': 'd_value'}\n"
          ],
          "name": "stdout"
        }
      ]
    },
    {
      "cell_type": "code",
      "metadata": {
        "id": "R2IUNToLvB7b",
        "colab_type": "code",
        "colab": {
          "base_uri": "https://localhost:8080/",
          "height": 52
        },
        "outputId": "2040dbb4-14d9-4d3a-d2e3-118c55ababe3"
      },
      "source": [
        "# Update is used to add elements of a list to another list, or to update the value the value of an existing key in the list\n",
        "dict1 = {'a': 1, 'b': 2}\n",
        "dict2 = {'c': 3}\n",
        "dict1.update(dict2)\n",
        "print(dict1)\n",
        "\n",
        "# If they have same keys:\n",
        "dict1.update({'c': 4})\n",
        "print(dict1)"
      ],
      "execution_count": 99,
      "outputs": [
        {
          "output_type": "stream",
          "text": [
            "{'a': 1, 'b': 2, 'c': 3}\n",
            "{'a': 1, 'b': 2, 'c': 4}\n"
          ],
          "name": "stdout"
        }
      ]
    },
    {
      "cell_type": "markdown",
      "metadata": {
        "id": "-bk8aMd6vKpo",
        "colab_type": "text"
      },
      "source": [
        "The keys of a dict have to be immutable. Hence we can't have keys as lists or sets or another dict. Keys should be of immutable datatypes like int, string etc. "
      ]
    },
    {
      "cell_type": "code",
      "metadata": {
        "id": "c5402IuKvPhQ",
        "colab_type": "code",
        "colab": {
          "base_uri": "https://localhost:8080/",
          "height": 185
        },
        "outputId": "441109ea-cb42-41ea-b421-47f51c4bcf33"
      },
      "source": [
        "# Attempt to create a dictionary with list as key\n",
        "dict1= {['a']:1}"
      ],
      "execution_count": 100,
      "outputs": [
        {
          "output_type": "error",
          "ename": "TypeError",
          "evalue": "ignored",
          "traceback": [
            "\u001b[0;31m---------------------------------------------------------------------------\u001b[0m",
            "\u001b[0;31mTypeError\u001b[0m                                 Traceback (most recent call last)",
            "\u001b[0;32m<ipython-input-100-3d3dd8678788>\u001b[0m in \u001b[0;36m<module>\u001b[0;34m()\u001b[0m\n\u001b[1;32m      1\u001b[0m \u001b[0;31m# Attempt to create a dictionary with list as key\u001b[0m\u001b[0;34m\u001b[0m\u001b[0;34m\u001b[0m\u001b[0;34m\u001b[0m\u001b[0m\n\u001b[0;32m----> 2\u001b[0;31m \u001b[0mdict1\u001b[0m\u001b[0;34m=\u001b[0m \u001b[0;34m{\u001b[0m\u001b[0;34m[\u001b[0m\u001b[0;34m'a'\u001b[0m\u001b[0;34m]\u001b[0m\u001b[0;34m:\u001b[0m\u001b[0;36m1\u001b[0m\u001b[0;34m}\u001b[0m\u001b[0;34m\u001b[0m\u001b[0;34m\u001b[0m\u001b[0m\n\u001b[0m",
            "\u001b[0;31mTypeError\u001b[0m: unhashable type: 'list'"
          ]
        }
      ]
    },
    {
      "cell_type": "code",
      "metadata": {
        "id": "C8BMzB4wvduE",
        "colab_type": "code",
        "colab": {
          "base_uri": "https://localhost:8080/",
          "height": 35
        },
        "outputId": "569b1e0c-efd9-4cbe-800e-7f7058f77cfa"
      },
      "source": [
        "dict1= {1: ['Python', 'is', 'simple']}\n",
        "print(dict1)"
      ],
      "execution_count": 101,
      "outputs": [
        {
          "output_type": "stream",
          "text": [
            "{1: ['Python', 'is', 'simple']}\n"
          ],
          "name": "stdout"
        }
      ]
    },
    {
      "cell_type": "code",
      "metadata": {
        "id": "KB2_zmrRvgFE",
        "colab_type": "code",
        "colab": {
          "base_uri": "https://localhost:8080/",
          "height": 35
        },
        "outputId": "ad92e22b-0f96-420c-c3c2-6b85adc90651"
      },
      "source": [
        "# Dictionary comprehensions\n",
        "numbers = (1, 5, 10)\n",
        "squares = {num: num**2 for num in numbers}\n",
        "print(squares)"
      ],
      "execution_count": 102,
      "outputs": [
        {
          "output_type": "stream",
          "text": [
            "{1: 1, 5: 25, 10: 100}\n"
          ],
          "name": "stdout"
        }
      ]
    },
    {
      "cell_type": "code",
      "metadata": {
        "id": "69YU96hUvk0O",
        "colab_type": "code",
        "colab": {
          "base_uri": "https://localhost:8080/",
          "height": 35
        },
        "outputId": "4ac17a43-1127-48b6-b026-7079b5d7a643"
      },
      "source": [
        "# Zip for dictionary\n",
        "# Zip is use to create a dictionary from 2 iterable objects (like lists, tuples etc.)\n",
        "keys = ('a', 'b', 'c')\n",
        "values = [True, 100, 'John Doe']\n",
        "my_dict = {k: v for k, v in zip(keys, values)}\n",
        "print(my_dict)"
      ],
      "execution_count": 103,
      "outputs": [
        {
          "output_type": "stream",
          "text": [
            "{'a': True, 'b': 100, 'c': 'John Doe'}\n"
          ],
          "name": "stdout"
        }
      ]
    },
    {
      "cell_type": "markdown",
      "metadata": {
        "id": "awq_emrgvrUk",
        "colab_type": "text"
      },
      "source": [
        "### For loops"
      ]
    },
    {
      "cell_type": "code",
      "metadata": {
        "id": "piQTzhVuvn6n",
        "colab_type": "code",
        "colab": {
          "base_uri": "https://localhost:8080/",
          "height": 106
        },
        "outputId": "898062ba-98a3-4128-bf88-722fa9b46edf"
      },
      "source": [
        "# Lists\n",
        "my_list = ['Python', 'is', 'a', 'neat', 'language']\n",
        "for item in my_list:\n",
        "    print(item)"
      ],
      "execution_count": 104,
      "outputs": [
        {
          "output_type": "stream",
          "text": [
            "Python\n",
            "is\n",
            "a\n",
            "neat\n",
            "language\n"
          ],
          "name": "stdout"
        }
      ]
    },
    {
      "cell_type": "code",
      "metadata": {
        "id": "MDNHmyqEvxMK",
        "colab_type": "code",
        "colab": {
          "base_uri": "https://localhost:8080/",
          "height": 106
        },
        "outputId": "1e2ccdc0-f830-4f04-ef06-726c774abda9"
      },
      "source": [
        "# To iterate through indices and values at the same time, use enumerate()\n",
        "for idx, val in enumerate(my_list):\n",
        "    print(idx, val)"
      ],
      "execution_count": 105,
      "outputs": [
        {
          "output_type": "stream",
          "text": [
            "0 Python\n",
            "1 is\n",
            "2 a\n",
            "3 neat\n",
            "4 language\n"
          ],
          "name": "stdout"
        }
      ]
    },
    {
      "cell_type": "code",
      "metadata": {
        "id": "Gco8Nmgmvyn2",
        "colab_type": "code",
        "colab": {
          "base_uri": "https://localhost:8080/",
          "height": 70
        },
        "outputId": "e677d2d2-ce71-4efa-8a5e-d2b2330cecf1"
      },
      "source": [
        "# break out of a loop using a condition. As 'break' causes the compiler to break out of a loop, the statements in loop after 'break' wont be executed and remaining iterations of loop wont be executed.\n",
        "for item in my_list:\n",
        "    if item == 'neat':  # checking if item is 'neat'\n",
        "        break  # if so, compiler breaks out of the for loop. The remaining iterations of loop wont take place.\n",
        "    print(item) # This line wont be executed if compiler has encountered break. Hence, we wont print anything after the item 'neat' is encountered"
      ],
      "execution_count": 106,
      "outputs": [
        {
          "output_type": "stream",
          "text": [
            "Python\n",
            "is\n",
            "a\n"
          ],
          "name": "stdout"
        }
      ]
    },
    {
      "cell_type": "code",
      "metadata": {
        "id": "PC7jyheQv1az",
        "colab_type": "code",
        "colab": {
          "base_uri": "https://localhost:8080/",
          "height": 88
        },
        "outputId": "ef79bbb7-1b22-49a9-816c-adababa74eed"
      },
      "source": [
        "# when continue is used, only that iteration of loop is stopped and loop jumps to the next iteration without executing the steps after 'continue'\n",
        "for item in my_list:\n",
        "    if item == 'neat':\n",
        "        continue\n",
        "    print(item)"
      ],
      "execution_count": 107,
      "outputs": [
        {
          "output_type": "stream",
          "text": [
            "Python\n",
            "is\n",
            "a\n",
            "language\n"
          ],
          "name": "stdout"
        }
      ]
    },
    {
      "cell_type": "code",
      "metadata": {
        "id": "t3urxEKmv26C",
        "colab_type": "code",
        "colab": {
          "base_uri": "https://localhost:8080/",
          "height": 70
        },
        "outputId": "065284ef-9178-4a88-e592-444a10ff8c3f"
      },
      "source": [
        "# Loop through dictionary\n",
        "my_dict = {'hacker': True, 'age': 72, 'name': 'John Doe'}\n",
        "for val in my_dict:\n",
        "    print(val)\n"
      ],
      "execution_count": 108,
      "outputs": [
        {
          "output_type": "stream",
          "text": [
            "hacker\n",
            "age\n",
            "name\n"
          ],
          "name": "stdout"
        }
      ]
    },
    {
      "cell_type": "code",
      "metadata": {
        "id": "Fw4zFvOiv7bi",
        "colab_type": "code",
        "colab": {
          "base_uri": "https://localhost:8080/",
          "height": 70
        },
        "outputId": "8014fbe1-441a-4e19-847a-c4aaa49685fe"
      },
      "source": [
        "# like enumerate was for list, dict.items() is for dictionary\n",
        "for key, val in my_dict.items():\n",
        "    print('{}={}'.format(key, val))"
      ],
      "execution_count": 109,
      "outputs": [
        {
          "output_type": "stream",
          "text": [
            "hacker=True\n",
            "age=72\n",
            "name=John Doe\n"
          ],
          "name": "stdout"
        }
      ]
    },
    {
      "cell_type": "code",
      "metadata": {
        "id": "PGyqRr-TwAVx",
        "colab_type": "code",
        "colab": {
          "base_uri": "https://localhost:8080/",
          "height": 35
        },
        "outputId": "5d6dd223-2c74-471f-ec5d-0e79970bffbc"
      },
      "source": [
        "# Range\n",
        "# Same as iterating from 0 to 4\n",
        "for number in range(5):\n",
        "    print(number, end=' ')"
      ],
      "execution_count": 110,
      "outputs": [
        {
          "output_type": "stream",
          "text": [
            "0 1 2 3 4 "
          ],
          "name": "stdout"
        }
      ]
    },
    {
      "cell_type": "code",
      "metadata": {
        "id": "45x2KAjcwDHo",
        "colab_type": "code",
        "colab": {
          "base_uri": "https://localhost:8080/",
          "height": 35
        },
        "outputId": "04fea0c4-a1e3-4a84-b976-8ef385e0b422"
      },
      "source": [
        "# Iterates from 2 to 4\n",
        "for number in range(2, 5):\n",
        "    print(number, end=' ')"
      ],
      "execution_count": 111,
      "outputs": [
        {
          "output_type": "stream",
          "text": [
            "2 3 4 "
          ],
          "name": "stdout"
        }
      ]
    },
    {
      "cell_type": "code",
      "metadata": {
        "id": "oBVY-yVMwEeh",
        "colab_type": "code",
        "colab": {
          "base_uri": "https://localhost:8080/",
          "height": 35
        },
        "outputId": "abde8448-339e-4c26-e6d2-2151b3ff5dd7"
      },
      "source": [
        "# Iterates from 0 to 9 incrementing by 2 after each loop. So number takes the values 0,2,4,6,8\n",
        "for number in range(0, 10, 2):  # last one is step\n",
        "    print(number, end=' ')"
      ],
      "execution_count": 112,
      "outputs": [
        {
          "output_type": "stream",
          "text": [
            "0 2 4 6 8 "
          ],
          "name": "stdout"
        }
      ]
    },
    {
      "cell_type": "code",
      "metadata": {
        "id": "KCXsd1vBwF4R",
        "colab_type": "code",
        "colab": {
          "base_uri": "https://localhost:8080/",
          "height": 35
        },
        "outputId": "a6df240d-5976-4440-b708-cdb2bbdfc6d9"
      },
      "source": [
        "# Reverse iteration. 0,2,4,6,8 but in reverse\n",
        "for number in reversed(range(0,10,2)):\n",
        "    print(number, end=' ')"
      ],
      "execution_count": 113,
      "outputs": [
        {
          "output_type": "stream",
          "text": [
            "8 6 4 2 0 "
          ],
          "name": "stdout"
        }
      ]
    },
    {
      "cell_type": "markdown",
      "metadata": {
        "id": "29mfw8lEwMlC",
        "colab_type": "text"
      },
      "source": [
        "### Condition"
      ]
    },
    {
      "cell_type": "code",
      "metadata": {
        "id": "vD-CTEWLwHPk",
        "colab_type": "code",
        "colab": {
          "base_uri": "https://localhost:8080/",
          "height": 35
        },
        "outputId": "53387fec-ec6f-47cc-b677-7a9b282028bd"
      },
      "source": [
        "var1 = 5\n",
        "var2 = 5.0\n",
        "\n",
        "# check if they are equal\n",
        "print(var1==var2)"
      ],
      "execution_count": 115,
      "outputs": [
        {
          "output_type": "stream",
          "text": [
            "True\n"
          ],
          "name": "stdout"
        }
      ]
    },
    {
      "cell_type": "code",
      "metadata": {
        "id": "oUMFA_TYwSWx",
        "colab_type": "code",
        "colab": {
          "base_uri": "https://localhost:8080/",
          "height": 35
        },
        "outputId": "4beca149-0016-43d9-cdf7-80b203bd1a4f"
      },
      "source": [
        "# not equals\n",
        "var1 != 6"
      ],
      "execution_count": 116,
      "outputs": [
        {
          "output_type": "execute_result",
          "data": {
            "text/plain": [
              "True"
            ]
          },
          "metadata": {
            "tags": []
          },
          "execution_count": 116
        }
      ]
    },
    {
      "cell_type": "code",
      "metadata": {
        "id": "nVcv9m-pwV-g",
        "colab_type": "code",
        "colab": {
          "base_uri": "https://localhost:8080/",
          "height": 52
        },
        "outputId": "100180e6-e60a-4c28-8883-9cde31f900f6"
      },
      "source": [
        "# True is different from 'True'\n",
        "print(type(True))\n",
        "print(type('True'))"
      ],
      "execution_count": 117,
      "outputs": [
        {
          "output_type": "stream",
          "text": [
            "<class 'bool'>\n",
            "<class 'str'>\n"
          ],
          "name": "stdout"
        }
      ]
    },
    {
      "cell_type": "code",
      "metadata": {
        "id": "qd8O9RE7whMA",
        "colab_type": "code",
        "colab": {
          "base_uri": "https://localhost:8080/",
          "height": 35
        },
        "outputId": "12204107-4968-47cb-8ce6-7bcd704aa1e1"
      },
      "source": [
        "a, b, c, d= 1,2,3,4\n",
        "\n",
        "if a < b < c < d:\n",
        "    print('from lowest to highest: a, b, c, d')"
      ],
      "execution_count": 118,
      "outputs": [
        {
          "output_type": "stream",
          "text": [
            "from lowest to highest: a, b, c, d\n"
          ],
          "name": "stdout"
        }
      ]
    },
    {
      "cell_type": "code",
      "metadata": {
        "id": "I1gJacV1wkTx",
        "colab_type": "code",
        "colab": {
          "base_uri": "https://localhost:8080/",
          "height": 35
        },
        "outputId": "458b0cca-86fa-47e1-c67d-4217df575a4a"
      },
      "source": [
        "# 3 conditions separated by and\n",
        "var2 == 5 and var1 != 6 and var1>2"
      ],
      "execution_count": 119,
      "outputs": [
        {
          "output_type": "execute_result",
          "data": {
            "text/plain": [
              "True"
            ]
          },
          "metadata": {
            "tags": []
          },
          "execution_count": 119
        }
      ]
    },
    {
      "cell_type": "code",
      "metadata": {
        "id": "BYOzeM_hwoFi",
        "colab_type": "code",
        "colab": {
          "base_uri": "https://localhost:8080/",
          "height": 35
        },
        "outputId": "bfdb7e7b-4a0c-46ca-9d38-1ae8f02d6232"
      },
      "source": [
        "# using and, or\n",
        "(var2 == 5 and var1 != 6) or var1>10\n",
        "\n",
        "# it works like this:\n",
        "# (T and T) or F\n",
        "# T or F\n",
        "# T"
      ],
      "execution_count": 120,
      "outputs": [
        {
          "output_type": "execute_result",
          "data": {
            "text/plain": [
              "True"
            ]
          },
          "metadata": {
            "tags": []
          },
          "execution_count": 120
        }
      ]
    },
    {
      "cell_type": "code",
      "metadata": {
        "id": "1-CivpARwr-z",
        "colab_type": "code",
        "colab": {
          "base_uri": "https://localhost:8080/",
          "height": 35
        },
        "outputId": "32e71e2e-26b4-4ce4-fa49-389aaf76d4ae"
      },
      "source": [
        "# Existance of a variable does not mean its boolean value is True. For boolean to be True, the variable should not be empty\n",
        "# Follow left to right\n",
        "\n",
        "python_is_cool = True\n",
        "java_is_cool = False\n",
        "empty_list = []\n",
        "secret_value = 3.14\n",
        "\n",
        "print( bool(not java_is_cool or secret_value and  python_is_cool or empty_list))"
      ],
      "execution_count": 121,
      "outputs": [
        {
          "output_type": "stream",
          "text": [
            "True\n"
          ],
          "name": "stdout"
        }
      ]
    },
    {
      "cell_type": "code",
      "metadata": {
        "id": "XiyIu5Uiw9yQ",
        "colab_type": "code",
        "colab": {}
      },
      "source": [
        "# How the above statment printed True?\n",
        "\n",
        "# (not F) or T and T or F\n",
        "# T or T and T or F\n",
        "# T and T or F\n",
        "# T or F\n",
        "# T"
      ],
      "execution_count": 122,
      "outputs": []
    },
    {
      "cell_type": "code",
      "metadata": {
        "id": "5mPZMtMrw_7D",
        "colab_type": "code",
        "colab": {
          "base_uri": "https://localhost:8080/",
          "height": 35
        },
        "outputId": "c0328990-aad1-4380-f3ba-796870a41cc9"
      },
      "source": [
        "# typecasting to bool\n",
        "bool (empty_list)"
      ],
      "execution_count": 123,
      "outputs": [
        {
          "output_type": "execute_result",
          "data": {
            "text/plain": [
              "False"
            ]
          },
          "metadata": {
            "tags": []
          },
          "execution_count": 123
        }
      ]
    },
    {
      "cell_type": "code",
      "metadata": {
        "id": "uWbrSrEbxBlH",
        "colab_type": "code",
        "colab": {
          "base_uri": "https://localhost:8080/",
          "height": 35
        },
        "outputId": "d3f5a0d1-1925-42ab-a93d-bdb1818d5de7"
      },
      "source": [
        "if (var1>2):\n",
        "    print( \"var1 is greater than 2.\", end=' ')\n",
        "    print( \"Its actual value is\",var1)\n",
        "# 'end' prints extra characters after executing the print statement"
      ],
      "execution_count": 124,
      "outputs": [
        {
          "output_type": "stream",
          "text": [
            "var1 is greater than 2. Its actual value is 5\n"
          ],
          "name": "stdout"
        }
      ]
    },
    {
      "cell_type": "code",
      "metadata": {
        "id": "vXAbv6_xxFN7",
        "colab_type": "code",
        "colab": {
          "base_uri": "https://localhost:8080/",
          "height": 35
        },
        "outputId": "ea03725d-f7ed-4ba2-8f7b-497fd950fc60"
      },
      "source": [
        "val = 88\n",
        "if val >= 100:\n",
        "    print('value is equal or greater than 100')\n",
        "elif val > 10:\n",
        "    print('value is greater than 10 but less than 100')\n",
        "else:\n",
        "    print('value is equal or less than 10')"
      ],
      "execution_count": 125,
      "outputs": [
        {
          "output_type": "stream",
          "text": [
            "value is greater than 10 but less than 100\n"
          ],
          "name": "stdout"
        }
      ]
    },
    {
      "cell_type": "code",
      "metadata": {
        "id": "WEe3-vWuxHzE",
        "colab_type": "code",
        "colab": {}
      },
      "source": [
        ""
      ],
      "execution_count": null,
      "outputs": []
    },
    {
      "cell_type": "markdown",
      "metadata": {
        "id": "fwGeS_Cky1jo",
        "colab_type": "text"
      },
      "source": [
        "is operator vs =="
      ]
    },
    {
      "cell_type": "code",
      "metadata": {
        "id": "dyM0t_x5y4nD",
        "colab_type": "code",
        "colab": {}
      },
      "source": [
        "list1 = [] \n",
        "list2 = [] \n",
        "list3=list1 "
      ],
      "execution_count": 126,
      "outputs": []
    },
    {
      "cell_type": "code",
      "metadata": {
        "id": "w5qgzgLBy7Iq",
        "colab_type": "code",
        "colab": {
          "base_uri": "https://localhost:8080/",
          "height": 88
        },
        "outputId": "5cf57253-edf4-4f3a-f3cb-c2f9c1085bdc"
      },
      "source": [
        "# == operator checks if value is same\n",
        "# is operator checks if both variables refer to the same object (here, list1 and list2 have same value but they are different objects)\n",
        "# For mutable objects like lists or dictionaries, list1=list2 makes them same objects and not copies. so if list1 changes, list2 also changes\n",
        "# For immutable objects, example intergers, if a=b, even if b changes lateron, a does not change because a is just a copy of b\n",
        "\n",
        "\n",
        "if (list1 == list2): \n",
        "    print(\"True\") \n",
        "else: \n",
        "    print(\"False\") \n",
        "\n",
        "if (list1 is list2): \n",
        "    print(\"True\") \n",
        "else: \n",
        "    print(\"False\") \n",
        "\n",
        "if (list1 is list3): \n",
        "    print(\"True\") \n",
        "else:     \n",
        "    print(\"False\") \n",
        "\n",
        "list3 = list3 + list2 \n",
        "  \n",
        "if (list1 is list3): \n",
        "    print(\"True\") \n",
        "else:     \n",
        "    print(\"False\") "
      ],
      "execution_count": 127,
      "outputs": [
        {
          "output_type": "stream",
          "text": [
            "True\n",
            "False\n",
            "True\n",
            "False\n"
          ],
          "name": "stdout"
        }
      ]
    },
    {
      "cell_type": "markdown",
      "metadata": {
        "id": "FTSxKfT1zAuZ",
        "colab_type": "text"
      },
      "source": [
        "## Tuples- \n",
        "Tuples are Immutable lists that appear in ( ) i.e. even the tuple's size can't be changed becuase it is immutable. To do that, we need to convert tuple to list first."
      ]
    },
    {
      "cell_type": "code",
      "metadata": {
        "id": "3JnqX5Uby8jQ",
        "colab_type": "code",
        "colab": {}
      },
      "source": [
        "t1= (1,2,3)"
      ],
      "execution_count": 128,
      "outputs": []
    },
    {
      "cell_type": "code",
      "metadata": {
        "id": "LGDkuVDszTcs",
        "colab_type": "code",
        "colab": {
          "base_uri": "https://localhost:8080/",
          "height": 185
        },
        "outputId": "b98f2982-bc67-4cdd-e336-549c381ccd6a"
      },
      "source": [
        "# Causes an error because it is immutable\n",
        "t1[0]= 53"
      ],
      "execution_count": 129,
      "outputs": [
        {
          "output_type": "error",
          "ename": "TypeError",
          "evalue": "ignored",
          "traceback": [
            "\u001b[0;31m---------------------------------------------------------------------------\u001b[0m",
            "\u001b[0;31mTypeError\u001b[0m                                 Traceback (most recent call last)",
            "\u001b[0;32m<ipython-input-129-6bfa862407cd>\u001b[0m in \u001b[0;36m<module>\u001b[0;34m()\u001b[0m\n\u001b[1;32m      1\u001b[0m \u001b[0;31m# Causes an error because it is immutable\u001b[0m\u001b[0;34m\u001b[0m\u001b[0;34m\u001b[0m\u001b[0;34m\u001b[0m\u001b[0m\n\u001b[0;32m----> 2\u001b[0;31m \u001b[0mt1\u001b[0m\u001b[0;34m[\u001b[0m\u001b[0;36m0\u001b[0m\u001b[0;34m]\u001b[0m\u001b[0;34m=\u001b[0m \u001b[0;36m53\u001b[0m\u001b[0;34m\u001b[0m\u001b[0;34m\u001b[0m\u001b[0m\n\u001b[0m",
            "\u001b[0;31mTypeError\u001b[0m: 'tuple' object does not support item assignment"
          ]
        }
      ]
    },
    {
      "cell_type": "code",
      "metadata": {
        "id": "vYbMtr6ZzUtm",
        "colab_type": "code",
        "colab": {
          "base_uri": "https://localhost:8080/",
          "height": 185
        },
        "outputId": "8bf95972-191f-4afe-8f07-b852059563ea"
      },
      "source": [
        "# tuples cannot be copied as they are immutable\n",
        "t2= t1.copy()"
      ],
      "execution_count": 130,
      "outputs": [
        {
          "output_type": "error",
          "ename": "AttributeError",
          "evalue": "ignored",
          "traceback": [
            "\u001b[0;31m---------------------------------------------------------------------------\u001b[0m",
            "\u001b[0;31mAttributeError\u001b[0m                            Traceback (most recent call last)",
            "\u001b[0;32m<ipython-input-130-7b6125650086>\u001b[0m in \u001b[0;36m<module>\u001b[0;34m()\u001b[0m\n\u001b[1;32m      1\u001b[0m \u001b[0;31m# tuples cannot be copied as they are immutable\u001b[0m\u001b[0;34m\u001b[0m\u001b[0;34m\u001b[0m\u001b[0;34m\u001b[0m\u001b[0m\n\u001b[0;32m----> 2\u001b[0;31m \u001b[0mt2\u001b[0m\u001b[0;34m=\u001b[0m \u001b[0mt1\u001b[0m\u001b[0;34m.\u001b[0m\u001b[0mcopy\u001b[0m\u001b[0;34m(\u001b[0m\u001b[0;34m)\u001b[0m\u001b[0;34m\u001b[0m\u001b[0;34m\u001b[0m\u001b[0m\n\u001b[0m",
            "\u001b[0;31mAttributeError\u001b[0m: 'tuple' object has no attribute 'copy'"
          ]
        }
      ]
    },
    {
      "cell_type": "code",
      "metadata": {
        "id": "I0CshjH0zWUH",
        "colab_type": "code",
        "colab": {
          "base_uri": "https://localhost:8080/",
          "height": 88
        },
        "outputId": "12e5af34-5dd5-40d7-9b8b-296e878b1f59"
      },
      "source": [
        "list1= [1,2,3]\n",
        "list2= list1\n",
        "list3= list1.copy()\n",
        "\n",
        "print(list2==list1)\n",
        "print(list3==list1)\n",
        "\n",
        "print(list2 is list1)\n",
        "print(list3 is list1)"
      ],
      "execution_count": 131,
      "outputs": [
        {
          "output_type": "stream",
          "text": [
            "True\n",
            "True\n",
            "True\n",
            "False\n"
          ],
          "name": "stdout"
        }
      ]
    },
    {
      "cell_type": "markdown",
      "metadata": {
        "id": "tCi3yYBVzcYC",
        "colab_type": "text"
      },
      "source": [
        "## Sets\n",
        "Immutable, unordered collection of unique elements"
      ]
    },
    {
      "cell_type": "code",
      "metadata": {
        "id": "t3c-asxhzYcQ",
        "colab_type": "code",
        "colab": {}
      },
      "source": [
        "list1= [1,2,3,4,5,5,4,3,\"Laptop\"]"
      ],
      "execution_count": 132,
      "outputs": []
    },
    {
      "cell_type": "code",
      "metadata": {
        "id": "7RBZY5mkzqNx",
        "colab_type": "code",
        "colab": {
          "base_uri": "https://localhost:8080/",
          "height": 35
        },
        "outputId": "d5f1c8a7-67f6-47bb-b526-3f0920d4c451"
      },
      "source": [
        "# Set is unordered list of unique elements. So when lists are converted to sets, they contain only unique values.\n",
        "set1= set(list1)\n",
        "print(set1)"
      ],
      "execution_count": 133,
      "outputs": [
        {
          "output_type": "stream",
          "text": [
            "{1, 2, 3, 4, 5, 'Laptop'}\n"
          ],
          "name": "stdout"
        }
      ]
    },
    {
      "cell_type": "code",
      "metadata": {
        "id": "VePZUgIlzroi",
        "colab_type": "code",
        "colab": {
          "base_uri": "https://localhost:8080/",
          "height": 185
        },
        "outputId": "80e0122e-eeae-4465-c1bd-0d0b9cde42d9"
      },
      "source": [
        "# Since sets are unordered, they don't have indices, hence throws an error if we try to index a set\n",
        "set1[0]"
      ],
      "execution_count": 134,
      "outputs": [
        {
          "output_type": "error",
          "ename": "TypeError",
          "evalue": "ignored",
          "traceback": [
            "\u001b[0;31m---------------------------------------------------------------------------\u001b[0m",
            "\u001b[0;31mTypeError\u001b[0m                                 Traceback (most recent call last)",
            "\u001b[0;32m<ipython-input-134-c17ee5cb0528>\u001b[0m in \u001b[0;36m<module>\u001b[0;34m()\u001b[0m\n\u001b[1;32m      1\u001b[0m \u001b[0;31m# Since sets are unordered, they don't have indices, hence throws an error if we try to index a set\u001b[0m\u001b[0;34m\u001b[0m\u001b[0;34m\u001b[0m\u001b[0;34m\u001b[0m\u001b[0m\n\u001b[0;32m----> 2\u001b[0;31m \u001b[0mset1\u001b[0m\u001b[0;34m[\u001b[0m\u001b[0;36m0\u001b[0m\u001b[0;34m]\u001b[0m\u001b[0;34m\u001b[0m\u001b[0;34m\u001b[0m\u001b[0m\n\u001b[0m",
            "\u001b[0;31mTypeError\u001b[0m: 'set' object does not support indexing"
          ]
        }
      ]
    }
  ]
}